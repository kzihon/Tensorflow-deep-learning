{
  "cells": [
    {
      "cell_type": "markdown",
      "metadata": {
        "id": "view-in-github",
        "colab_type": "text"
      },
      "source": [
        "<a href=\"https://colab.research.google.com/github/kzihon/Tensorflow-deep-learning/blob/main/03_convolutional_neural_networks_in_tensorflow.ipynb\" target=\"_parent\"><img src=\"https://colab.research.google.com/assets/colab-badge.svg\" alt=\"Open In Colab\"/></a>"
      ]
    },
    {
      "cell_type": "markdown",
      "metadata": {
        "id": "WiU99ORJwdFt"
      },
      "source": [
        "#Convolutional Neural Networks and Computer Vision with TensorFlow"
      ]
    },
    {
      "cell_type": "markdown",
      "metadata": {
        "id": "h2W1sIIS0UoK"
      },
      "source": [
        "##Get the data"
      ]
    },
    {
      "cell_type": "code",
      "execution_count": 2,
      "metadata": {
        "colab": {
          "base_uri": "https://localhost:8080/"
        },
        "id": "8aG3kqsn0UfO",
        "outputId": "f8e2a60f-53a9-4d1d-b14e-19bc59222a95"
      },
      "outputs": [
        {
          "output_type": "stream",
          "name": "stdout",
          "text": [
            "--2023-08-17 05:14:49--  https://storage.googleapis.com/ztm_tf_course/food_vision/pizza_steak.zip\n",
            "Resolving storage.googleapis.com (storage.googleapis.com)... 142.251.2.128, 74.125.137.128, 142.250.101.128, ...\n",
            "Connecting to storage.googleapis.com (storage.googleapis.com)|142.251.2.128|:443... connected.\n",
            "HTTP request sent, awaiting response... 200 OK\n",
            "Length: 109540975 (104M) [application/zip]\n",
            "Saving to: ‘pizza_steak.zip.1’\n",
            "\n",
            "pizza_steak.zip.1   100%[===================>] 104.47M   138MB/s    in 0.8s    \n",
            "\n",
            "2023-08-17 05:14:50 (138 MB/s) - ‘pizza_steak.zip.1’ saved [109540975/109540975]\n",
            "\n"
          ]
        }
      ],
      "source": [
        "import zipfile\n",
        "\n",
        "!wget https://storage.googleapis.com/ztm_tf_course/food_vision/pizza_steak.zip\n",
        "zip_ref=zipfile.ZipFile(\"pizza_steak.zip\", \"r\")\n",
        "zip_ref.extractall()\n",
        "zip_ref.close()"
      ]
    },
    {
      "cell_type": "code",
      "execution_count": null,
      "metadata": {
        "id": "i6IICgwy0USM"
      },
      "outputs": [],
      "source": [
        "!ls pizza_steak"
      ]
    },
    {
      "cell_type": "code",
      "execution_count": null,
      "metadata": {
        "id": "K-LY2a880Tyt"
      },
      "outputs": [],
      "source": [
        "!ls pizza_steak/train/"
      ]
    },
    {
      "cell_type": "code",
      "execution_count": null,
      "metadata": {
        "id": "7j_8AJ720Ztw"
      },
      "outputs": [],
      "source": [
        "!ls pizza_steak/train/steak/"
      ]
    },
    {
      "cell_type": "code",
      "execution_count": null,
      "metadata": {
        "id": "7SOV7asf4XA6"
      },
      "outputs": [],
      "source": [
        "from posixpath import dirname\n",
        "import os\n",
        "\n",
        "for dirpath, dirnames, filenames in os.walk(\"pizza_steak\"):\n",
        "  print(f\"There are {len(dirnames)} directories and {len(filenames)} images in '{dirpath}'.\")"
      ]
    },
    {
      "cell_type": "code",
      "execution_count": null,
      "metadata": {
        "id": "GDxZDocJ4W8W"
      },
      "outputs": [],
      "source": [
        "num_steak_images_trian = len(os.listdir(\"pizza_steak/train/steak\"))\n",
        "\n",
        "num_steak_images_trian"
      ]
    },
    {
      "cell_type": "code",
      "execution_count": null,
      "metadata": {
        "id": "zq6OiG7V4W2u"
      },
      "outputs": [],
      "source": [
        "import pathlib\n",
        "import numpy as np\n",
        "data_dir= pathlib.Path(\"pizza_steak/train/\")\n",
        "class_names= np.array(sorted([item.name for item in data_dir.glob('*')]))\n",
        "print(class_names)"
      ]
    },
    {
      "cell_type": "code",
      "execution_count": null,
      "metadata": {
        "id": "gk7xfaKx4WxU"
      },
      "outputs": [],
      "source": [
        "import matplotlib.pyplot as plt\n",
        "import matplotlib.image as mpimg\n",
        "import random\n",
        "\n",
        "def view_random_image(target_dir, target_class):\n",
        "  target_folder = target_dir + target_class\n",
        "  random_image = random.sample(os.listdir(target_folder), 1)\n",
        "  print( random_image)\n",
        "\n",
        "  img= mpimg.imread(target_folder + \"/\" + random_image[0])\n",
        "  plt.imshow(img)\n",
        "  plt.title(target_class)\n",
        "  plt.axis(\"off\");\n",
        "\n",
        "  print(f\"Image shape: {img.shape}\")\n",
        "  return img"
      ]
    },
    {
      "cell_type": "code",
      "execution_count": null,
      "metadata": {
        "id": "yx86sFET4WsE"
      },
      "outputs": [],
      "source": [
        "img = view_random_image(target_dir=\"pizza_steak/train/\", target_class= \"steak\")"
      ]
    },
    {
      "cell_type": "code",
      "execution_count": null,
      "metadata": {
        "id": "-FzX6Fsq4WnH"
      },
      "outputs": [],
      "source": [
        "img"
      ]
    },
    {
      "cell_type": "code",
      "execution_count": null,
      "metadata": {
        "id": "j5c9QnQ-4Whx"
      },
      "outputs": [],
      "source": [
        "# View the image shape\n",
        "img.shape # returns (width, height, colour channels)\n"
      ]
    },
    {
      "cell_type": "code",
      "execution_count": null,
      "metadata": {
        "id": "m9j7VJ0y4WcH"
      },
      "outputs": [],
      "source": [
        "img/255"
      ]
    },
    {
      "cell_type": "markdown",
      "metadata": {
        "id": "XrcVVTDJ4WW_"
      },
      "source": [
        "\n",
        "#A (typical) architecture of a convolutional neural network"
      ]
    },
    {
      "cell_type": "markdown",
      "metadata": {
        "id": "WVxw4JD-4WR6"
      },
      "source": [
        "##An end-to-end example"
      ]
    },
    {
      "cell_type": "code",
      "execution_count": null,
      "metadata": {
        "id": "mK0KNtxg4WMZ"
      },
      "outputs": [],
      "source": [
        "import tensorflow as tf\n",
        "from tensorflow.keras.preprocessing.image import ImageDataGenerator\n",
        "\n",
        "tf.random.set_seed(42)\n",
        "\n",
        "train_datagen = ImageDataGenerator(rescale=1./255)\n",
        "valid_datagen= ImageDataGenerator(rescale=1./255)\n",
        "\n",
        "train_dir = \"pizza_steak/train/\"\n",
        "test_dir = \"pizza_steak/test/\"\n",
        "\n",
        "train_data = train_datagen.flow_from_directory(train_dir,\n",
        "                                               batch_size=32,\n",
        "                                               target_size = (244, 244),\n",
        "                                               class_mode=\"binary\",\n",
        "                                               seed=42)\n",
        "\n",
        "valid_data = valid_datagen.flow_from_directory(test_dir,\n",
        "                                               batch_size=32,\n",
        "                                               target_size=(244,244),\n",
        "                                               class_mode=\"binary\",\n",
        "                                               seed=42)\n",
        "\n",
        "model_1 = tf.keras.models.Sequential([\n",
        "    tf.keras.layers.Conv2D(filters=10,\n",
        "                           kernel_size=3,\n",
        "                           activation=\"relu\",\n",
        "                           input_shape=(244,244,3)),\n",
        "    tf.keras.layers.Conv2D(10,3,activation=\"relu\"),\n",
        "    tf.keras.layers.MaxPool2D(pool_size=2,\n",
        "                              padding=\"valid\"),\n",
        "    tf.keras.layers.Conv2D(10,3,activation=\"relu\"),\n",
        "    tf.keras.layers.Conv2D(10,3,activation=\"relu\"),\n",
        "    tf.keras.layers.MaxPool2D(2),\n",
        "    tf.keras.layers.Flatten(),\n",
        "    tf.keras.layers.Dense(1,activation=\"sigmoid\")\n",
        "])\n",
        "\n",
        "\n",
        "model_1.compile(loss=\"binary_crossentropy\",\n",
        "                optimizer=tf.keras.optimizers.Adam(),\n",
        "                metrics=[\"accuracy\"])\n",
        "\n",
        "history_1= model_1.fit(train_data,\n",
        "                       epochs=5,\n",
        "                       steps_per_epoch=len(train_data),\n",
        "                       validation_data=valid_data,\n",
        "                       validation_steps=len(valid_data))"
      ]
    },
    {
      "cell_type": "code",
      "execution_count": null,
      "metadata": {
        "id": "eq2h6ynF4WHv"
      },
      "outputs": [],
      "source": [
        "model_1.summary()"
      ]
    },
    {
      "cell_type": "code",
      "execution_count": null,
      "metadata": {
        "id": "2xPz-xqN4WAx"
      },
      "outputs": [],
      "source": [
        "plt.figure()\n",
        "plt.subplot(1,2,1)\n",
        "steak_img= view_random_image(\"pizza_steak/train/\", \"steak\")\n",
        "plt.subplot(1,2,2)\n",
        "pizza_img = view_random_image(\"pizza_steak/train/\", \"pizza\")"
      ]
    },
    {
      "cell_type": "code",
      "execution_count": null,
      "metadata": {
        "id": "91MyQV4i4V7d"
      },
      "outputs": [],
      "source": [
        "\n",
        "# Create train and test data generators and rescale the data\n",
        "from tensorflow.keras.preprocessing.image import ImageDataGenerator\n",
        "train_datagen = ImageDataGenerator(rescale=1/255.)\n",
        "test_datagen = ImageDataGenerator(rescale=1/255.)"
      ]
    },
    {
      "cell_type": "code",
      "execution_count": null,
      "metadata": {
        "id": "NS5w6BsU4V17"
      },
      "outputs": [],
      "source": [
        "# Turn it into batches\n",
        "train_data = train_datagen.flow_from_directory(directory=train_dir,\n",
        "                                               target_size=(224, 224),\n",
        "                                               class_mode='binary',\n",
        "                                               batch_size=32)\n",
        "\n",
        "test_data = test_datagen.flow_from_directory(directory=test_dir,\n",
        "                                             target_size=(224, 224),\n",
        "                                             class_mode='binary',\n",
        "                                             batch_size=32)\n"
      ]
    },
    {
      "cell_type": "code",
      "execution_count": null,
      "metadata": {
        "id": "ndprk1u94Vtl"
      },
      "outputs": [],
      "source": [
        "images, labels = train_data.next()"
      ]
    },
    {
      "cell_type": "code",
      "execution_count": null,
      "metadata": {
        "id": "T1qjyUud4VnA"
      },
      "outputs": [],
      "source": [
        "len(images), len(labels)"
      ]
    },
    {
      "cell_type": "code",
      "execution_count": null,
      "metadata": {
        "id": "JJ8aIT8u4VgY"
      },
      "outputs": [],
      "source": [
        "images[:2], images[0].shape"
      ]
    },
    {
      "cell_type": "code",
      "execution_count": null,
      "metadata": {
        "id": "djxe4sCM4VaL"
      },
      "outputs": [],
      "source": [
        "labels"
      ]
    },
    {
      "cell_type": "code",
      "execution_count": null,
      "metadata": {
        "id": "HRYVDNbq4VTV"
      },
      "outputs": [],
      "source": [
        "# Make the creating of our model a little easier\n",
        "from tensorflow.keras.optimizers import Adam\n",
        "from tensorflow.keras.layers import Dense, Flatten, Conv2D, MaxPool2D, Activation\n",
        "from tensorflow.keras import Sequential"
      ]
    },
    {
      "cell_type": "code",
      "execution_count": null,
      "metadata": {
        "id": "8ZTvHWeq4VMC"
      },
      "outputs": [],
      "source": [
        "from keras.layers.attention.multi_head_attention import activation\n",
        "model_4 = Sequential([\n",
        "    Conv2D(filters=10,\n",
        "           kernel_size=3,\n",
        "           strides=1,\n",
        "           padding='valid',\n",
        "           activation='relu',\n",
        "           input_shape=(224,224,3)),\n",
        "    Conv2D(10,3,activation='relu'),\n",
        "    Conv2D(10,3,activation='relu'),\n",
        "    Flatten(),\n",
        "    Dense(1,activation='sigmoid')\n",
        "])"
      ]
    },
    {
      "cell_type": "code",
      "execution_count": null,
      "metadata": {
        "id": "Moh1-5Xr4VFm"
      },
      "outputs": [],
      "source": [
        "from keras.engine.training import optimizer\n",
        "model_4.compile(loss='binary_crossentropy',\n",
        "                optimizer=Adam(),\n",
        "                metrics=['accuracy'])"
      ]
    },
    {
      "cell_type": "code",
      "execution_count": null,
      "metadata": {
        "id": "pLWasjyA4U-8"
      },
      "outputs": [],
      "source": [
        "\n",
        "# Check lengths of training and test data generators\n",
        "len(train_data), len(test_data)\n"
      ]
    },
    {
      "cell_type": "code",
      "execution_count": null,
      "metadata": {
        "id": "4bJQBONg4U3u"
      },
      "outputs": [],
      "source": [
        "history_4=model_4.fit(train_data,\n",
        "                      epochs=5,\n",
        "                      steps_per_epoch=len(train_data),\n",
        "                      validation_data=test_data,\n",
        "                      validation_steps=len(test_data))"
      ]
    },
    {
      "cell_type": "markdown",
      "metadata": {
        "id": "imZbR2c-4Uww"
      },
      "source": [
        "##5. Evaluate the model"
      ]
    },
    {
      "cell_type": "code",
      "execution_count": null,
      "metadata": {
        "id": "Nakuy36B4Up3"
      },
      "outputs": [],
      "source": [
        "import pandas as pd\n",
        "pd.DataFrame(history_4.history).plot(figsize=(10, 7))"
      ]
    },
    {
      "cell_type": "code",
      "execution_count": null,
      "metadata": {
        "id": "q9cqdu2c4Ui1"
      },
      "outputs": [],
      "source": [
        "from keras.metrics.accuracy_metrics import accuracy\n",
        "def plot_loss_curves(history):\n",
        "  \"\"\"\n",
        "  retruns separate loss curves for taining and validation metrics.\n",
        "  \"\"\"\n",
        "  loss =  history.history['loss']\n",
        "  val_loss= history.history['val_loss']\n",
        "\n",
        "  accuracy = history.history['accuracy']\n",
        "  val_accuracy= history.history['val_accuracy']\n",
        "\n",
        "  epochs= range(len(history.history['loss']))\n",
        "\n",
        "  plt.plot(epochs, loss, label=\"training_loss\")\n",
        "  plt.plot(epochs, val_loss, label= \"val_loss\")\n",
        "  plt.title(\"Loss\")\n",
        "  plt.xlabel('Epochs')\n",
        "  plt.legend()\n",
        "\n",
        "  plt.figure()\n",
        "  plt.plot(epochs, accuracy, label='training_accuracy')\n",
        "  plt.plot(epochs, val_accuracy, label=\"val_accuracy\")\n",
        "  plt.title('Accuracy')\n",
        "  plt.xlabel('Epochs')\n",
        "  plt.legend();"
      ]
    },
    {
      "cell_type": "code",
      "execution_count": null,
      "metadata": {
        "id": "cFS1iM5X4Uba"
      },
      "outputs": [],
      "source": [
        "plot_loss_curves(history_4)"
      ]
    },
    {
      "cell_type": "markdown",
      "metadata": {
        "id": "sNmGlOY94UUG"
      },
      "source": [
        "###The ideal position for these two curves is to follow each other. If anything, the validation curve should be slightly under the training curve. If there's a large gap between the training curve and validation curve, it means your model is probably overfitting."
      ]
    },
    {
      "cell_type": "code",
      "execution_count": null,
      "metadata": {
        "id": "JauwGj7R4UNw"
      },
      "outputs": [],
      "source": [
        "\n",
        "# Check out our model's architecture\n",
        "model_4.summary()"
      ]
    },
    {
      "cell_type": "code",
      "execution_count": null,
      "metadata": {
        "id": "YCf-Ev4l4UG9"
      },
      "outputs": [],
      "source": [
        "model_5 = Sequential([\n",
        "    Conv2D(10,3,activation='relu', input_shape=(224,224,3)),\n",
        "    MaxPool2D(pool_size=2),\n",
        "    Conv2D(10,3,activation='relu'),\n",
        "    MaxPool2D(),\n",
        "    Conv2D(10,3,activation='relu'),\n",
        "    MaxPool2D(),\n",
        "    Flatten(),\n",
        "    Dense(1, activation='sigmoid')\n",
        "])"
      ]
    },
    {
      "cell_type": "code",
      "execution_count": null,
      "metadata": {
        "id": "yrh6UmxU4T_h"
      },
      "outputs": [],
      "source": [
        "# Compile model (same as model_4)\n",
        "model_5.compile(loss='binary_crossentropy',\n",
        "                optimizer=Adam(),\n",
        "                metrics=['accuracy'])\n",
        "\n",
        "\n",
        "# Fit the model\n",
        "history_5 = model_5.fit(train_data,\n",
        "                        epochs=5,\n",
        "                        steps_per_epoch=len(train_data),\n",
        "                        validation_data=test_data,\n",
        "                        validation_steps=len(test_data))\n"
      ]
    },
    {
      "cell_type": "code",
      "execution_count": null,
      "metadata": {
        "id": "C5faR6hv4T4L"
      },
      "outputs": [],
      "source": [
        "model_4.summary()"
      ]
    },
    {
      "cell_type": "code",
      "execution_count": null,
      "metadata": {
        "id": "y75EcKDa4Txb"
      },
      "outputs": [],
      "source": [
        "\n",
        "# Plot loss curves of model_5 results\n",
        "plot_loss_curves(history_5)"
      ]
    },
    {
      "cell_type": "code",
      "execution_count": null,
      "metadata": {
        "id": "mw8pgA3q4TqG"
      },
      "outputs": [],
      "source": [
        "# Create ImageDataGenerator training instance with data augmentation\n",
        "train_datagen_augmented = ImageDataGenerator(rescale=1/255.,\n",
        "                                            rotation_range = 20,\n",
        "                                            shear_range=0.2,\n",
        "                                            zoom_range=0.2,\n",
        "                                            width_shift_range=0.2,\n",
        "                                            height_shift_range=0.2,\n",
        "                                            horizontal_flip=True\n",
        "                                            )\n",
        "trin_datagen= ImageDataGenerator(rescale=1/255.)\n",
        "test_datagen = ImageDataGenerator(rescale=1/255.)"
      ]
    },
    {
      "cell_type": "code",
      "execution_count": null,
      "metadata": {
        "id": "9vCUqBsP4Tjk"
      },
      "outputs": [],
      "source": [
        "print(\"Augmented training images:\")\n",
        "train_data_augmented= train_datagen_augmented.flow_from_directory(train_dir,\n",
        "                                                                 target_size=(224,224),\n",
        "                                                                 batch_size=32,\n",
        "                                                                 class_mode='binary',\n",
        "                                                                 shuffle=False)\n",
        "\n",
        "# Create non-augmented data batches\n",
        "print(\"Non-augmented training images:\")\n",
        "train_data= train_datagen.flow_from_directory(test_dir,\n",
        "                                             target_size=(224,224),\n",
        "                                             batch_size=32,\n",
        "                                             class_mode='binary',\n",
        "                                             shuffle=False)\n",
        "print(\"Unchanged test images:\")\n",
        "test_data =test_datagen.flow_from_directory(test_dir,\n",
        "                                            target_size=(224,224),\n",
        "                                            batch_size=32,\n",
        "                                            class_mode='binary')"
      ]
    },
    {
      "cell_type": "code",
      "execution_count": null,
      "metadata": {
        "id": "rClc8XEs4Taz"
      },
      "outputs": [],
      "source": [
        "images, labels= train_data.next()\n",
        "augmented_images, augmented_labels =train_data_augmented.next()"
      ]
    },
    {
      "cell_type": "code",
      "execution_count": null,
      "metadata": {
        "id": "DsNXqzL-4TS5"
      },
      "outputs": [],
      "source": [
        "random_number=random.randint(0,32)\n",
        "plt.imshow(images[random_number])\n",
        "plt.title(f'orginal image')\n",
        "plt.axis(False)\n",
        "plt.figure()\n",
        "plt.imshow(augmented_images[random_number])\n",
        "plt.title(f\"Augmented image\")\n",
        "plt.axis(False)"
      ]
    },
    {
      "cell_type": "code",
      "execution_count": null,
      "metadata": {
        "id": "8yfxV8aJ4TNN"
      },
      "outputs": [],
      "source": [
        "model_6=Sequential([\n",
        "    Conv2D(10,3,activation='relu', input_shape=(224,224,3)),\n",
        "    MaxPool2D(pool_size=2),\n",
        "    Conv2D(10,3,activation='relu'),\n",
        "    MaxPool2D(),\n",
        "    Conv2D(10,3,activation='relu'),\n",
        "    MaxPool2D(),\n",
        "    Flatten(),\n",
        "    Dense(1,activation='sigmoid')\n",
        "])\n",
        "model_6.compile(loss= 'binary_crossentropy',\n",
        "                optimizer=Adam(),\n",
        "                metrics=['accuracy'])\n",
        "history_6= model_6.fit(train_data_augmented,\n",
        "                       epochs=5,\n",
        "                       steps_per_epoch= len(train_data_augmented),\n",
        "                       validation_data= test_data,\n",
        "                       validation_steps=len(test_data))"
      ]
    },
    {
      "cell_type": "code",
      "execution_count": null,
      "metadata": {
        "id": "GMsarF4S4TEr"
      },
      "outputs": [],
      "source": [
        "\n",
        "# Check model's performance history training on augmented data\n",
        "plot_loss_curves(history_6)"
      ]
    },
    {
      "cell_type": "code",
      "execution_count": null,
      "metadata": {
        "id": "jFnCoTDG4S-M"
      },
      "outputs": [],
      "source": [
        "# Import data and augment it from directories\n",
        "train_data_augmented_shuffled = train_datagen_augmented.flow_from_directory(train_dir,\n",
        "                                                                            target_size=(224,224),\n",
        "                                                                            batch_size=32,\n",
        "                                                                            class_mode='binary',\n",
        "                                                                            shuffle=True)"
      ]
    },
    {
      "cell_type": "code",
      "execution_count": null,
      "metadata": {
        "id": "Iy2b8iLG4S3E"
      },
      "outputs": [],
      "source": [
        "# Create the model (same as model_5 and model_6)\n",
        "model_7 = Sequential([\n",
        "  Conv2D(10, 3, activation='relu', input_shape=(224, 224, 3)),\n",
        "  MaxPool2D(),\n",
        "  Conv2D(10, 3, activation='relu'),\n",
        "  MaxPool2D(),\n",
        "  Conv2D(10, 3, activation='relu'),\n",
        "  MaxPool2D(),\n",
        "  Flatten(),\n",
        "  Dense(1, activation='sigmoid')\n",
        "])\n",
        "\n",
        "# Compile the model\n",
        "model_7.compile(loss='binary_crossentropy',\n",
        "                optimizer=Adam(),\n",
        "                metrics=['accuracy'])\n",
        "\n",
        "# Fit the model\n",
        "history_7 = model_7.fit(train_data_augmented_shuffled, # now the augmented data is shuffled\n",
        "                        epochs=5,\n",
        "                        steps_per_epoch=len(train_data_augmented_shuffled),\n",
        "                        validation_data=test_data,\n",
        "                        validation_steps=len(test_data))\n"
      ]
    },
    {
      "cell_type": "code",
      "execution_count": null,
      "metadata": {
        "id": "e8QXnvxG4Svy"
      },
      "outputs": [],
      "source": [
        "\n",
        "# Check model's performance history training on augmented data\n",
        "plot_loss_curves(history_7)\n"
      ]
    },
    {
      "cell_type": "code",
      "execution_count": null,
      "metadata": {
        "id": "pvjg-C0z4So-"
      },
      "outputs": [],
      "source": [
        "# Create a CNN model (same as Tiny VGG but for binary classification - https://poloclub.github.io/cnn-explainer/ )\n",
        "model_8 = Sequential([\n",
        "  Conv2D(10, 3, activation='relu', input_shape=(224, 224, 3)), # same input shape as our images\n",
        "  Conv2D(10, 3, activation='relu'),\n",
        "  MaxPool2D(),\n",
        "  Conv2D(10, 3, activation='relu'),\n",
        "  Conv2D(10, 3, activation='relu'),\n",
        "  MaxPool2D(),\n",
        "  Flatten(),\n",
        "  Dense(1, activation='sigmoid')\n",
        "])\n",
        "# Compile the model\n",
        "model_8.compile(loss=\"binary_crossentropy\",\n",
        "                optimizer=tf.keras.optimizers.Adam(),\n",
        "                metrics=[\"accuracy\"])\n",
        "\n",
        "# Fit the model\n",
        "history_8 = model_8.fit(train_data_augmented_shuffled,\n",
        "                        epochs=5,\n",
        "                        steps_per_epoch=len(train_data_augmented_shuffled),\n",
        "                        validation_data=test_data,\n",
        "                        validation_steps=len(test_data))"
      ]
    },
    {
      "cell_type": "code",
      "execution_count": null,
      "metadata": {
        "id": "UeWkTzSm4Shs"
      },
      "outputs": [],
      "source": [
        "# Check model_1 architecture (same as model_8)\n",
        "model_1.summary()"
      ]
    },
    {
      "cell_type": "code",
      "execution_count": null,
      "metadata": {
        "id": "55nDdGNr4Sat"
      },
      "outputs": [],
      "source": [
        "# Check model_1 architecture (same as model_8)\n",
        "model_8.summary()"
      ]
    },
    {
      "cell_type": "code",
      "execution_count": null,
      "metadata": {
        "id": "00FhNyjX4SSa"
      },
      "outputs": [],
      "source": [
        "# Check out the TinyVGG model performance\n",
        "plot_loss_curves(history_8)"
      ]
    },
    {
      "cell_type": "code",
      "execution_count": null,
      "metadata": {
        "id": "zsb1gKw54SKF"
      },
      "outputs": [],
      "source": [
        "\n",
        "# How does this training curve look compared to the one above?\n",
        "plot_loss_curves(history_1)"
      ]
    },
    {
      "cell_type": "markdown",
      "metadata": {
        "id": "nP5tGrqN4SB-"
      },
      "source": [
        "##Making a prediction with our trained model"
      ]
    },
    {
      "cell_type": "code",
      "execution_count": null,
      "metadata": {
        "id": "W8-GgYJr4R8a"
      },
      "outputs": [],
      "source": [
        "# Classes we're working with\n",
        "print(class_names)"
      ]
    },
    {
      "cell_type": "code",
      "execution_count": null,
      "metadata": {
        "id": "pxYZ2D0y4Rzv"
      },
      "outputs": [],
      "source": [
        "\n",
        "# View our example image\n",
        "!wget https://raw.githubusercontent.com/mrdbourke/tensorflow-deep-learning/main/images/03-steak.jpeg\n",
        "steak=mpimg.imread(\"03-steak.jpeg\")\n",
        "plt.imshow(steak)\n",
        "plt.axis(False)"
      ]
    },
    {
      "cell_type": "code",
      "execution_count": null,
      "metadata": {
        "id": "QxM7_b4W4Rtz"
      },
      "outputs": [],
      "source": [
        "\n",
        "# Check the shape of our image\n",
        "steak.shape"
      ]
    },
    {
      "cell_type": "code",
      "execution_count": null,
      "metadata": {
        "id": "MAHnW3XM4RmJ"
      },
      "outputs": [],
      "source": [
        "# Create a function to import an image and resize it to be able to be used with our model\n",
        "def load_and_prep_image(filename, img_shape=224):\n",
        "  \"\"\"\n",
        "  reads an image frome a filename, turns it into tensor and reshapes it to (img_shape, img_shape, color_channel)\n",
        "  \"\"\"\n",
        "\n",
        "  img= tf.io.read_file(filename)\n",
        "\n",
        "  # Decode the read file into a tensor & ensure 3 colour channels\n",
        "  # (our model is trained on images with 3 colour channels and sometimes images have 4 colour channels)\n",
        "  img= tf.image.decode_image(img, channels=3)\n",
        "\n",
        "    # Resize the image (to the same size our model was trained on)\n",
        "  img=tf.image.resize(img, size = [img_shape, img_shape])\n",
        "\n",
        "  # Rescale the image (get all values between 0 and 1)\n",
        "  img=img/255.\n",
        "  return img"
      ]
    },
    {
      "cell_type": "code",
      "execution_count": null,
      "metadata": {
        "id": "XaJ0WbQc4RfT"
      },
      "outputs": [],
      "source": [
        "# Load in and preprocess our custom image\n",
        "steak = load_and_prep_image(\"03-steak.jpeg\")\n",
        "steak\n"
      ]
    },
    {
      "cell_type": "code",
      "execution_count": null,
      "metadata": {
        "id": "82qs1Ukm4RY7"
      },
      "outputs": [],
      "source": [
        "model_8.predict(steak)"
      ]
    },
    {
      "cell_type": "markdown",
      "metadata": {
        "id": "PWCcoZdR4RRM"
      },
      "source": [
        "There's one more problem...\n",
        "\n",
        "Although our image is in the same shape as the images our model has been trained on, we're still missing a dimension.\n",
        "\n",
        "Remember how our model was trained in batches?\n",
        "\n",
        "Well, the batch size becomes the first dimension.\n",
        "\n",
        "So in reality, our model was trained on data in the shape of (batch_size, 224, 224, 3).\n",
        "\n",
        "We can fix this by adding an extra to our custom image tensor using tf.expand_dims."
      ]
    },
    {
      "cell_type": "code",
      "execution_count": null,
      "metadata": {
        "id": "HHhSrLRO4RJJ"
      },
      "outputs": [],
      "source": [
        "# Add an extra axis\n",
        "print(f\"Shape before new dimension: {steak.shape}\")\n",
        "steak = tf.expand_dims(steak, axis=0) # add an extra dimension at axis 0\n",
        "#steak = steak[tf.newaxis, ...] # alternative to the above, '...' is short for 'every other dimension'\n",
        "print(f\"Shape after new dimension: {steak.shape}\")\n",
        "steak\n"
      ]
    },
    {
      "cell_type": "code",
      "execution_count": null,
      "metadata": {
        "id": "NdwLnKDg4RB1"
      },
      "outputs": [],
      "source": [
        "# Make a prediction on custom image tensor\n",
        "pred = model_8.predict(steak)\n",
        "pred"
      ]
    },
    {
      "cell_type": "markdown",
      "metadata": {
        "id": "A1CgHqMn4Q6k"
      },
      "source": [
        "#Multi-class Classification"
      ]
    },
    {
      "cell_type": "code",
      "execution_count": null,
      "metadata": {
        "id": "IMTRxh-V4QzO"
      },
      "outputs": [],
      "source": [
        "import zipfile\n",
        "\n",
        "# Download zip file of 10_food_classes images\n",
        "# See how this data was created - https://github.com/mrdbourke/tensorflow-deep-learning/blob/main/extras/image_data_modification.ipynb\n",
        "!wget https://storage.googleapis.com/ztm_tf_course/food_vision/10_food_classes_all_data.zip\n",
        "\n",
        "# Unzip the downloaded file\n",
        "zip_ref = zipfile.ZipFile(\"10_food_classes_all_data.zip\", \"r\")\n",
        "zip_ref.extractall()\n",
        "zip_ref.close()\n",
        "\n"
      ]
    },
    {
      "cell_type": "code",
      "execution_count": null,
      "metadata": {
        "id": "x_Dw6WDd4QsD"
      },
      "outputs": [],
      "source": [
        "import os\n",
        "\n",
        "# Walk through 10_food_classes directory and list number of files\n",
        "for dirpath, dirnames, filenames in os.walk(\"10_food_classes_all_data\"):\n",
        "  print(f\"There are {len(dirnames)} directories and {len(filenames)} images in '{dirpath}'.\")"
      ]
    },
    {
      "cell_type": "code",
      "execution_count": null,
      "metadata": {
        "id": "7ks6YzWp4Qlm"
      },
      "outputs": [],
      "source": [
        "train_dir = \"10_food_classes_all_data/train/\"\n",
        "test_dir = \"10_food_classes_all_data/test/\"\n",
        "\n"
      ]
    },
    {
      "cell_type": "code",
      "execution_count": null,
      "metadata": {
        "id": "qnoh2bWW4Qer"
      },
      "outputs": [],
      "source": [
        "import pathlib\n",
        "import numpy as np\n",
        "data_dir=pathlib.Path(train_dir)\n",
        "class_names = np.array(sorted([item.name for item in data_dir.glob('*')]))\n",
        "print(class_names)"
      ]
    },
    {
      "cell_type": "code",
      "execution_count": null,
      "metadata": {
        "id": "I3wWjDxa4QW9"
      },
      "outputs": [],
      "source": [
        "# View a random image from the training dataset\n",
        "import random\n",
        "img = view_random_image(target_dir=train_dir,\n",
        "                        target_class=random.choice(class_names)) # get a random class name"
      ]
    },
    {
      "cell_type": "markdown",
      "metadata": {
        "id": "_AYJnrru4QPn"
      },
      "source": [
        "#2. Preprocess the data (prepare it for a model)"
      ]
    },
    {
      "cell_type": "code",
      "execution_count": null,
      "metadata": {
        "id": "w9eJcegA4QHk"
      },
      "outputs": [],
      "source": [
        "\n",
        "from tensorflow.keras.preprocessing.image import ImageDataGenerator\n",
        "\n",
        "# Rescale the data and create data generator instances\n",
        "train_datagen = ImageDataGenerator(rescale=1/255.)\n",
        "test_datagen = ImageDataGenerator(rescale=1/255.)\n",
        "\n",
        "train_data = train_datagen.flow_from_directory(train_dir,\n",
        "                                               target_size=(224,224),\n",
        "                                               batch_size=32,\n",
        "                                               class_mode='categorical')\n",
        "test_data = train_datagen.flow_from_directory(test_dir,\n",
        "                                              target_size=(224, 224),\n",
        "                                              batch_size=32,\n",
        "                                              class_mode='categorical')\n"
      ]
    },
    {
      "cell_type": "code",
      "execution_count": null,
      "metadata": {
        "id": "bkWNj8YA4QAk"
      },
      "outputs": [],
      "source": [
        "import tensorflow as tf\n",
        "from tensorflow.keras.models import Sequential\n",
        "from tensorflow.keras.layers import Conv2D, MaxPool2D, Flatten, Dense\n",
        "\n",
        "# Create our model (a clone of model_8, except to be multi-class)\n",
        "model_9 = Sequential([\n",
        "  Conv2D(10, 3, activation='relu', input_shape=(224, 224, 3)),\n",
        "  Conv2D(10, 3, activation='relu'),\n",
        "  MaxPool2D(),\n",
        "  Conv2D(10, 3, activation='relu'),\n",
        "  Conv2D(10, 3, activation='relu'),\n",
        "  MaxPool2D(),\n",
        "  Flatten(),\n",
        "  Dense(10,activation='softmax')# changed to have 10 neurons (same as number of classes) and 'softmax' activation\n",
        "])\n",
        "\n",
        "model_9.compile(loss= \"categorical_crossentropy\",\n",
        "                optimizer=tf.keras.optimizers.Adam(),\n",
        "                metrics=[\"accuracy\"])"
      ]
    },
    {
      "cell_type": "code",
      "execution_count": null,
      "metadata": {
        "id": "KtdV-xUO4P5S"
      },
      "outputs": [],
      "source": [
        "history_9 = model_9.fit(train_data,\n",
        "                        epochs=5,\n",
        "                        steps_per_epoch=len(train_data),\n",
        "                        validation_data = test_data,\n",
        "                        validation_steps=len(test_data))"
      ]
    },
    {
      "cell_type": "code",
      "execution_count": null,
      "metadata": {
        "id": "5Zo0Ca0Z4PyB"
      },
      "outputs": [],
      "source": []
    },
    {
      "cell_type": "code",
      "execution_count": null,
      "metadata": {
        "id": "3heJDjNi4PqI"
      },
      "outputs": [],
      "source": []
    },
    {
      "cell_type": "code",
      "execution_count": null,
      "metadata": {
        "id": "QtPC7XYF4PiT"
      },
      "outputs": [],
      "source": []
    },
    {
      "cell_type": "code",
      "execution_count": null,
      "metadata": {
        "id": "bBIvzbDt4PZ0"
      },
      "outputs": [],
      "source": []
    },
    {
      "cell_type": "code",
      "execution_count": null,
      "metadata": {
        "id": "9ABpZchx4PRs"
      },
      "outputs": [],
      "source": []
    },
    {
      "cell_type": "code",
      "execution_count": null,
      "metadata": {
        "id": "Txcpo1wC4PJR"
      },
      "outputs": [],
      "source": []
    },
    {
      "cell_type": "code",
      "execution_count": null,
      "metadata": {
        "id": "yu2vTalg4PAN"
      },
      "outputs": [],
      "source": []
    },
    {
      "cell_type": "code",
      "execution_count": null,
      "metadata": {
        "id": "UXDK6MFe4O2M"
      },
      "outputs": [],
      "source": []
    },
    {
      "cell_type": "code",
      "execution_count": null,
      "metadata": {
        "id": "ufc0pclm4Osa"
      },
      "outputs": [],
      "source": []
    },
    {
      "cell_type": "code",
      "execution_count": null,
      "metadata": {
        "id": "t6GDAOQh4Ojv"
      },
      "outputs": [],
      "source": []
    },
    {
      "cell_type": "code",
      "execution_count": null,
      "metadata": {
        "id": "YzumKBMg4OZJ"
      },
      "outputs": [],
      "source": []
    },
    {
      "cell_type": "code",
      "execution_count": null,
      "metadata": {
        "id": "-8P-5H2s4OQO"
      },
      "outputs": [],
      "source": []
    },
    {
      "cell_type": "code",
      "execution_count": null,
      "metadata": {
        "id": "eSg7b9Jz4OHZ"
      },
      "outputs": [],
      "source": []
    },
    {
      "cell_type": "code",
      "execution_count": null,
      "metadata": {
        "id": "0G5FW7n24Nkm"
      },
      "outputs": [],
      "source": [
        "b"
      ]
    },
    {
      "cell_type": "code",
      "execution_count": null,
      "metadata": {
        "id": "_K4s74704NaO"
      },
      "outputs": [],
      "source": []
    },
    {
      "cell_type": "code",
      "execution_count": null,
      "metadata": {
        "id": "1GVSZu1g4NPI"
      },
      "outputs": [],
      "source": []
    },
    {
      "cell_type": "code",
      "execution_count": null,
      "metadata": {
        "id": "uhrV8foJ4NCv"
      },
      "outputs": [],
      "source": []
    },
    {
      "cell_type": "code",
      "execution_count": null,
      "metadata": {
        "id": "ZTy5ZmjK4M4J"
      },
      "outputs": [],
      "source": []
    },
    {
      "cell_type": "code",
      "execution_count": null,
      "metadata": {
        "id": "Wzw8MkFg4Mu7"
      },
      "outputs": [],
      "source": []
    },
    {
      "cell_type": "code",
      "execution_count": null,
      "metadata": {
        "id": "J-e4q5NS4Mkr"
      },
      "outputs": [],
      "source": []
    },
    {
      "cell_type": "code",
      "execution_count": null,
      "metadata": {
        "id": "P47p0KrP4MaI"
      },
      "outputs": [],
      "source": []
    },
    {
      "cell_type": "code",
      "execution_count": null,
      "metadata": {
        "id": "fyCLnWPb4MPm"
      },
      "outputs": [],
      "source": []
    },
    {
      "cell_type": "code",
      "execution_count": null,
      "metadata": {
        "id": "-TOIv2pr4MEu"
      },
      "outputs": [],
      "source": []
    },
    {
      "cell_type": "code",
      "execution_count": null,
      "metadata": {
        "id": "zSlwsQp54L6f"
      },
      "outputs": [],
      "source": []
    },
    {
      "cell_type": "code",
      "execution_count": null,
      "metadata": {
        "id": "-KnDi30_4LuH"
      },
      "outputs": [],
      "source": []
    },
    {
      "cell_type": "code",
      "execution_count": null,
      "metadata": {
        "id": "O2wTlvjr4Lgj"
      },
      "outputs": [],
      "source": []
    },
    {
      "cell_type": "code",
      "execution_count": null,
      "metadata": {
        "id": "Z5dr6s9h4LVi"
      },
      "outputs": [],
      "source": []
    },
    {
      "cell_type": "code",
      "execution_count": null,
      "metadata": {
        "id": "HXKbFKqQ4LLo"
      },
      "outputs": [],
      "source": []
    },
    {
      "cell_type": "code",
      "execution_count": null,
      "metadata": {
        "id": "GHzhoNPH4LBU"
      },
      "outputs": [],
      "source": []
    },
    {
      "cell_type": "code",
      "execution_count": null,
      "metadata": {
        "id": "u9JZusOk4Kpm"
      },
      "outputs": [],
      "source": []
    },
    {
      "cell_type": "code",
      "execution_count": null,
      "metadata": {
        "id": "U2Waam_Z4Kfq"
      },
      "outputs": [],
      "source": []
    },
    {
      "cell_type": "code",
      "execution_count": null,
      "metadata": {
        "id": "xu4dZ6ez4KFd"
      },
      "outputs": [],
      "source": []
    },
    {
      "cell_type": "code",
      "execution_count": null,
      "metadata": {
        "id": "GYKkLE1o4J84"
      },
      "outputs": [],
      "source": []
    },
    {
      "cell_type": "code",
      "execution_count": null,
      "metadata": {
        "id": "VxeimTaS4JwJ"
      },
      "outputs": [],
      "source": []
    }
  ],
  "metadata": {
    "colab": {
      "provenance": [],
      "gpuType": "T4",
      "authorship_tag": "ABX9TyP9UIrFdRXx1rd1SRaX0kUQ",
      "include_colab_link": true
    },
    "kernelspec": {
      "display_name": "Python 3",
      "name": "python3"
    },
    "language_info": {
      "name": "python"
    },
    "accelerator": "GPU"
  },
  "nbformat": 4,
  "nbformat_minor": 0
}