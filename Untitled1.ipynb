{
  "nbformat": 4,
  "nbformat_minor": 0,
  "metadata": {
    "colab": {
      "provenance": [],
      "gpuType": "T4",
      "mount_file_id": "1mocawei4ixT2Atm4aLdH8eq4-fqgDE4x",
      "authorship_tag": "ABX9TyNRj+9rgkP/ik6ONkEA4Hpv",
      "include_colab_link": true
    },
    "kernelspec": {
      "name": "python3",
      "display_name": "Python 3"
    },
    "language_info": {
      "name": "python"
    },
    "accelerator": "GPU"
  },
  "cells": [
    {
      "cell_type": "markdown",
      "metadata": {
        "id": "view-in-github",
        "colab_type": "text"
      },
      "source": [
        "<a href=\"https://colab.research.google.com/github/kzihon/Tensorflow-deep-learning/blob/main/Untitled1.ipynb\" target=\"_parent\"><img src=\"https://colab.research.google.com/assets/colab-badge.svg\" alt=\"Open In Colab\"/></a>"
      ]
    },
    {
      "cell_type": "markdown",
      "source": [
        "## Tensorflow fd"
      ],
      "metadata": {
        "id": "BRsTSk09HwMH"
      }
    },
    {
      "cell_type": "code",
      "source": [
        "import tensorflow as tf\n",
        "print(tf.__version__)"
      ],
      "metadata": {
        "colab": {
          "base_uri": "https://localhost:8080/"
        },
        "id": "QQkkg9ciMD4r",
        "outputId": "9818ea26-93b4-44fc-dba3-4caf55fafa4f"
      },
      "execution_count": null,
      "outputs": [
        {
          "output_type": "stream",
          "name": "stdout",
          "text": [
            "2.12.0\n"
          ]
        }
      ]
    },
    {
      "cell_type": "markdown",
      "source": [
        "### creating tensors with `tf.constant()`"
      ],
      "metadata": {
        "id": "TDv9vINuW66v"
      }
    },
    {
      "cell_type": "markdown",
      "source": [
        "###creating Tensors with `tf.variable`"
      ],
      "metadata": {
        "id": "xEcht3uyXLRR"
      }
    },
    {
      "cell_type": "code",
      "source": [
        "x=tf.constant([[1,2,3],\n",
        "               [4,45,6],\n",
        "               [6,3,5]])\n",
        "x"
      ],
      "metadata": {
        "colab": {
          "base_uri": "https://localhost:8080/"
        },
        "id": "YeYH6kvdXRjE",
        "outputId": "2ca7bd34-b376-4076-f0d8-ea343b046709"
      },
      "execution_count": null,
      "outputs": [
        {
          "output_type": "execute_result",
          "data": {
            "text/plain": [
              "<tf.Tensor: shape=(3, 3), dtype=int32, numpy=\n",
              "array([[ 1,  2,  3],\n",
              "       [ 4, 45,  6],\n",
              "       [ 6,  3,  5]], dtype=int32)>"
            ]
          },
          "metadata": {},
          "execution_count": 3
        }
      ]
    },
    {
      "cell_type": "code",
      "source": [
        "x[0,0]"
      ],
      "metadata": {
        "colab": {
          "base_uri": "https://localhost:8080/"
        },
        "id": "qqMBnLH7SXye",
        "outputId": "0b316519-d1b6-4789-f485-4b02066b8ebd"
      },
      "execution_count": null,
      "outputs": [
        {
          "output_type": "execute_result",
          "data": {
            "text/plain": [
              "<tf.Tensor: shape=(), dtype=int32, numpy=1>"
            ]
          },
          "metadata": {},
          "execution_count": 4
        }
      ]
    },
    {
      "cell_type": "code",
      "source": [
        "rank_4=tf.zeros(shape=[1,2,3,4], dtype=dtypes.int16)\n",
        "rank_4"
      ],
      "metadata": {
        "colab": {
          "base_uri": "https://localhost:8080/",
          "height": 187
        },
        "id": "ryJmWsT6UECX",
        "outputId": "c78a0dc0-2285-4b5f-9697-57eeda572d81"
      },
      "execution_count": null,
      "outputs": [
        {
          "output_type": "error",
          "ename": "NameError",
          "evalue": "ignored",
          "traceback": [
            "\u001b[0;31m---------------------------------------------------------------------------\u001b[0m",
            "\u001b[0;31mNameError\u001b[0m                                 Traceback (most recent call last)",
            "\u001b[0;32m<ipython-input-6-af227c291bc2>\u001b[0m in \u001b[0;36m<cell line: 1>\u001b[0;34m()\u001b[0m\n\u001b[0;32m----> 1\u001b[0;31m \u001b[0mrank_4\u001b[0m\u001b[0;34m=\u001b[0m\u001b[0mtf\u001b[0m\u001b[0;34m.\u001b[0m\u001b[0mzeros\u001b[0m\u001b[0;34m(\u001b[0m\u001b[0mshape\u001b[0m\u001b[0;34m=\u001b[0m\u001b[0;34m[\u001b[0m\u001b[0;36m1\u001b[0m\u001b[0;34m,\u001b[0m\u001b[0;36m2\u001b[0m\u001b[0;34m,\u001b[0m\u001b[0;36m3\u001b[0m\u001b[0;34m,\u001b[0m\u001b[0;36m4\u001b[0m\u001b[0;34m]\u001b[0m\u001b[0;34m,\u001b[0m \u001b[0mdtype\u001b[0m\u001b[0;34m=\u001b[0m\u001b[0mdtypes\u001b[0m\u001b[0;34m.\u001b[0m\u001b[0mint16\u001b[0m\u001b[0;34m)\u001b[0m\u001b[0;34m\u001b[0m\u001b[0;34m\u001b[0m\u001b[0m\n\u001b[0m\u001b[1;32m      2\u001b[0m \u001b[0mrank_4\u001b[0m\u001b[0;34m\u001b[0m\u001b[0;34m\u001b[0m\u001b[0m\n",
            "\u001b[0;31mNameError\u001b[0m: name 'dtypes' is not defined"
          ]
        }
      ]
    },
    {
      "cell_type": "code",
      "source": [],
      "metadata": {
        "id": "iBoFQVpFIoPl"
      },
      "execution_count": null,
      "outputs": []
    },
    {
      "cell_type": "code",
      "source": [],
      "metadata": {
        "id": "uA91UQfJIoj9"
      },
      "execution_count": null,
      "outputs": []
    },
    {
      "cell_type": "code",
      "source": [
        "tf.random.shuffle(x)"
      ],
      "metadata": {
        "id": "p34ltyKtXViE"
      },
      "execution_count": null,
      "outputs": []
    },
    {
      "cell_type": "code",
      "source": [
        "tf.random.set_seed(12)\n",
        "tf.random.shuffle(x)\n"
      ],
      "metadata": {
        "id": "CKRY805mXJXj"
      },
      "execution_count": null,
      "outputs": []
    },
    {
      "cell_type": "code",
      "source": [
        "tf.random.shuffle(x, seed=78)"
      ],
      "metadata": {
        "id": "fRmF73_pXGtd"
      },
      "execution_count": null,
      "outputs": []
    },
    {
      "cell_type": "code",
      "source": [
        "tf.random.set_seed(19)\n",
        "tf.random.shuffle(x, seed=66)"
      ],
      "metadata": {
        "id": "xzcSI_mbPYPC"
      },
      "execution_count": null,
      "outputs": []
    },
    {
      "cell_type": "code",
      "source": [
        "\n",
        "y=tf.ones(shape=[2,2,3,4] )\n",
        "y"
      ],
      "metadata": {
        "colab": {
          "base_uri": "https://localhost:8080/"
        },
        "id": "P5ljo3zrFaG0",
        "outputId": "67378aaf-b34a-49aa-e7da-4298a728b3c1"
      },
      "execution_count": null,
      "outputs": [
        {
          "output_type": "execute_result",
          "data": {
            "text/plain": [
              "<tf.Tensor: shape=(2, 2, 3, 4), dtype=float32, numpy=\n",
              "array([[[[1., 1., 1., 1.],\n",
              "         [1., 1., 1., 1.],\n",
              "         [1., 1., 1., 1.]],\n",
              "\n",
              "        [[1., 1., 1., 1.],\n",
              "         [1., 1., 1., 1.],\n",
              "         [1., 1., 1., 1.]]],\n",
              "\n",
              "\n",
              "       [[[1., 1., 1., 1.],\n",
              "         [1., 1., 1., 1.],\n",
              "         [1., 1., 1., 1.]],\n",
              "\n",
              "        [[1., 1., 1., 1.],\n",
              "         [1., 1., 1., 1.],\n",
              "         [1., 1., 1., 1.]]]], dtype=float32)>"
            ]
          },
          "metadata": {},
          "execution_count": 7
        }
      ]
    },
    {
      "cell_type": "code",
      "source": [
        "t1=tf.constant([[1,2,5],\n",
        "                [7,2,1],\n",
        "                [3,3,3]])\n",
        "t2=tf.constant([[3,5],\n",
        "               [6,7],\n",
        "               [1,8]])\n",
        "\n",
        "tf.tensordot(t1, t2, axes=1)"
      ],
      "metadata": {
        "colab": {
          "base_uri": "https://localhost:8080/"
        },
        "id": "hl_Ja2cUqYqB",
        "outputId": "c7f5271c-ba68-415f-a932-a74cdba4c3fa"
      },
      "execution_count": null,
      "outputs": [
        {
          "output_type": "execute_result",
          "data": {
            "text/plain": [
              "<tf.Tensor: shape=(3, 2), dtype=int32, numpy=\n",
              "array([[20, 59],\n",
              "       [34, 57],\n",
              "       [30, 60]], dtype=int32)>"
            ]
          },
          "metadata": {},
          "execution_count": 8
        }
      ]
    },
    {
      "cell_type": "code",
      "source": [],
      "metadata": {
        "id": "4NMNwqxLqVTm"
      },
      "execution_count": null,
      "outputs": []
    },
    {
      "cell_type": "code",
      "source": [
        "y[:1,:1,:1,:]"
      ],
      "metadata": {
        "colab": {
          "base_uri": "https://localhost:8080/"
        },
        "id": "QH5ZdZOLFbw1",
        "outputId": "507fef65-53bf-494e-f61c-ada1e5c21d3a"
      },
      "execution_count": null,
      "outputs": [
        {
          "output_type": "execute_result",
          "data": {
            "text/plain": [
              "<tf.Tensor: shape=(1, 1, 1, 4), dtype=float32, numpy=array([[[[1., 1., 1., 1.]]]], dtype=float32)>"
            ]
          },
          "metadata": {},
          "execution_count": 9
        }
      ]
    },
    {
      "cell_type": "code",
      "source": [
        "k=tf.constant([90,4,8])\n",
        "tf.math.reduce_variance(tf.cast(k, dtype=tf.float32))"
      ],
      "metadata": {
        "colab": {
          "base_uri": "https://localhost:8080/"
        },
        "id": "bhJeZbYd9i2H",
        "outputId": "fc03a729-1b90-4509-d386-a1472ba816f1"
      },
      "execution_count": null,
      "outputs": [
        {
          "output_type": "execute_result",
          "data": {
            "text/plain": [
              "<tf.Tensor: shape=(), dtype=float32, numpy=1570.6666>"
            ]
          },
          "metadata": {},
          "execution_count": 10
        }
      ]
    },
    {
      "cell_type": "code",
      "source": [
        "indices = [0, 1, 2]\n",
        "depth = 3\n",
        "tf.one_hot(indices, depth)"
      ],
      "metadata": {
        "colab": {
          "base_uri": "https://localhost:8080/"
        },
        "id": "5e_DfJdOIeKS",
        "outputId": "8257849a-124d-44c7-8056-87f9b204b93f"
      },
      "execution_count": null,
      "outputs": [
        {
          "output_type": "execute_result",
          "data": {
            "text/plain": [
              "<tf.Tensor: shape=(3, 3), dtype=float32, numpy=\n",
              "array([[1., 0., 0.],\n",
              "       [0., 1., 0.],\n",
              "       [0., 0., 1.]], dtype=float32)>"
            ]
          },
          "metadata": {},
          "execution_count": 11
        }
      ]
    },
    {
      "cell_type": "code",
      "source": [
        "indices = [0, 1, 2]\n",
        "depth = 3\n",
        "tf.one_hot(indices, depth, on_value=\"k\" , off_value=\"l\")"
      ],
      "metadata": {
        "colab": {
          "base_uri": "https://localhost:8080/"
        },
        "id": "t3v7-qyFIsvT",
        "outputId": "ad0d84de-5c14-40ac-c892-dd774520a848"
      },
      "execution_count": null,
      "outputs": [
        {
          "output_type": "execute_result",
          "data": {
            "text/plain": [
              "<tf.Tensor: shape=(3, 3), dtype=string, numpy=\n",
              "array([[b'k', b'l', b'l'],\n",
              "       [b'l', b'k', b'l'],\n",
              "       [b'l', b'l', b'k']], dtype=object)>"
            ]
          },
          "metadata": {},
          "execution_count": 12
        }
      ]
    },
    {
      "cell_type": "code",
      "source": [
        "h=tf.range(1,9)\n",
        "h"
      ],
      "metadata": {
        "colab": {
          "base_uri": "https://localhost:8080/"
        },
        "id": "o28CH3FmKl2r",
        "outputId": "50259252-c6a5-4753-f0da-460cc0c7cda2"
      },
      "execution_count": null,
      "outputs": [
        {
          "output_type": "execute_result",
          "data": {
            "text/plain": [
              "<tf.Tensor: shape=(8,), dtype=int32, numpy=array([1, 2, 3, 4, 5, 6, 7, 8], dtype=int32)>"
            ]
          },
          "metadata": {},
          "execution_count": 13
        }
      ]
    },
    {
      "cell_type": "code",
      "source": [
        "tf.square(h)"
      ],
      "metadata": {
        "colab": {
          "base_uri": "https://localhost:8080/"
        },
        "id": "HHjfV_a0Kmhc",
        "outputId": "5bc124dd-1f16-4cd2-fd7c-3173d3939b37"
      },
      "execution_count": null,
      "outputs": [
        {
          "output_type": "execute_result",
          "data": {
            "text/plain": [
              "<tf.Tensor: shape=(8,), dtype=int32, numpy=array([ 1,  4,  9, 16, 25, 36, 49, 64], dtype=int32)>"
            ]
          },
          "metadata": {},
          "execution_count": 14
        }
      ]
    },
    {
      "cell_type": "code",
      "source": [
        "tf.sqrt(tf.cast(h, dtype=tf.float32))"
      ],
      "metadata": {
        "colab": {
          "base_uri": "https://localhost:8080/"
        },
        "id": "3OMdDB8pKnAR",
        "outputId": "0450651c-4297-4bdb-9181-b021a15d5659"
      },
      "execution_count": null,
      "outputs": [
        {
          "output_type": "execute_result",
          "data": {
            "text/plain": [
              "<tf.Tensor: shape=(8,), dtype=float32, numpy=\n",
              "array([1.       , 1.4142135, 1.7320508, 2.       , 2.2360678, 2.4494896,\n",
              "       2.6457512, 2.828427 ], dtype=float32)>"
            ]
          },
          "metadata": {},
          "execution_count": 15
        }
      ]
    },
    {
      "cell_type": "code",
      "source": [
        "import tensorflow as tf\n",
        "\n",
        "tf.config.list_physical_devices()"
      ],
      "metadata": {
        "colab": {
          "base_uri": "https://localhost:8080/"
        },
        "id": "y_YFKIebKoNB",
        "outputId": "97bb47b7-b463-4e85-a654-48326d62e201"
      },
      "execution_count": null,
      "outputs": [
        {
          "output_type": "execute_result",
          "data": {
            "text/plain": [
              "[PhysicalDevice(name='/physical_device:CPU:0', device_type='CPU'),\n",
              " PhysicalDevice(name='/physical_device:GPU:0', device_type='GPU')]"
            ]
          },
          "metadata": {},
          "execution_count": 16
        }
      ]
    },
    {
      "cell_type": "code",
      "source": [
        "!nvidia-smi"
      ],
      "metadata": {
        "colab": {
          "base_uri": "https://localhost:8080/"
        },
        "id": "ZSaNcLIFVenF",
        "outputId": "fe064897-e2e5-433e-9c75-c671559ef29f"
      },
      "execution_count": null,
      "outputs": [
        {
          "output_type": "stream",
          "name": "stdout",
          "text": [
            "Sat Aug  5 06:52:35 2023       \n",
            "+-----------------------------------------------------------------------------+\n",
            "| NVIDIA-SMI 525.105.17   Driver Version: 525.105.17   CUDA Version: 12.0     |\n",
            "|-------------------------------+----------------------+----------------------+\n",
            "| GPU  Name        Persistence-M| Bus-Id        Disp.A | Volatile Uncorr. ECC |\n",
            "| Fan  Temp  Perf  Pwr:Usage/Cap|         Memory-Usage | GPU-Util  Compute M. |\n",
            "|                               |                      |               MIG M. |\n",
            "|===============================+======================+======================|\n",
            "|   0  Tesla T4            Off  | 00000000:00:04.0 Off |                    0 |\n",
            "| N/A   49C    P0    26W /  70W |    389MiB / 15360MiB |      0%      Default |\n",
            "|                               |                      |                  N/A |\n",
            "+-------------------------------+----------------------+----------------------+\n",
            "                                                                               \n",
            "+-----------------------------------------------------------------------------+\n",
            "| Processes:                                                                  |\n",
            "|  GPU   GI   CI        PID   Type   Process name                  GPU Memory |\n",
            "|        ID   ID                                                   Usage      |\n",
            "|=============================================================================|\n",
            "+-----------------------------------------------------------------------------+\n"
          ]
        }
      ]
    },
    {
      "cell_type": "markdown",
      "source": [
        "if you have access to CUDA, Tensorflo will authomatically use it"
      ],
      "metadata": {
        "id": "ILHNbDsUV5Nn"
      }
    },
    {
      "cell_type": "markdown",
      "source": [
        " 00. TensorFlow Fundamentals Exercises\n",
        "\n",
        "Find the shape, rank and size of the tensors you created in 1.\n",
        "Create two tensors containing random values between 0 and 1 with shape [5, 300].\n",
        "Multiply the two tensors you created in 3 using matrix multiplication.\n",
        "Multiply the two tensors you created in 3 using dot product.\n",
        "Create a tensor with random values between 0 and 1 with shape [224, 224, 3].\n",
        "Find the min and max values of the tensor you created in 6 along the first axis.\n",
        "Created a tensor with random values of shape [1, 224, 224, 3] then squeeze it to change the shape to [224, 224, 3].\n",
        "Create a tensor with shape [10] using your own choice of values, then find the index which has the maximum value.\n",
        "One-hot encode the tensor you created in 9.\n"
      ],
      "metadata": {
        "id": "cOxgrf9Za711"
      }
    },
    {
      "cell_type": "markdown",
      "source": [],
      "metadata": {
        "id": "7gtky2FSa9Rt"
      }
    },
    {
      "cell_type": "code",
      "source": [
        "#Create a vector, scalar, matrix and tensor with values of your choosing using tf.constant().\n",
        "a=tf.constant([[3,3],\n",
        "              [3,4]])\n",
        "a"
      ],
      "metadata": {
        "colab": {
          "base_uri": "https://localhost:8080/"
        },
        "id": "Rl35wX0kaicS",
        "outputId": "fc1e2d96-49f9-410a-b61d-00e44483b661"
      },
      "execution_count": null,
      "outputs": [
        {
          "output_type": "execute_result",
          "data": {
            "text/plain": [
              "<tf.Tensor: shape=(2, 2), dtype=int32, numpy=\n",
              "array([[3, 3],\n",
              "       [3, 4]], dtype=int32)>"
            ]
          },
          "metadata": {},
          "execution_count": 18
        }
      ]
    },
    {
      "cell_type": "code",
      "source": [
        "#Find the shape, rank and size of the tensors you created in 1.\n",
        "\n",
        "tf.size(a)"
      ],
      "metadata": {
        "colab": {
          "base_uri": "https://localhost:8080/"
        },
        "id": "8djacTwsbhAN",
        "outputId": "db84c068-2299-45ca-df4c-7ba9381b1c97"
      },
      "execution_count": null,
      "outputs": [
        {
          "output_type": "execute_result",
          "data": {
            "text/plain": [
              "<tf.Tensor: shape=(), dtype=int32, numpy=4>"
            ]
          },
          "metadata": {},
          "execution_count": 19
        }
      ]
    },
    {
      "cell_type": "code",
      "source": [
        "#Create two tensors containing random values between 0 and 1 with shape [5, 300].\n",
        "\n",
        "a= tf.random.normal([5,300], 0, 1, dtype=tf.dtypes.float32)\n",
        "b= tf.random.normal([300,5], 0, 1, dtype=tf.dtypes.float32)\n",
        "a, b"
      ],
      "metadata": {
        "colab": {
          "base_uri": "https://localhost:8080/"
        },
        "id": "IMm9a2UtcUjK",
        "outputId": "30959042-4d2d-462b-c4dc-f59b67d4c7e4"
      },
      "execution_count": null,
      "outputs": [
        {
          "output_type": "execute_result",
          "data": {
            "text/plain": [
              "(<tf.Tensor: shape=(5, 300), dtype=float32, numpy=\n",
              " array([[ 0.37658468,  0.24065116,  0.91153383, ..., -0.1793704 ,\n",
              "          0.60070765, -0.14072797],\n",
              "        [ 0.12757902, -0.1541126 ,  0.48344803, ...,  1.3880527 ,\n",
              "         -0.11716785,  0.92497206],\n",
              "        [-1.4823364 , -1.0716563 , -0.04489446, ..., -0.99633265,\n",
              "          0.24398598,  1.5280507 ],\n",
              "        [ 1.5671843 , -0.06951123,  0.21812528, ..., -0.7750681 ,\n",
              "         -2.7611487 , -0.14278263],\n",
              "        [ 0.93099076, -0.13934688, -0.6293212 , ...,  0.13233986,\n",
              "         -0.4511474 ,  1.052852  ]], dtype=float32)>,\n",
              " <tf.Tensor: shape=(300, 5), dtype=float32, numpy=\n",
              " array([[-0.2863273 , -0.3549841 ,  0.7879926 , -0.7075511 , -1.9224193 ],\n",
              "        [ 0.26817766, -0.9162493 , -0.76124394, -0.75198746,  0.17897871],\n",
              "        [ 2.2684686 ,  0.40671974,  0.02209101, -0.2818141 , -0.6898297 ],\n",
              "        ...,\n",
              "        [-0.10141575,  0.9935213 ,  0.02014576, -0.8002002 ,  0.7871581 ],\n",
              "        [-1.4741353 , -0.85404134,  0.36341265,  1.387405  , -0.33857024],\n",
              "        [ 0.19008599,  0.12858076, -0.42585054,  0.2859397 , -0.52798796]],\n",
              "       dtype=float32)>)"
            ]
          },
          "metadata": {},
          "execution_count": 20
        }
      ]
    },
    {
      "cell_type": "code",
      "source": [
        "tf.matmul(a,b)\n"
      ],
      "metadata": {
        "colab": {
          "base_uri": "https://localhost:8080/"
        },
        "id": "uTuDSogBeNbQ",
        "outputId": "3f93f65d-ce0f-4506-c9e8-edfebdf533bf"
      },
      "execution_count": null,
      "outputs": [
        {
          "output_type": "execute_result",
          "data": {
            "text/plain": [
              "<tf.Tensor: shape=(5, 5), dtype=float32, numpy=\n",
              "array([[-1.93932676e+00,  1.20779848e+01,  1.23268223e+01,\n",
              "         3.54908524e+01, -1.60764897e+00],\n",
              "       [-2.00086098e+01, -5.13194752e+00, -5.97352743e+00,\n",
              "         4.73872643e+01,  1.53432512e+01],\n",
              "       [ 1.79483008e+00,  1.42219305e+01,  2.16562824e+01,\n",
              "         1.02877170e-02, -1.26422920e+01],\n",
              "       [-2.53415060e+00,  5.74021435e+00,  1.30812817e+01,\n",
              "         1.45213261e+01, -9.85983753e+00],\n",
              "       [-2.42013683e+01, -6.07554626e+00, -1.72135506e+01,\n",
              "        -1.29725170e+01, -1.10492916e+01]], dtype=float32)>"
            ]
          },
          "metadata": {},
          "execution_count": 21
        }
      ]
    },
    {
      "cell_type": "code",
      "source": [
        "tf.tensordot(a, b, 1)"
      ],
      "metadata": {
        "colab": {
          "base_uri": "https://localhost:8080/"
        },
        "id": "1V-X9eFjeW2N",
        "outputId": "66ca0d4d-1c4a-4a8d-e868-1a41677d6789"
      },
      "execution_count": null,
      "outputs": [
        {
          "output_type": "execute_result",
          "data": {
            "text/plain": [
              "<tf.Tensor: shape=(5, 5), dtype=float32, numpy=\n",
              "array([[-1.93932676e+00,  1.20779848e+01,  1.23268223e+01,\n",
              "         3.54908524e+01, -1.60764897e+00],\n",
              "       [-2.00086098e+01, -5.13194752e+00, -5.97352743e+00,\n",
              "         4.73872643e+01,  1.53432512e+01],\n",
              "       [ 1.79483008e+00,  1.42219305e+01,  2.16562824e+01,\n",
              "         1.02877170e-02, -1.26422920e+01],\n",
              "       [-2.53415060e+00,  5.74021435e+00,  1.30812817e+01,\n",
              "         1.45213261e+01, -9.85983753e+00],\n",
              "       [-2.42013683e+01, -6.07554626e+00, -1.72135506e+01,\n",
              "        -1.29725170e+01, -1.10492916e+01]], dtype=float32)>"
            ]
          },
          "metadata": {},
          "execution_count": 22
        }
      ]
    },
    {
      "cell_type": "code",
      "source": [
        "a= tf.random.normal([224,224,3], 0, 1, dtype=tf.dtypes.float32)\n",
        "a"
      ],
      "metadata": {
        "colab": {
          "base_uri": "https://localhost:8080/"
        },
        "id": "fYDDonYvfD8z",
        "outputId": "cbca83e6-7b1f-4376-ba84-b45f7cff72c0"
      },
      "execution_count": null,
      "outputs": [
        {
          "output_type": "execute_result",
          "data": {
            "text/plain": [
              "<tf.Tensor: shape=(224, 224, 3), dtype=float32, numpy=\n",
              "array([[[-1.3300543 ,  0.05908021, -1.3303188 ],\n",
              "        [-0.8398448 ,  1.2331034 ,  0.19704475],\n",
              "        [ 0.3514964 ,  0.7820912 ,  0.5630815 ],\n",
              "        ...,\n",
              "        [-0.43230712,  0.29699713,  0.3960764 ],\n",
              "        [ 1.5611653 , -1.5258745 ,  1.9842584 ],\n",
              "        [-2.466169  , -1.8140993 ,  0.83417916]],\n",
              "\n",
              "       [[-1.3622888 ,  1.1387544 , -0.25185624],\n",
              "        [ 1.0015911 , -0.3129255 ,  0.41433352],\n",
              "        [ 0.71797776, -0.41564268,  0.42774934],\n",
              "        ...,\n",
              "        [-0.48600176, -0.941572  ,  0.14703523],\n",
              "        [-1.185108  , -0.83200866, -1.7710875 ],\n",
              "        [-1.0567566 , -0.25395456,  0.19435245]],\n",
              "\n",
              "       [[ 1.6065441 ,  0.7275218 , -2.482242  ],\n",
              "        [-0.7089269 ,  0.13297208, -0.87175184],\n",
              "        [-0.185613  , -0.6526493 , -0.78102565],\n",
              "        ...,\n",
              "        [-0.3490969 ,  0.87592363, -0.03563559],\n",
              "        [-0.2658614 ,  0.9489927 ,  0.38044876],\n",
              "        [ 0.08079444, -0.0686429 , -0.7602821 ]],\n",
              "\n",
              "       ...,\n",
              "\n",
              "       [[ 0.48274544, -0.08396801, -1.5838281 ],\n",
              "        [ 1.9144741 , -1.0763692 ,  0.22010908],\n",
              "        [ 0.49816644, -0.542722  , -1.6039487 ],\n",
              "        ...,\n",
              "        [-1.1436884 , -0.3589926 , -0.42123485],\n",
              "        [ 0.16807112,  1.1166611 ,  0.6131087 ],\n",
              "        [-1.3562224 ,  1.0437917 , -0.40948132]],\n",
              "\n",
              "       [[-0.04935038, -1.9026653 , -0.19524302],\n",
              "        [ 0.6428901 , -0.08342288,  0.3279761 ],\n",
              "        [-1.5585726 , -0.12486109,  0.06778975],\n",
              "        ...,\n",
              "        [-0.7038499 ,  0.17576258,  0.71397996],\n",
              "        [-0.6858982 , -0.867984  , -0.00858397],\n",
              "        [-0.84575844, -0.07267138, -0.01583261]],\n",
              "\n",
              "       [[-0.17129886, -0.18446572, -1.0671738 ],\n",
              "        [ 0.9478537 , -1.0387248 , -0.09697321],\n",
              "        [ 0.7228095 ,  0.644453  , -1.1420941 ],\n",
              "        ...,\n",
              "        [ 0.24754351,  1.7528459 ,  0.78792924],\n",
              "        [-1.5960219 ,  0.48078057,  2.092565  ],\n",
              "        [-0.70031196,  0.23392561,  0.2829115 ]]], dtype=float32)>"
            ]
          },
          "metadata": {},
          "execution_count": 23
        }
      ]
    },
    {
      "cell_type": "code",
      "source": [
        "tf.reduce_max(a)"
      ],
      "metadata": {
        "colab": {
          "base_uri": "https://localhost:8080/"
        },
        "id": "uSFGFanWfTTp",
        "outputId": "0ac48ee1-493f-4ff0-db45-beb63c386088"
      },
      "execution_count": null,
      "outputs": [
        {
          "output_type": "execute_result",
          "data": {
            "text/plain": [
              "<tf.Tensor: shape=(), dtype=float32, numpy=4.5512376>"
            ]
          },
          "metadata": {},
          "execution_count": 24
        }
      ]
    },
    {
      "cell_type": "code",
      "source": [
        "a= tf.random.normal([1, 224, 224, 3], 0, 1, dtype=tf.dtypes.float32)\n",
        "a"
      ],
      "metadata": {
        "colab": {
          "base_uri": "https://localhost:8080/"
        },
        "id": "W6qHDe36fif_",
        "outputId": "40540546-c348-45c8-b564-4f11219e3617"
      },
      "execution_count": null,
      "outputs": [
        {
          "output_type": "execute_result",
          "data": {
            "text/plain": [
              "<tf.Tensor: shape=(1, 224, 224, 3), dtype=float32, numpy=\n",
              "array([[[[ 4.9224553e-01,  5.0987679e-01, -1.4299612e+00],\n",
              "         [-3.2068330e-01,  1.2476262e+00, -2.5131354e+00],\n",
              "         [ 6.0870719e-01, -3.9496437e-02,  1.8442934e+00],\n",
              "         ...,\n",
              "         [ 1.7573172e+00,  1.7701694e+00,  1.0694888e+00],\n",
              "         [-1.4085163e+00, -6.7710829e-01, -2.9567054e-01],\n",
              "         [-8.8536578e-01, -5.9744978e-01, -3.7170288e-01]],\n",
              "\n",
              "        [[ 1.5133765e+00,  7.7357048e-01,  2.4528450e-01],\n",
              "         [ 2.2556236e+00, -1.7535749e-01,  2.3628382e-01],\n",
              "         [ 1.2174373e+00, -5.6941521e-01,  1.3824101e-01],\n",
              "         ...,\n",
              "         [ 8.8981873e-01, -3.7237149e-01,  4.3522961e-02],\n",
              "         [-8.8205838e-01, -5.5133116e-01,  5.8722949e-01],\n",
              "         [ 2.3127760e-01,  2.4604428e+00,  2.0264418e+00]],\n",
              "\n",
              "        [[ 6.3444364e-01,  9.9686235e-02, -2.9463202e-01],\n",
              "         [-3.0137455e-01, -6.1512142e-01, -2.1591911e+00],\n",
              "         [ 1.0202354e+00, -4.3699557e-01,  4.7083569e-01],\n",
              "         ...,\n",
              "         [-2.9100339e+00,  8.3863628e-01,  3.5331145e-01],\n",
              "         [-1.0435340e+00,  1.0813574e+00, -6.3414675e-01],\n",
              "         [ 3.0780622e-01,  1.3794200e+00, -4.7117910e-01]],\n",
              "\n",
              "        ...,\n",
              "\n",
              "        [[-1.3089033e+00, -1.5062968e-01, -9.6614671e-01],\n",
              "         [-1.2615784e-01,  1.7607043e+00, -6.5006709e-01],\n",
              "         [-1.5537025e-01,  4.9965748e-01,  1.2600439e+00],\n",
              "         ...,\n",
              "         [ 3.6536276e-01,  5.2659023e-01, -1.3367256e+00],\n",
              "         [-9.0678173e-01,  6.0158956e-01, -6.5189564e-01],\n",
              "         [-6.3660371e-01,  2.9493582e+00,  1.4490499e+00]],\n",
              "\n",
              "        [[ 1.1708993e+00,  3.6331132e-01,  7.4097380e-02],\n",
              "         [ 3.9663887e-01, -4.1113336e-02, -1.2533779e+00],\n",
              "         [ 1.5586163e-01, -1.2899248e-01,  3.2401990e-02],\n",
              "         ...,\n",
              "         [ 2.7865967e-01, -1.0458323e+00, -6.0539931e-04],\n",
              "         [ 8.7625831e-01, -5.0842208e-01,  2.9942906e-01],\n",
              "         [-1.7665904e+00,  7.3727196e-01,  6.5846765e-01]],\n",
              "\n",
              "        [[-5.9091407e-01,  4.5869422e-01,  4.4187546e-01],\n",
              "         [ 8.9082479e-02, -4.4922113e-02,  1.5173686e+00],\n",
              "         [-2.9106733e-01,  3.4151787e-01,  4.0522727e-01],\n",
              "         ...,\n",
              "         [-9.7632968e-01, -5.5275464e-01,  1.1516153e-01],\n",
              "         [ 1.9826660e+00, -3.2924780e-01, -1.0102972e+00],\n",
              "         [ 2.1110442e+00,  5.7406861e-01, -6.6780138e-01]]]],\n",
              "      dtype=float32)>"
            ]
          },
          "metadata": {},
          "execution_count": 25
        }
      ]
    },
    {
      "cell_type": "code",
      "source": [
        "b=tf.squeeze(a)\n",
        "b"
      ],
      "metadata": {
        "colab": {
          "base_uri": "https://localhost:8080/"
        },
        "id": "l4DxkptVfs7h",
        "outputId": "b6f41626-53e9-4cb2-b69d-923915c20edf"
      },
      "execution_count": null,
      "outputs": [
        {
          "output_type": "execute_result",
          "data": {
            "text/plain": [
              "<tf.Tensor: shape=(224, 224, 3), dtype=float32, numpy=\n",
              "array([[[ 4.9224553e-01,  5.0987679e-01, -1.4299612e+00],\n",
              "        [-3.2068330e-01,  1.2476262e+00, -2.5131354e+00],\n",
              "        [ 6.0870719e-01, -3.9496437e-02,  1.8442934e+00],\n",
              "        ...,\n",
              "        [ 1.7573172e+00,  1.7701694e+00,  1.0694888e+00],\n",
              "        [-1.4085163e+00, -6.7710829e-01, -2.9567054e-01],\n",
              "        [-8.8536578e-01, -5.9744978e-01, -3.7170288e-01]],\n",
              "\n",
              "       [[ 1.5133765e+00,  7.7357048e-01,  2.4528450e-01],\n",
              "        [ 2.2556236e+00, -1.7535749e-01,  2.3628382e-01],\n",
              "        [ 1.2174373e+00, -5.6941521e-01,  1.3824101e-01],\n",
              "        ...,\n",
              "        [ 8.8981873e-01, -3.7237149e-01,  4.3522961e-02],\n",
              "        [-8.8205838e-01, -5.5133116e-01,  5.8722949e-01],\n",
              "        [ 2.3127760e-01,  2.4604428e+00,  2.0264418e+00]],\n",
              "\n",
              "       [[ 6.3444364e-01,  9.9686235e-02, -2.9463202e-01],\n",
              "        [-3.0137455e-01, -6.1512142e-01, -2.1591911e+00],\n",
              "        [ 1.0202354e+00, -4.3699557e-01,  4.7083569e-01],\n",
              "        ...,\n",
              "        [-2.9100339e+00,  8.3863628e-01,  3.5331145e-01],\n",
              "        [-1.0435340e+00,  1.0813574e+00, -6.3414675e-01],\n",
              "        [ 3.0780622e-01,  1.3794200e+00, -4.7117910e-01]],\n",
              "\n",
              "       ...,\n",
              "\n",
              "       [[-1.3089033e+00, -1.5062968e-01, -9.6614671e-01],\n",
              "        [-1.2615784e-01,  1.7607043e+00, -6.5006709e-01],\n",
              "        [-1.5537025e-01,  4.9965748e-01,  1.2600439e+00],\n",
              "        ...,\n",
              "        [ 3.6536276e-01,  5.2659023e-01, -1.3367256e+00],\n",
              "        [-9.0678173e-01,  6.0158956e-01, -6.5189564e-01],\n",
              "        [-6.3660371e-01,  2.9493582e+00,  1.4490499e+00]],\n",
              "\n",
              "       [[ 1.1708993e+00,  3.6331132e-01,  7.4097380e-02],\n",
              "        [ 3.9663887e-01, -4.1113336e-02, -1.2533779e+00],\n",
              "        [ 1.5586163e-01, -1.2899248e-01,  3.2401990e-02],\n",
              "        ...,\n",
              "        [ 2.7865967e-01, -1.0458323e+00, -6.0539931e-04],\n",
              "        [ 8.7625831e-01, -5.0842208e-01,  2.9942906e-01],\n",
              "        [-1.7665904e+00,  7.3727196e-01,  6.5846765e-01]],\n",
              "\n",
              "       [[-5.9091407e-01,  4.5869422e-01,  4.4187546e-01],\n",
              "        [ 8.9082479e-02, -4.4922113e-02,  1.5173686e+00],\n",
              "        [-2.9106733e-01,  3.4151787e-01,  4.0522727e-01],\n",
              "        ...,\n",
              "        [-9.7632968e-01, -5.5275464e-01,  1.1516153e-01],\n",
              "        [ 1.9826660e+00, -3.2924780e-01, -1.0102972e+00],\n",
              "        [ 2.1110442e+00,  5.7406861e-01, -6.6780138e-01]]], dtype=float32)>"
            ]
          },
          "metadata": {},
          "execution_count": 26
        }
      ]
    },
    {
      "cell_type": "code",
      "source": [
        "a= tf.random.normal([10], 0, 1, dtype=tf.dtypes.float32)\n",
        "a"
      ],
      "metadata": {
        "colab": {
          "base_uri": "https://localhost:8080/"
        },
        "id": "xY66UTbEf9rX",
        "outputId": "a2068ad5-0b9b-40ad-be66-c9da430560a0"
      },
      "execution_count": null,
      "outputs": [
        {
          "output_type": "execute_result",
          "data": {
            "text/plain": [
              "<tf.Tensor: shape=(10,), dtype=float32, numpy=\n",
              "array([-0.41021487, -2.0889177 ,  0.2685644 , -0.7692733 ,  1.6751661 ,\n",
              "       -2.880521  , -0.6225607 , -1.2758783 ,  1.680499  ,  0.91909206],\n",
              "      dtype=float32)>"
            ]
          },
          "metadata": {},
          "execution_count": 27
        }
      ]
    },
    {
      "cell_type": "code",
      "source": [
        "tf.argmin(a)"
      ],
      "metadata": {
        "colab": {
          "base_uri": "https://localhost:8080/"
        },
        "id": "4SJc8Cscgrpe",
        "outputId": "fb4d625d-91da-4987-f1fd-e2bc5e7f9028"
      },
      "execution_count": null,
      "outputs": [
        {
          "output_type": "execute_result",
          "data": {
            "text/plain": [
              "<tf.Tensor: shape=(), dtype=int64, numpy=5>"
            ]
          },
          "metadata": {},
          "execution_count": 28
        }
      ]
    },
    {
      "cell_type": "code",
      "source": [
        "depth=len(a)\n",
        "len(a)\n",
        "tf.one_hot(tf.cast(a, dtype=tf.int32), depth)"
      ],
      "metadata": {
        "colab": {
          "base_uri": "https://localhost:8080/"
        },
        "id": "xptHiDVFg5Be",
        "outputId": "080f5620-c158-4c40-9e68-c73e2bacb589"
      },
      "execution_count": null,
      "outputs": [
        {
          "output_type": "execute_result",
          "data": {
            "text/plain": [
              "<tf.Tensor: shape=(10, 10), dtype=float32, numpy=\n",
              "array([[1., 0., 0., 0., 0., 0., 0., 0., 0., 0.],\n",
              "       [0., 0., 0., 0., 0., 0., 0., 0., 0., 0.],\n",
              "       [1., 0., 0., 0., 0., 0., 0., 0., 0., 0.],\n",
              "       [1., 0., 0., 0., 0., 0., 0., 0., 0., 0.],\n",
              "       [0., 1., 0., 0., 0., 0., 0., 0., 0., 0.],\n",
              "       [0., 0., 0., 0., 0., 0., 0., 0., 0., 0.],\n",
              "       [1., 0., 0., 0., 0., 0., 0., 0., 0., 0.],\n",
              "       [0., 0., 0., 0., 0., 0., 0., 0., 0., 0.],\n",
              "       [0., 1., 0., 0., 0., 0., 0., 0., 0., 0.],\n",
              "       [1., 0., 0., 0., 0., 0., 0., 0., 0., 0.]], dtype=float32)>"
            ]
          },
          "metadata": {},
          "execution_count": 29
        }
      ]
    },
    {
      "cell_type": "markdown",
      "source": [
        "#Intorduction with regression with neural network"
      ],
      "metadata": {
        "id": "rmYSo-Tyu-CC"
      }
    },
    {
      "cell_type": "code",
      "source": [
        "import numpy as np\n",
        "import tensorflow as tf\n",
        "import matplotlib.pyplot as plt\n",
        "\n",
        "x=np.array([-7.0, -4.0, -1.0, 2.0, 5.0, 8.0, 11.0, 14.0])\n",
        "y=np.array([3.0, 6.0, 9.0, 12.0, 15.0, 18.0, 21.0, 24.0])\n",
        "x,y"
      ],
      "metadata": {
        "colab": {
          "base_uri": "https://localhost:8080/"
        },
        "id": "lPUnExbHdisq",
        "outputId": "2c00c2df-be07-4c52-a5ce-1ffd5ef7bde8"
      },
      "execution_count": null,
      "outputs": [
        {
          "output_type": "execute_result",
          "data": {
            "text/plain": [
              "(array([-7., -4., -1.,  2.,  5.,  8., 11., 14.]),\n",
              " array([ 3.,  6.,  9., 12., 15., 18., 21., 24.]))"
            ]
          },
          "metadata": {},
          "execution_count": 1
        }
      ]
    },
    {
      "cell_type": "code",
      "source": [
        "plt.scatter(x,y)"
      ],
      "metadata": {
        "colab": {
          "base_uri": "https://localhost:8080/",
          "height": 453
        },
        "id": "dHwrGWToeEAg",
        "outputId": "d34aef37-7b30-42dc-d441-f722b1c73d16"
      },
      "execution_count": null,
      "outputs": [
        {
          "output_type": "execute_result",
          "data": {
            "text/plain": [
              "<matplotlib.collections.PathCollection at 0x7a4fe4245630>"
            ]
          },
          "metadata": {},
          "execution_count": 2
        },
        {
          "output_type": "display_data",
          "data": {
            "text/plain": [
              "<Figure size 640x480 with 1 Axes>"
            ],
            "image/png": "[encoded data removed]"
          },
          "metadata": {}
        }
      ]
    },
    {
      "cell_type": "markdown",
      "source": [
        "## OLD\n",
        "# Fit the model\n",
        "model.fit(X, y, epochs=5) # this will break with TensorFlow 2.7.0+\n",
        "\n",
        "## New\n",
        "# Fit the model\n",
        "model.fit(tf.expand_dims(X, axis=-1), y, epochs=5) # <- updated line"
      ],
      "metadata": {
        "id": "jhWIacsso_uU"
      }
    },
    {
      "cell_type": "code",
      "source": [
        "x=tf.cast(tf.constant(x), dtype=tf.float32)\n",
        "y=tf.cast(tf.constant(y), dtype=tf.float32)"
      ],
      "metadata": {
        "id": "Tc3PKQbUpESy"
      },
      "execution_count": null,
      "outputs": []
    },
    {
      "cell_type": "code",
      "source": [
        "tf.random.set_seed(42)\n",
        "\n",
        "model= tf.keras.Sequential([\n",
        "    tf.keras.layers.Dense(2, input_shape=[1])\n",
        "])\n",
        "\n",
        "model.compile(loss = tf.keras.losses.mae,\n",
        "              optimizer=tf.keras.optimizers.SGD(),\n",
        "              metrics=[\"mae\"])\n",
        "#model.fit(tf.expand_dims(x, axis=-1),y,epochs=100)"
      ],
      "metadata": {
        "id": "WEnopjEMp7k9"
      },
      "execution_count": null,
      "outputs": []
    },
    {
      "cell_type": "code",
      "source": [
        "model.summary()"
      ],
      "metadata": {
        "colab": {
          "base_uri": "https://localhost:8080/"
        },
        "id": "TKnBZ1hbVhD5",
        "outputId": "75cd1247-160a-44fc-8dee-dafa0d3e309f"
      },
      "execution_count": null,
      "outputs": [
        {
          "output_type": "stream",
          "name": "stdout",
          "text": [
            "Model: \"sequential_2\"\n",
            "_________________________________________________________________\n",
            " Layer (type)                Output Shape              Param #   \n",
            "=================================================================\n",
            " dense_2 (Dense)             (None, 2)                 4         \n",
            "                                                                 \n",
            "=================================================================\n",
            "Total params: 4\n",
            "Trainable params: 4\n",
            "Non-trainable params: 0\n",
            "_________________________________________________________________\n"
          ]
        }
      ]
    },
    {
      "cell_type": "code",
      "source": [
        "import numpy as np\n",
        "import tensorflow as tf\n",
        "import matplotlib.pyplot as plt\n",
        "\n",
        "# Make a bigger dataset\n",
        "X = np.arange(-100, 100, 4)\n",
        "X\n"
      ],
      "metadata": {
        "colab": {
          "base_uri": "https://localhost:8080/"
        },
        "id": "TIyQhTQXJe2v",
        "outputId": "0ab5c4a5-7eff-4e8e-e7a8-bd55a3076540"
      },
      "execution_count": null,
      "outputs": [
        {
          "output_type": "execute_result",
          "data": {
            "text/plain": [
              "array([-100,  -96,  -92,  -88,  -84,  -80,  -76,  -72,  -68,  -64,  -60,\n",
              "        -56,  -52,  -48,  -44,  -40,  -36,  -32,  -28,  -24,  -20,  -16,\n",
              "        -12,   -8,   -4,    0,    4,    8,   12,   16,   20,   24,   28,\n",
              "         32,   36,   40,   44,   48,   52,   56,   60,   64,   68,   72,\n",
              "         76,   80,   84,   88,   92,   96])"
            ]
          },
          "metadata": {},
          "execution_count": 2
        }
      ]
    },
    {
      "cell_type": "code",
      "source": [
        "\n",
        "# Make labels for the dataset (adhering to the same pattern as before)\n",
        "y = np.arange(-90, 110, 4)\n",
        "y\n"
      ],
      "metadata": {
        "colab": {
          "base_uri": "https://localhost:8080/"
        },
        "id": "VA9tBsB2Jtu3",
        "outputId": "895559a5-3f00-46f8-b811-f9df5588cc65"
      },
      "execution_count": null,
      "outputs": [
        {
          "output_type": "execute_result",
          "data": {
            "text/plain": [
              "array([-90, -86, -82, -78, -74, -70, -66, -62, -58, -54, -50, -46, -42,\n",
              "       -38, -34, -30, -26, -22, -18, -14, -10,  -6,  -2,   2,   6,  10,\n",
              "        14,  18,  22,  26,  30,  34,  38,  42,  46,  50,  54,  58,  62,\n",
              "        66,  70,  74,  78,  82,  86,  90,  94,  98, 102, 106])"
            ]
          },
          "metadata": {},
          "execution_count": 3
        }
      ]
    },
    {
      "cell_type": "code",
      "source": [],
      "metadata": {
        "id": "T_Zm3EzdJ-Xx"
      },
      "execution_count": null,
      "outputs": []
    },
    {
      "cell_type": "code",
      "source": [
        "\n",
        "# Split data into train and test sets\n",
        "X_train = X[:40] # first 40 examples (80% of data)\n",
        "y_train = y[:40]\n",
        "\n",
        "X_test = X[40:] # last 10 examples (20% of data)\n",
        "y_test = y[40:]\n",
        "\n",
        "len(X_train), len(X_test)"
      ],
      "metadata": {
        "colab": {
          "base_uri": "https://localhost:8080/"
        },
        "id": "DNErDQACJ_ZO",
        "outputId": "517daba3-5ba0-4b51-bea8-827c594ef8f9"
      },
      "execution_count": null,
      "outputs": [
        {
          "output_type": "execute_result",
          "data": {
            "text/plain": [
              "(40, 10)"
            ]
          },
          "metadata": {},
          "execution_count": 4
        }
      ]
    },
    {
      "cell_type": "code",
      "source": [
        "\n",
        "plt.figure(figsize=(10, 7))\n",
        "# Plot training data in blue\n",
        "plt.scatter(X_train, y_train, c='b', label='Training data')\n",
        "# Plot test data in green\n",
        "plt.scatter(X_test, y_test, c='g', label='Testing data')\n",
        "# Show the legend\n",
        "plt.legend();"
      ],
      "metadata": {
        "colab": {
          "base_uri": "https://localhost:8080/",
          "height": 599
        },
        "id": "0acizvzGKG-5",
        "outputId": "0210385f-0ea9-456b-b4bc-bc2f2364c1f9"
      },
      "execution_count": null,
      "outputs": [
        {
          "output_type": "display_data",
          "data": {
            "text/plain": [
              "<Figure size 1000x700 with 1 Axes>"
            ],
            "image/png": "[encoded data removed]"
          },
          "metadata": {}
        }
      ]
    },
    {
      "cell_type": "code",
      "source": [
        "tf.random.set_seed(42)\n",
        "\n",
        "# Create a model (same as above)\n",
        "model = tf.keras.Sequential([\n",
        "  tf.keras.layers.Dense(1,input_shape=[1]) # define the input_shape to our model\n",
        "])\n",
        "\n",
        "# Compile model (same as above)\n",
        "model.compile(loss=tf.keras.losses.mae,\n",
        "              optimizer=tf.keras.optimizers.SGD(),\n",
        "              metrics=[\"mae\"])\n",
        "\n",
        "# Fit model (same as above)\n",
        "#model.fit(X_train, y_train, epochs=100) # commented out on purpose (not fitting it just yet)\n"
      ],
      "metadata": {
        "id": "-IwK0GmsKUn1"
      },
      "execution_count": null,
      "outputs": []
    },
    {
      "cell_type": "code",
      "source": [
        "model.summary()"
      ],
      "metadata": {
        "colab": {
          "base_uri": "https://localhost:8080/"
        },
        "id": "3TPMQqIJKUcc",
        "outputId": "db548545-e8b5-4c46-9ecf-1ea38f49080e"
      },
      "execution_count": null,
      "outputs": [
        {
          "output_type": "stream",
          "name": "stdout",
          "text": [
            "Model: \"sequential\"\n",
            "_________________________________________________________________\n",
            " Layer (type)                Output Shape              Param #   \n",
            "=================================================================\n",
            " dense (Dense)               (None, 1)                 2         \n",
            "                                                                 \n",
            "=================================================================\n",
            "Total params: 2\n",
            "Trainable params: 2\n",
            "Non-trainable params: 0\n",
            "_________________________________________________________________\n"
          ]
        }
      ]
    },
    {
      "cell_type": "code",
      "source": [
        "# Fit the model to the training data\n",
        "model.fit(X_train, y_train, epochs=100, verbose=0) # verbose controls how much gets output\n"
      ],
      "metadata": {
        "colab": {
          "base_uri": "https://localhost:8080/"
        },
        "id": "VOJbuS61KUQl",
        "outputId": "32c5d4c0-70d1-4a8d-a86e-bf288c8fda31"
      },
      "execution_count": null,
      "outputs": [
        {
          "output_type": "execute_result",
          "data": {
            "text/plain": [
              "<keras.callbacks.History at 0x7a4010b0a7a0>"
            ]
          },
          "metadata": {},
          "execution_count": 12
        }
      ]
    },
    {
      "cell_type": "code",
      "source": [
        "\n",
        "# Check the model summary\n",
        "model.summary()\n"
      ],
      "metadata": {
        "colab": {
          "base_uri": "https://localhost:8080/"
        },
        "id": "HkiQnVm2KUEs",
        "outputId": "8fa06823-c5df-4d40-ea2e-6f66af69db0d"
      },
      "execution_count": null,
      "outputs": [
        {
          "output_type": "stream",
          "name": "stdout",
          "text": [
            "Model: \"sequential\"\n",
            "_________________________________________________________________\n",
            " Layer (type)                Output Shape              Param #   \n",
            "=================================================================\n",
            " dense (Dense)               (None, 1)                 2         \n",
            "                                                                 \n",
            "=================================================================\n",
            "Total params: 2\n",
            "Trainable params: 2\n",
            "Non-trainable params: 0\n",
            "_________________________________________________________________\n"
          ]
        }
      ]
    },
    {
      "cell_type": "code",
      "source": [
        "\n",
        "from tensorflow.keras.utils import plot_model\n",
        "plot_model(model, show_shapes=True)"
      ],
      "metadata": {
        "colab": {
          "base_uri": "https://localhost:8080/",
          "height": 201
        },
        "id": "mVL83jZ8KT4-",
        "outputId": "c2ecfede-a7cf-4a31-e864-beb667e8494d"
      },
      "execution_count": null,
      "outputs": [
        {
          "output_type": "execute_result",
          "data": {
            "image/png": "[encoded data removed]",
            "text/plain": [
              "<IPython.core.display.Image object>"
            ]
          },
          "metadata": {},
          "execution_count": 14
        }
      ]
    },
    {
      "cell_type": "code",
      "source": [
        "y_preds = model.predict(X_test)\n",
        "y_preds"
      ],
      "metadata": {
        "colab": {
          "base_uri": "https://localhost:8080/"
        },
        "id": "NnrWJJUlKTuQ",
        "outputId": "e5125bf7-c166-4b37-89fe-2e33c5d679a2"
      },
      "execution_count": null,
      "outputs": [
        {
          "output_type": "stream",
          "name": "stdout",
          "text": [
            "1/1 [==============================] - 0s 140ms/step\n"
          ]
        },
        {
          "output_type": "execute_result",
          "data": {
            "text/plain": [
              "array([[43.88044 ],\n",
              "       [46.49076 ],\n",
              "       [49.10108 ],\n",
              "       [51.711403],\n",
              "       [54.32172 ],\n",
              "       [56.93204 ],\n",
              "       [59.542362],\n",
              "       [62.15268 ],\n",
              "       [64.763   ],\n",
              "       [67.37332 ]], dtype=float32)"
            ]
          },
          "metadata": {},
          "execution_count": 15
        }
      ]
    },
    {
      "cell_type": "code",
      "source": [
        "def plot_predictions(train_data=X_train,\n",
        "                     train_labels=y_train,\n",
        "                     test_data=X_test,\n",
        "                     test_labels=y_test,\n",
        "                     predictions=y_preds):\n",
        "\n",
        "  \"\"\"\n",
        "  plots training data, test data, and compates predictions.\n",
        "  \"\"\"\n",
        "\n",
        "  plt.figure(figsize=(10,7))\n",
        "  plt.scatter(train_data, train_labels, c=\"b\", label = \"Training data\")\n",
        "  plt.scatter(test_data, test_labels, c=\"g\", label = \"Testing data\")\n",
        "  plt.scatter(test_data, predictions, c=\"r\", label = \"Predictions\")"
      ],
      "metadata": {
        "id": "wV4nFmAHKThl"
      },
      "execution_count": null,
      "outputs": []
    },
    {
      "cell_type": "code",
      "source": [
        "plot_predictions(train_data=X_train,\n",
        "                 train_labels=y_train,\n",
        "                 test_data=X_test,\n",
        "                 test_labels=y_test,\n",
        "                 predictions=y_preds)"
      ],
      "metadata": {
        "colab": {
          "base_uri": "https://localhost:8080/",
          "height": 599
        },
        "id": "pyE6v1-_KTWo",
        "outputId": "1422bae4-decf-460a-f5a7-ad13756a83e0"
      },
      "execution_count": null,
      "outputs": [
        {
          "output_type": "display_data",
          "data": {
            "text/plain": [
              "<Figure size 1000x700 with 1 Axes>"
            ],
            "image/png": "[encoded data removed]"
          },
          "metadata": {}
        }
      ]
    },
    {
      "cell_type": "code",
      "source": [
        "def mae(y_test, y_pred):\n",
        "  \"\"\"\n",
        "  Calculuates mean absolute error between y_test and y_preds.\n",
        "  \"\"\"\n",
        "  return tf.metrics.mean_absolute_error(y_test,\n",
        "                                        tf.squeeze(y_pred))\n",
        "\n",
        "def mse(y_test, y_pred):\n",
        "  \"\"\"\n",
        "  Calculates mean squared error between y_test and y_preds.\n",
        "  \"\"\"\n",
        "  return tf.metrics.mean_squared_error(y_test,\n",
        "                                       tf.squeeze(y_pred))"
      ],
      "metadata": {
        "id": "9Am8cnUXKTL5"
      },
      "execution_count": null,
      "outputs": []
    },
    {
      "cell_type": "code",
      "source": [
        "\n",
        "# Set random seed\n",
        "tf.random.set_seed(42)\n",
        "\n",
        "# Replicate original model\n",
        "model_1 = tf.keras.Sequential([\n",
        "  tf.keras.layers.Dense(1)\n",
        "])\n",
        "\n",
        "# Compile the model\n",
        "model_1.compile(loss=tf.keras.losses.mae,\n",
        "                optimizer=tf.keras.optimizers.SGD(),\n",
        "                metrics=['mae'])\n",
        "\n",
        "# Fit the model\n",
        "model_1.fit(tf.expand_dims(X_train, axis=-1), y_train, epochs=100)\n"
      ],
      "metadata": {
        "colab": {
          "base_uri": "https://localhost:8080/"
        },
        "id": "SIkYtBmfKTAh",
        "outputId": "2591a852-3360-4561-8a58-6c88cce5b0a1"
      },
      "execution_count": null,
      "outputs": [
        {
          "output_type": "stream",
          "name": "stdout",
          "text": [
            "Epoch 1/100\n",
            "2/2 [==============================] - 0s 19ms/step - loss: 65.9380 - mae: 65.9380\n",
            "Epoch 2/100\n",
            "2/2 [==============================] - 0s 11ms/step - loss: 30.8378 - mae: 30.8378\n",
            "Epoch 3/100\n",
            "2/2 [==============================] - 0s 8ms/step - loss: 10.1231 - mae: 10.1231\n",
            "Epoch 4/100\n",
            "2/2 [==============================] - 0s 8ms/step - loss: 12.4448 - mae: 12.4448\n",
            "Epoch 5/100\n",
            "2/2 [==============================] - 0s 8ms/step - loss: 11.4966 - mae: 11.4966\n",
            "Epoch 6/100\n",
            "2/2 [==============================] - 0s 8ms/step - loss: 10.6020 - mae: 10.6020\n",
            "Epoch 7/100\n",
            "2/2 [==============================] - 0s 8ms/step - loss: 9.5565 - mae: 9.5565\n",
            "Epoch 8/100\n",
            "2/2 [==============================] - 0s 8ms/step - loss: 9.0310 - mae: 9.0310\n",
            "Epoch 9/100\n",
            "2/2 [==============================] - 0s 8ms/step - loss: 17.8103 - mae: 17.8103\n",
            "Epoch 10/100\n",
            "2/2 [==============================] - 0s 8ms/step - loss: 9.6035 - mae: 9.6035\n",
            "Epoch 11/100\n",
            "2/2 [==============================] - 0s 8ms/step - loss: 8.2103 - mae: 8.2103\n",
            "Epoch 12/100\n",
            "2/2 [==============================] - 0s 9ms/step - loss: 10.2793 - mae: 10.2793\n",
            "Epoch 13/100\n",
            "2/2 [==============================] - 0s 8ms/step - loss: 12.0146 - mae: 12.0146\n",
            "Epoch 14/100\n",
            "2/2 [==============================] - 0s 8ms/step - loss: 13.9915 - mae: 13.9915\n",
            "Epoch 15/100\n",
            "2/2 [==============================] - 0s 7ms/step - loss: 11.3857 - mae: 11.3857\n",
            "Epoch 16/100\n",
            "2/2 [==============================] - 0s 11ms/step - loss: 8.5650 - mae: 8.5650\n",
            "Epoch 17/100\n",
            "2/2 [==============================] - 0s 9ms/step - loss: 13.6761 - mae: 13.6761\n",
            "Epoch 18/100\n",
            "2/2 [==============================] - 0s 9ms/step - loss: 11.5102 - mae: 11.5102\n",
            "Epoch 19/100\n",
            "2/2 [==============================] - 0s 10ms/step - loss: 17.8902 - mae: 17.8902\n",
            "Epoch 20/100\n",
            "2/2 [==============================] - 0s 8ms/step - loss: 15.0251 - mae: 15.0251\n",
            "Epoch 21/100\n",
            "2/2 [==============================] - 0s 7ms/step - loss: 10.8970 - mae: 10.8970\n",
            "Epoch 22/100\n",
            "2/2 [==============================] - 0s 8ms/step - loss: 8.6530 - mae: 8.6530\n",
            "Epoch 23/100\n",
            "2/2 [==============================] - 0s 8ms/step - loss: 9.6966 - mae: 9.6966\n",
            "Epoch 24/100\n",
            "2/2 [==============================] - 0s 8ms/step - loss: 8.5958 - mae: 8.5958\n",
            "Epoch 25/100\n",
            "2/2 [==============================] - 0s 8ms/step - loss: 11.5973 - mae: 11.5973\n",
            "Epoch 26/100\n",
            "2/2 [==============================] - 0s 8ms/step - loss: 15.1613 - mae: 15.1613\n",
            "Epoch 27/100\n",
            "2/2 [==============================] - 0s 8ms/step - loss: 12.0526 - mae: 12.0526\n",
            "Epoch 28/100\n",
            "2/2 [==============================] - 0s 8ms/step - loss: 13.3428 - mae: 13.3428\n",
            "Epoch 29/100\n",
            "2/2 [==============================] - 0s 8ms/step - loss: 9.6121 - mae: 9.6121\n",
            "Epoch 30/100\n",
            "2/2 [==============================] - 0s 8ms/step - loss: 17.1151 - mae: 17.1151\n",
            "Epoch 31/100\n",
            "2/2 [==============================] - 0s 8ms/step - loss: 22.9513 - mae: 22.9513\n",
            "Epoch 32/100\n",
            "2/2 [==============================] - 0s 9ms/step - loss: 7.5665 - mae: 7.5665\n",
            "Epoch 33/100\n",
            "2/2 [==============================] - 0s 9ms/step - loss: 15.4513 - mae: 15.4513\n",
            "Epoch 34/100\n",
            "2/2 [==============================] - 0s 13ms/step - loss: 13.3822 - mae: 13.3822\n",
            "Epoch 35/100\n",
            "2/2 [==============================] - 0s 8ms/step - loss: 7.9909 - mae: 7.9909\n",
            "Epoch 36/100\n",
            "2/2 [==============================] - 0s 10ms/step - loss: 9.9934 - mae: 9.9934\n",
            "Epoch 37/100\n",
            "2/2 [==============================] - 0s 8ms/step - loss: 9.7443 - mae: 9.7443\n",
            "Epoch 38/100\n",
            "2/2 [==============================] - 0s 8ms/step - loss: 10.6077 - mae: 10.6077\n",
            "Epoch 39/100\n",
            "2/2 [==============================] - 0s 10ms/step - loss: 15.6941 - mae: 15.6941\n",
            "Epoch 40/100\n",
            "2/2 [==============================] - 0s 8ms/step - loss: 13.4435 - mae: 13.4435\n",
            "Epoch 41/100\n",
            "2/2 [==============================] - 0s 8ms/step - loss: 9.3040 - mae: 9.3040\n",
            "Epoch 42/100\n",
            "2/2 [==============================] - 0s 8ms/step - loss: 11.0080 - mae: 11.0080\n",
            "Epoch 43/100\n",
            "2/2 [==============================] - 0s 8ms/step - loss: 8.3464 - mae: 8.3464\n",
            "Epoch 44/100\n",
            "2/2 [==============================] - 0s 7ms/step - loss: 13.0399 - mae: 13.0399\n",
            "Epoch 45/100\n",
            "2/2 [==============================] - 0s 9ms/step - loss: 13.7041 - mae: 13.7041\n",
            "Epoch 46/100\n",
            "2/2 [==============================] - 0s 9ms/step - loss: 8.4123 - mae: 8.4123\n",
            "Epoch 47/100\n",
            "2/2 [==============================] - 0s 7ms/step - loss: 9.1968 - mae: 9.1968\n",
            "Epoch 48/100\n",
            "2/2 [==============================] - 0s 8ms/step - loss: 10.7072 - mae: 10.7072\n",
            "Epoch 49/100\n",
            "2/2 [==============================] - 0s 8ms/step - loss: 7.8071 - mae: 7.8071\n",
            "Epoch 50/100\n",
            "2/2 [==============================] - 0s 8ms/step - loss: 9.6221 - mae: 9.6221\n",
            "Epoch 51/100\n",
            "2/2 [==============================] - 0s 8ms/step - loss: 9.1883 - mae: 9.1883\n",
            "Epoch 52/100\n",
            "2/2 [==============================] - 0s 8ms/step - loss: 16.5122 - mae: 16.5122\n",
            "Epoch 53/100\n",
            "2/2 [==============================] - 0s 8ms/step - loss: 14.0780 - mae: 14.0780\n",
            "Epoch 54/100\n",
            "2/2 [==============================] - 0s 8ms/step - loss: 20.9721 - mae: 20.9721\n",
            "Epoch 55/100\n",
            "2/2 [==============================] - 0s 8ms/step - loss: 16.5346 - mae: 16.5346\n",
            "Epoch 56/100\n",
            "2/2 [==============================] - 0s 8ms/step - loss: 9.8522 - mae: 9.8522\n",
            "Epoch 57/100\n",
            "2/2 [==============================] - 0s 8ms/step - loss: 9.6892 - mae: 9.6892\n",
            "Epoch 58/100\n",
            "2/2 [==============================] - 0s 8ms/step - loss: 9.0041 - mae: 9.0041\n",
            "Epoch 59/100\n",
            "2/2 [==============================] - 0s 8ms/step - loss: 10.2221 - mae: 10.2221\n",
            "Epoch 60/100\n",
            "2/2 [==============================] - 0s 8ms/step - loss: 8.4200 - mae: 8.4200\n",
            "Epoch 61/100\n",
            "2/2 [==============================] - 0s 8ms/step - loss: 9.2501 - mae: 9.2501\n",
            "Epoch 62/100\n",
            "2/2 [==============================] - 0s 8ms/step - loss: 7.2931 - mae: 7.2931\n",
            "Epoch 63/100\n",
            "2/2 [==============================] - 0s 7ms/step - loss: 8.1973 - mae: 8.1973\n",
            "Epoch 64/100\n",
            "2/2 [==============================] - 0s 8ms/step - loss: 12.5619 - mae: 12.5619\n",
            "Epoch 65/100\n",
            "2/2 [==============================] - 0s 7ms/step - loss: 10.6486 - mae: 10.6486\n",
            "Epoch 66/100\n",
            "2/2 [==============================] - 0s 7ms/step - loss: 15.4692 - mae: 15.4692\n",
            "Epoch 67/100\n",
            "2/2 [==============================] - 0s 7ms/step - loss: 9.9162 - mae: 9.9162\n",
            "Epoch 68/100\n",
            "2/2 [==============================] - 0s 7ms/step - loss: 8.6926 - mae: 8.6926\n",
            "Epoch 69/100\n",
            "2/2 [==============================] - 0s 10ms/step - loss: 13.3446 - mae: 13.3446\n",
            "Epoch 70/100\n",
            "2/2 [==============================] - 0s 8ms/step - loss: 7.8741 - mae: 7.8741\n",
            "Epoch 71/100\n",
            "2/2 [==============================] - 0s 8ms/step - loss: 11.3716 - mae: 11.3716\n",
            "Epoch 72/100\n",
            "2/2 [==============================] - 0s 8ms/step - loss: 9.5658 - mae: 9.5658\n",
            "Epoch 73/100\n",
            "2/2 [==============================] - 0s 9ms/step - loss: 11.6633 - mae: 11.6633\n",
            "Epoch 74/100\n",
            "2/2 [==============================] - 0s 8ms/step - loss: 10.7792 - mae: 10.7792\n",
            "Epoch 75/100\n",
            "2/2 [==============================] - 0s 12ms/step - loss: 9.5626 - mae: 9.5626\n",
            "Epoch 76/100\n",
            "2/2 [==============================] - 0s 8ms/step - loss: 11.0102 - mae: 11.0102\n",
            "Epoch 77/100\n",
            "2/2 [==============================] - 0s 9ms/step - loss: 11.0730 - mae: 11.0730\n",
            "Epoch 78/100\n",
            "2/2 [==============================] - 0s 9ms/step - loss: 11.6089 - mae: 11.6089\n",
            "Epoch 79/100\n",
            "2/2 [==============================] - 0s 8ms/step - loss: 15.6739 - mae: 15.6739\n",
            "Epoch 80/100\n",
            "2/2 [==============================] - 0s 11ms/step - loss: 11.5708 - mae: 11.5708\n",
            "Epoch 81/100\n",
            "2/2 [==============================] - 0s 7ms/step - loss: 9.5305 - mae: 9.5305\n",
            "Epoch 82/100\n",
            "2/2 [==============================] - 0s 9ms/step - loss: 12.5554 - mae: 12.5554\n",
            "Epoch 83/100\n",
            "2/2 [==============================] - 0s 8ms/step - loss: 8.1656 - mae: 8.1656\n",
            "Epoch 84/100\n",
            "2/2 [==============================] - 0s 8ms/step - loss: 7.5724 - mae: 7.5724\n",
            "Epoch 85/100\n",
            "2/2 [==============================] - 0s 7ms/step - loss: 9.7696 - mae: 9.7696\n",
            "Epoch 86/100\n",
            "2/2 [==============================] - 0s 8ms/step - loss: 9.0707 - mae: 9.0707\n",
            "Epoch 87/100\n",
            "2/2 [==============================] - 0s 8ms/step - loss: 11.7129 - mae: 11.7129\n",
            "Epoch 88/100\n",
            "2/2 [==============================] - 0s 8ms/step - loss: 10.3150 - mae: 10.3150\n",
            "Epoch 89/100\n",
            "2/2 [==============================] - 0s 7ms/step - loss: 6.7661 - mae: 6.7661\n",
            "Epoch 90/100\n",
            "2/2 [==============================] - 0s 7ms/step - loss: 8.1430 - mae: 8.1430\n",
            "Epoch 91/100\n",
            "2/2 [==============================] - 0s 8ms/step - loss: 6.9146 - mae: 6.9146\n",
            "Epoch 92/100\n",
            "2/2 [==============================] - 0s 9ms/step - loss: 9.0154 - mae: 9.0154\n",
            "Epoch 93/100\n",
            "2/2 [==============================] - 0s 9ms/step - loss: 7.5062 - mae: 7.5062\n",
            "Epoch 94/100\n",
            "2/2 [==============================] - 0s 11ms/step - loss: 9.1251 - mae: 9.1251\n",
            "Epoch 95/100\n",
            "2/2 [==============================] - 0s 9ms/step - loss: 10.5836 - mae: 10.5836\n",
            "Epoch 96/100\n",
            "2/2 [==============================] - 0s 8ms/step - loss: 10.6038 - mae: 10.6038\n",
            "Epoch 97/100\n",
            "2/2 [==============================] - 0s 9ms/step - loss: 7.0162 - mae: 7.0162\n",
            "Epoch 98/100\n",
            "2/2 [==============================] - 0s 12ms/step - loss: 9.1598 - mae: 9.1598\n",
            "Epoch 99/100\n",
            "2/2 [==============================] - 0s 9ms/step - loss: 8.9643 - mae: 8.9643\n",
            "Epoch 100/100\n",
            "2/2 [==============================] - 0s 8ms/step - loss: 13.0873 - mae: 13.0873\n"
          ]
        },
        {
          "output_type": "execute_result",
          "data": {
            "text/plain": [
              "<keras.callbacks.History at 0x7a3fdd4a7460>"
            ]
          },
          "metadata": {},
          "execution_count": 49
        }
      ]
    },
    {
      "cell_type": "code",
      "source": [
        "\n",
        "# Make and plot predictions for model_1\n",
        "y_preds_1 = model_1.predict(X_test)\n",
        "plot_predictions(predictions=y_preds_1)\n",
        "\n",
        "# Calculate model_1 metrics\n",
        "mae_1 = mae(y_test, y_preds_1)\n",
        "mse_1 = mse(y_test, y_preds_1)\n",
        "mae_1, mse_1"
      ],
      "metadata": {
        "colab": {
          "base_uri": "https://localhost:8080/",
          "height": 653
        },
        "id": "GCPX_bSCKSzS",
        "outputId": "5ae78f61-4968-447b-c533-2ddd559b33ee"
      },
      "execution_count": null,
      "outputs": [
        {
          "output_type": "stream",
          "name": "stdout",
          "text": [
            "1/1 [==============================] - 0s 42ms/step\n"
          ]
        },
        {
          "output_type": "execute_result",
          "data": {
            "text/plain": [
              "(<tf.Tensor: shape=(), dtype=float32, numpy=32.70791>,\n",
              " <tf.Tensor: shape=(), dtype=float32, numpy=1082.2961>)"
            ]
          },
          "metadata": {},
          "execution_count": 50
        },
        {
          "output_type": "display_data",
          "data": {
            "text/plain": [
              "<Figure size 1000x700 with 1 Axes>"
            ],
            "image/png": "[encoded data removed]"
          },
          "metadata": {}
        }
      ]
    },
    {
      "cell_type": "markdown",
      "source": [
        "###Build model_2\n"
      ],
      "metadata": {
        "id": "ZPwn1GB0Odtu"
      }
    },
    {
      "cell_type": "code",
      "source": [
        "tf.random.set_seed(42)\n",
        "\n",
        "model_2= tf.keras.Sequential([\n",
        "    tf.keras.layers.Dense(10),\n",
        "    tf.keras.layers.Dense(1)\n",
        "])\n",
        "\n",
        "model_2.compile(loss = tf.keras.losses.mae,\n",
        "                optimizer=tf.keras.optimizers.SGD(),\n",
        "                metrics=['mse'])\n",
        "\n",
        "model_2.fit(tf.expand_dims(X_train, axis=-1), y_train, epochs=100)"
      ],
      "metadata": {
        "colab": {
          "base_uri": "https://localhost:8080/"
        },
        "id": "Pgkq_9jSKSnL",
        "outputId": "d130d374-45ae-4953-e839-6adb7b1a4efe"
      },
      "execution_count": null,
      "outputs": [
        {
          "output_type": "stream",
          "name": "stdout",
          "text": [
            "Epoch 1/100\n",
            "2/2 [==============================] - 0s 13ms/step - loss: 65.7087 - mse: 6547.2524\n",
            "Epoch 2/100\n",
            "2/2 [==============================] - 0s 12ms/step - loss: 21.3274 - mse: 714.5697\n",
            "Epoch 3/100\n",
            "2/2 [==============================] - 0s 9ms/step - loss: 18.9023 - mse: 520.0049\n",
            "Epoch 4/100\n",
            "2/2 [==============================] - 0s 8ms/step - loss: 13.7397 - mse: 246.3209\n",
            "Epoch 5/100\n",
            "2/2 [==============================] - 0s 8ms/step - loss: 15.2269 - mse: 294.5656\n",
            "Epoch 6/100\n",
            "2/2 [==============================] - 0s 7ms/step - loss: 12.0983 - mse: 178.9945\n",
            "Epoch 7/100\n",
            "2/2 [==============================] - 0s 7ms/step - loss: 11.4076 - mse: 157.9581\n",
            "Epoch 8/100\n",
            "2/2 [==============================] - 0s 7ms/step - loss: 11.1870 - mse: 171.2262\n",
            "Epoch 9/100\n",
            "2/2 [==============================] - 0s 7ms/step - loss: 41.5358 - mse: 2743.9705\n",
            "Epoch 10/100\n",
            "2/2 [==============================] - 0s 8ms/step - loss: 28.7927 - mse: 1171.0554\n",
            "Epoch 11/100\n",
            "2/2 [==============================] - 0s 8ms/step - loss: 9.4100 - mse: 118.9346\n",
            "Epoch 12/100\n",
            "2/2 [==============================] - 0s 7ms/step - loss: 26.2437 - mse: 953.1798\n",
            "Epoch 13/100\n",
            "2/2 [==============================] - 0s 15ms/step - loss: 14.5298 - mse: 283.9822\n",
            "Epoch 14/100\n",
            "2/2 [==============================] - 0s 7ms/step - loss: 30.0946 - mse: 1449.2279\n",
            "Epoch 15/100\n",
            "2/2 [==============================] - 0s 6ms/step - loss: 19.8968 - mse: 554.6456\n",
            "Epoch 16/100\n",
            "2/2 [==============================] - 0s 7ms/step - loss: 9.8908 - mse: 125.7957\n",
            "Epoch 17/100\n",
            "2/2 [==============================] - 0s 7ms/step - loss: 17.7730 - mse: 418.0737\n",
            "Epoch 18/100\n",
            "2/2 [==============================] - 0s 7ms/step - loss: 14.2465 - mse: 320.9608\n",
            "Epoch 19/100\n",
            "2/2 [==============================] - 0s 7ms/step - loss: 14.0910 - mse: 310.4364\n",
            "Epoch 20/100\n",
            "2/2 [==============================] - 0s 7ms/step - loss: 11.2699 - mse: 147.0912\n",
            "Epoch 21/100\n",
            "2/2 [==============================] - 0s 8ms/step - loss: 17.4224 - mse: 431.1685\n",
            "Epoch 22/100\n",
            "2/2 [==============================] - 0s 7ms/step - loss: 15.9476 - mse: 354.2129\n",
            "Epoch 23/100\n",
            "2/2 [==============================] - 0s 8ms/step - loss: 9.8491 - mse: 141.1217\n",
            "Epoch 24/100\n",
            "2/2 [==============================] - 0s 7ms/step - loss: 16.4438 - mse: 364.7952\n",
            "Epoch 25/100\n",
            "2/2 [==============================] - 0s 8ms/step - loss: 15.3776 - mse: 308.1926\n",
            "Epoch 26/100\n",
            "2/2 [==============================] - 0s 7ms/step - loss: 20.5949 - mse: 630.0356\n",
            "Epoch 27/100\n",
            "2/2 [==============================] - 0s 8ms/step - loss: 26.3082 - mse: 1083.3903\n",
            "Epoch 28/100\n",
            "2/2 [==============================] - 0s 7ms/step - loss: 18.7611 - mse: 557.8770\n",
            "Epoch 29/100\n",
            "2/2 [==============================] - 0s 19ms/step - loss: 9.2544 - mse: 96.3144\n",
            "Epoch 30/100\n",
            "2/2 [==============================] - 0s 8ms/step - loss: 29.3964 - mse: 1552.9956\n",
            "Epoch 31/100\n",
            "2/2 [==============================] - 0s 8ms/step - loss: 53.2785 - mse: 5081.2402\n",
            "Epoch 32/100\n",
            "2/2 [==============================] - 0s 7ms/step - loss: 9.4737 - mse: 100.5007\n",
            "Epoch 33/100\n",
            "2/2 [==============================] - 0s 7ms/step - loss: 12.0482 - mse: 173.3924\n",
            "Epoch 34/100\n",
            "2/2 [==============================] - 0s 7ms/step - loss: 23.2605 - mse: 821.2131\n",
            "Epoch 35/100\n",
            "2/2 [==============================] - 0s 7ms/step - loss: 11.8495 - mse: 217.4203\n",
            "Epoch 36/100\n",
            "2/2 [==============================] - 0s 8ms/step - loss: 21.8253 - mse: 679.1198\n",
            "Epoch 37/100\n",
            "2/2 [==============================] - 0s 7ms/step - loss: 11.1333 - mse: 145.2262\n",
            "Epoch 38/100\n",
            "2/2 [==============================] - 0s 8ms/step - loss: 12.7247 - mse: 234.3861\n",
            "Epoch 39/100\n",
            "2/2 [==============================] - 0s 8ms/step - loss: 11.5989 - mse: 192.0309\n",
            "Epoch 40/100\n",
            "2/2 [==============================] - 0s 7ms/step - loss: 19.2304 - mse: 532.0361\n",
            "Epoch 41/100\n",
            "2/2 [==============================] - 0s 8ms/step - loss: 10.9626 - mse: 180.1797\n",
            "Epoch 42/100\n",
            "2/2 [==============================] - 0s 7ms/step - loss: 9.2935 - mse: 115.4891\n",
            "Epoch 43/100\n",
            "2/2 [==============================] - 0s 7ms/step - loss: 9.5966 - mse: 111.4164\n",
            "Epoch 44/100\n",
            "2/2 [==============================] - 0s 7ms/step - loss: 27.9205 - mse: 1249.8633\n",
            "Epoch 45/100\n",
            "2/2 [==============================] - 0s 8ms/step - loss: 11.2746 - mse: 146.5500\n",
            "Epoch 46/100\n",
            "2/2 [==============================] - 0s 8ms/step - loss: 13.8677 - mse: 281.4586\n",
            "Epoch 47/100\n",
            "2/2 [==============================] - 0s 8ms/step - loss: 11.9246 - mse: 212.1460\n",
            "Epoch 48/100\n",
            "2/2 [==============================] - 0s 8ms/step - loss: 16.9587 - mse: 389.3888\n",
            "Epoch 49/100\n",
            "2/2 [==============================] - 0s 8ms/step - loss: 9.7822 - mse: 105.0558\n",
            "Epoch 50/100\n",
            "2/2 [==============================] - 0s 8ms/step - loss: 14.1737 - mse: 280.8660\n",
            "Epoch 51/100\n",
            "2/2 [==============================] - 0s 7ms/step - loss: 11.7438 - mse: 161.3426\n",
            "Epoch 52/100\n",
            "2/2 [==============================] - 0s 7ms/step - loss: 31.3717 - mse: 1710.1117\n",
            "Epoch 53/100\n",
            "2/2 [==============================] - 0s 8ms/step - loss: 14.7220 - mse: 320.9537\n",
            "Epoch 54/100\n",
            "2/2 [==============================] - 0s 8ms/step - loss: 24.6039 - mse: 910.9266\n",
            "Epoch 55/100\n",
            "2/2 [==============================] - 0s 8ms/step - loss: 23.8880 - mse: 857.9006\n",
            "Epoch 56/100\n",
            "2/2 [==============================] - 0s 8ms/step - loss: 11.1262 - mse: 171.2588\n",
            "Epoch 57/100\n",
            "2/2 [==============================] - 0s 10ms/step - loss: 13.0628 - mse: 211.3976\n",
            "Epoch 58/100\n",
            "2/2 [==============================] - 0s 8ms/step - loss: 9.7849 - mse: 105.6865\n",
            "Epoch 59/100\n",
            "2/2 [==============================] - 0s 8ms/step - loss: 13.2365 - mse: 245.1353\n",
            "Epoch 60/100\n",
            "2/2 [==============================] - 0s 8ms/step - loss: 10.8363 - mse: 137.8556\n",
            "Epoch 61/100\n",
            "2/2 [==============================] - 0s 7ms/step - loss: 13.4133 - mse: 237.9716\n",
            "Epoch 62/100\n",
            "2/2 [==============================] - 0s 9ms/step - loss: 17.3682 - mse: 459.9454\n",
            "Epoch 63/100\n",
            "2/2 [==============================] - 0s 8ms/step - loss: 9.1408 - mse: 87.8013\n",
            "Epoch 64/100\n",
            "2/2 [==============================] - 0s 8ms/step - loss: 17.9880 - mse: 469.4986\n",
            "Epoch 65/100\n",
            "2/2 [==============================] - 0s 7ms/step - loss: 10.6271 - mse: 138.7764\n",
            "Epoch 66/100\n",
            "2/2 [==============================] - 0s 7ms/step - loss: 21.5107 - mse: 684.7333\n",
            "Epoch 67/100\n",
            "2/2 [==============================] - 0s 7ms/step - loss: 10.6395 - mse: 132.9025\n",
            "Epoch 68/100\n",
            "2/2 [==============================] - 0s 8ms/step - loss: 14.8862 - mse: 336.5715\n",
            "Epoch 69/100\n",
            "2/2 [==============================] - 0s 11ms/step - loss: 10.7864 - mse: 134.7949\n",
            "Epoch 70/100\n",
            "2/2 [==============================] - 0s 8ms/step - loss: 12.8894 - mse: 211.8272\n",
            "Epoch 71/100\n",
            "2/2 [==============================] - 0s 8ms/step - loss: 13.3087 - mse: 241.8674\n",
            "Epoch 72/100\n",
            "2/2 [==============================] - 0s 7ms/step - loss: 20.1710 - mse: 578.8239\n",
            "Epoch 73/100\n",
            "2/2 [==============================] - 0s 8ms/step - loss: 9.7430 - mse: 149.6644\n",
            "Epoch 74/100\n",
            "2/2 [==============================] - 0s 8ms/step - loss: 27.4816 - mse: 1202.5713\n",
            "Epoch 75/100\n",
            "2/2 [==============================] - 0s 8ms/step - loss: 10.0332 - mse: 145.9652\n",
            "Epoch 76/100\n",
            "2/2 [==============================] - 0s 8ms/step - loss: 12.9542 - mse: 209.2768\n",
            "Epoch 77/100\n",
            "2/2 [==============================] - 0s 8ms/step - loss: 17.9612 - mse: 503.1890\n",
            "Epoch 78/100\n",
            "2/2 [==============================] - 0s 7ms/step - loss: 8.9681 - mse: 88.2534\n",
            "Epoch 79/100\n",
            "2/2 [==============================] - 0s 10ms/step - loss: 28.8113 - mse: 1312.3147\n",
            "Epoch 80/100\n",
            "2/2 [==============================] - 0s 8ms/step - loss: 31.1648 - mse: 1543.3562\n",
            "Epoch 81/100\n",
            "2/2 [==============================] - 0s 8ms/step - loss: 13.5849 - mse: 259.9138\n",
            "Epoch 82/100\n",
            "2/2 [==============================] - 0s 8ms/step - loss: 15.8648 - mse: 346.1862\n",
            "Epoch 83/100\n",
            "2/2 [==============================] - 0s 7ms/step - loss: 9.1393 - mse: 92.9168\n",
            "Epoch 84/100\n",
            "2/2 [==============================] - 0s 8ms/step - loss: 8.2071 - mse: 108.5722\n",
            "Epoch 85/100\n",
            "2/2 [==============================] - 0s 8ms/step - loss: 18.8767 - mse: 555.1793\n",
            "Epoch 86/100\n",
            "2/2 [==============================] - 0s 7ms/step - loss: 21.9752 - mse: 691.5897\n",
            "Epoch 87/100\n",
            "2/2 [==============================] - 0s 7ms/step - loss: 11.2175 - mse: 150.7438\n",
            "Epoch 88/100\n",
            "2/2 [==============================] - 0s 8ms/step - loss: 25.9327 - mse: 958.7308\n",
            "Epoch 89/100\n",
            "2/2 [==============================] - 0s 9ms/step - loss: 9.5246 - mse: 132.3434\n",
            "Epoch 90/100\n",
            "2/2 [==============================] - 0s 7ms/step - loss: 18.2432 - mse: 477.4504\n",
            "Epoch 91/100\n",
            "2/2 [==============================] - 0s 7ms/step - loss: 10.3272 - mse: 166.7541\n",
            "Epoch 92/100\n",
            "2/2 [==============================] - 0s 7ms/step - loss: 17.4931 - mse: 417.9774\n",
            "Epoch 93/100\n",
            "2/2 [==============================] - 0s 7ms/step - loss: 6.8293 - mse: 64.7052\n",
            "Epoch 94/100\n",
            "2/2 [==============================] - 0s 7ms/step - loss: 17.6605 - mse: 474.8325\n",
            "Epoch 95/100\n",
            "2/2 [==============================] - 0s 8ms/step - loss: 17.3769 - mse: 419.2523\n",
            "Epoch 96/100\n",
            "2/2 [==============================] - 0s 13ms/step - loss: 11.5429 - mse: 209.3150\n",
            "Epoch 97/100\n",
            "2/2 [==============================] - 0s 9ms/step - loss: 18.3172 - mse: 454.7247\n",
            "Epoch 98/100\n",
            "2/2 [==============================] - 0s 9ms/step - loss: 9.7596 - mse: 177.8405\n",
            "Epoch 99/100\n",
            "2/2 [==============================] - 0s 7ms/step - loss: 16.9470 - mse: 450.3736\n",
            "Epoch 100/100\n",
            "2/2 [==============================] - 0s 9ms/step - loss: 17.8194 - mse: 468.8102\n"
          ]
        },
        {
          "output_type": "execute_result",
          "data": {
            "text/plain": [
              "<keras.callbacks.History at 0x7a3fccf00a60>"
            ]
          },
          "metadata": {},
          "execution_count": 51
        }
      ]
    },
    {
      "cell_type": "code",
      "source": [
        "y_preds_2 = model_2.predict(X_test)\n",
        "plot_predictions(predictions=y_preds_2)"
      ],
      "metadata": {
        "colab": {
          "base_uri": "https://localhost:8080/",
          "height": 617
        },
        "id": "MQGfYG_dKSZj",
        "outputId": "833e208a-5a7c-410d-9097-e9f566b39356"
      },
      "execution_count": null,
      "outputs": [
        {
          "output_type": "stream",
          "name": "stdout",
          "text": [
            "1/1 [==============================] - 0s 46ms/step\n"
          ]
        },
        {
          "output_type": "display_data",
          "data": {
            "text/plain": [
              "<Figure size 1000x700 with 1 Axes>"
            ],
            "image/png": "[encoded data removed]"
          },
          "metadata": {}
        }
      ]
    },
    {
      "cell_type": "code",
      "source": [
        "#calulate model_2 evaluation matrix\n",
        "mae2= mae(X_test, y_preds_2)\n",
        "\n",
        "mse2=mse(X_test, y_preds_2)\n",
        "mae2, mse2\n"
      ],
      "metadata": {
        "colab": {
          "base_uri": "https://localhost:8080/"
        },
        "id": "tCchAhBKKSMB",
        "outputId": "382af6fa-a9a2-49f0-e130-8697df81ea2f"
      },
      "execution_count": null,
      "outputs": [
        {
          "output_type": "execute_result",
          "data": {
            "text/plain": [
              "(<tf.Tensor: shape=(), dtype=float32, numpy=33.10919>,\n",
              " <tf.Tensor: shape=(), dtype=float32, numpy=1122.1115>)"
            ]
          },
          "metadata": {},
          "execution_count": 53
        }
      ]
    },
    {
      "cell_type": "markdown",
      "source": [
        "**build model 3**\n",
        "\n",
        "*2 layes and 500 epoches*"
      ],
      "metadata": {
        "id": "UcO7s7ejKRwz"
      }
    },
    {
      "cell_type": "code",
      "source": [
        "#set the random seed\n",
        "tf.random.set_seed(42)\n",
        "\n",
        "model_3= tf.keras.Sequential([\n",
        "    tf.keras.layers.Dense(10),\n",
        "    tf.keras.layers.Dense(1)\n",
        "])\n",
        "model_3.compile(loss=tf.keras.losses.mae,\n",
        "                optimizer=tf.keras.optimizers.SGD(),\n",
        "                metrics=['mae'])\n",
        "\n",
        "model_3.fit(tf.expand_dims(X_train, axis=-1), y_train, epochs=500)"
      ],
      "metadata": {
        "colab": {
          "base_uri": "https://localhost:8080/"
        },
        "id": "GesTD3OSKRk5",
        "outputId": "1f9eb446-5049-4c95-fb57-653995d669ec"
      },
      "execution_count": null,
      "outputs": [
        {
          "output_type": "stream",
          "name": "stdout",
          "text": [
            "Epoch 1/500\n",
            "2/2 [==============================] - 0s 14ms/step - loss: 33.0195 - mae: 33.0195\n",
            "Epoch 2/500\n",
            "2/2 [==============================] - 0s 10ms/step - loss: 27.2738 - mae: 27.2738\n",
            "Epoch 3/500\n",
            "2/2 [==============================] - 0s 8ms/step - loss: 25.8572 - mae: 25.8572\n",
            "Epoch 4/500\n",
            "2/2 [==============================] - 0s 7ms/step - loss: 14.5733 - mae: 14.5733\n",
            "Epoch 5/500\n",
            "2/2 [==============================] - 0s 7ms/step - loss: 21.8629 - mae: 21.8629\n",
            "Epoch 6/500\n",
            "2/2 [==============================] - 0s 8ms/step - loss: 10.6487 - mae: 10.6487\n",
            "Epoch 7/500\n",
            "2/2 [==============================] - 0s 7ms/step - loss: 11.6415 - mae: 11.6415\n",
            "Epoch 8/500\n",
            "2/2 [==============================] - 0s 7ms/step - loss: 12.0502 - mae: 12.0502\n",
            "Epoch 9/500\n",
            "2/2 [==============================] - 0s 8ms/step - loss: 37.5913 - mae: 37.5913\n",
            "Epoch 10/500\n",
            "2/2 [==============================] - 0s 7ms/step - loss: 25.2424 - mae: 25.2424\n",
            "Epoch 11/500\n",
            "2/2 [==============================] - 0s 8ms/step - loss: 10.2583 - mae: 10.2583\n",
            "Epoch 12/500\n",
            "2/2 [==============================] - 0s 8ms/step - loss: 25.4182 - mae: 25.4182\n",
            "Epoch 13/500\n",
            "2/2 [==============================] - 0s 7ms/step - loss: 16.8435 - mae: 16.8435\n",
            "Epoch 14/500\n",
            "2/2 [==============================] - 0s 7ms/step - loss: 25.6443 - mae: 25.6443\n",
            "Epoch 15/500\n",
            "2/2 [==============================] - 0s 7ms/step - loss: 17.5246 - mae: 17.5246\n",
            "Epoch 16/500\n",
            "2/2 [==============================] - 0s 7ms/step - loss: 10.0370 - mae: 10.0370\n",
            "Epoch 17/500\n",
            "2/2 [==============================] - 0s 7ms/step - loss: 18.5418 - mae: 18.5418\n",
            "Epoch 18/500\n",
            "2/2 [==============================] - 0s 8ms/step - loss: 11.3680 - mae: 11.3680\n",
            "Epoch 19/500\n",
            "2/2 [==============================] - 0s 7ms/step - loss: 13.9538 - mae: 13.9538\n",
            "Epoch 20/500\n",
            "2/2 [==============================] - 0s 8ms/step - loss: 11.2089 - mae: 11.2089\n",
            "Epoch 21/500\n",
            "2/2 [==============================] - 0s 7ms/step - loss: 17.2698 - mae: 17.2698\n",
            "Epoch 22/500\n",
            "2/2 [==============================] - 0s 8ms/step - loss: 15.5061 - mae: 15.5061\n",
            "Epoch 23/500\n",
            "2/2 [==============================] - 0s 11ms/step - loss: 9.2444 - mae: 9.2444\n",
            "Epoch 24/500\n",
            "2/2 [==============================] - 0s 12ms/step - loss: 17.2740 - mae: 17.2740\n",
            "Epoch 25/500\n",
            "2/2 [==============================] - 0s 7ms/step - loss: 15.9469 - mae: 15.9469\n",
            "Epoch 26/500\n",
            "2/2 [==============================] - 0s 8ms/step - loss: 20.9476 - mae: 20.9476\n",
            "Epoch 27/500\n",
            "2/2 [==============================] - 0s 6ms/step - loss: 25.9275 - mae: 25.9275\n",
            "Epoch 28/500\n",
            "2/2 [==============================] - 0s 7ms/step - loss: 18.4301 - mae: 18.4301\n",
            "Epoch 29/500\n",
            "2/2 [==============================] - 0s 7ms/step - loss: 9.2461 - mae: 9.2461\n",
            "Epoch 30/500\n",
            "2/2 [==============================] - 0s 7ms/step - loss: 29.0385 - mae: 29.0385\n",
            "Epoch 31/500\n",
            "2/2 [==============================] - 0s 7ms/step - loss: 52.5894 - mae: 52.5894\n",
            "Epoch 32/500\n",
            "2/2 [==============================] - 0s 7ms/step - loss: 11.9118 - mae: 11.9118\n",
            "Epoch 33/500\n",
            "2/2 [==============================] - 0s 7ms/step - loss: 15.4887 - mae: 15.4887\n",
            "Epoch 34/500\n",
            "2/2 [==============================] - 0s 7ms/step - loss: 12.5921 - mae: 12.5921\n",
            "Epoch 35/500\n",
            "2/2 [==============================] - 0s 12ms/step - loss: 9.1963 - mae: 9.1963\n",
            "Epoch 36/500\n",
            "2/2 [==============================] - 0s 8ms/step - loss: 16.4595 - mae: 16.4595\n",
            "Epoch 37/500\n",
            "2/2 [==============================] - 0s 10ms/step - loss: 11.0936 - mae: 11.0936\n",
            "Epoch 38/500\n",
            "2/2 [==============================] - 0s 8ms/step - loss: 18.2239 - mae: 18.2239\n",
            "Epoch 39/500\n",
            "2/2 [==============================] - 0s 7ms/step - loss: 19.1558 - mae: 19.1558\n",
            "Epoch 40/500\n",
            "2/2 [==============================] - 0s 8ms/step - loss: 20.5313 - mae: 20.5313\n",
            "Epoch 41/500\n",
            "2/2 [==============================] - 0s 9ms/step - loss: 14.7909 - mae: 14.7909\n",
            "Epoch 42/500\n",
            "2/2 [==============================] - 0s 8ms/step - loss: 12.1903 - mae: 12.1903\n",
            "Epoch 43/500\n",
            "2/2 [==============================] - 0s 8ms/step - loss: 10.6919 - mae: 10.6919\n",
            "Epoch 44/500\n",
            "2/2 [==============================] - 0s 8ms/step - loss: 32.2052 - mae: 32.2052\n",
            "Epoch 45/500\n",
            "2/2 [==============================] - 0s 7ms/step - loss: 12.4553 - mae: 12.4553\n",
            "Epoch 46/500\n",
            "2/2 [==============================] - 0s 15ms/step - loss: 17.4653 - mae: 17.4653\n",
            "Epoch 47/500\n",
            "2/2 [==============================] - 0s 8ms/step - loss: 15.7778 - mae: 15.7778\n",
            "Epoch 48/500\n",
            "2/2 [==============================] - 0s 9ms/step - loss: 8.3906 - mae: 8.3906\n",
            "Epoch 49/500\n",
            "2/2 [==============================] - 0s 7ms/step - loss: 14.2402 - mae: 14.2402\n",
            "Epoch 50/500\n",
            "2/2 [==============================] - 0s 7ms/step - loss: 15.1708 - mae: 15.1708\n",
            "Epoch 51/500\n",
            "2/2 [==============================] - 0s 7ms/step - loss: 13.6889 - mae: 13.6889\n",
            "Epoch 52/500\n",
            "2/2 [==============================] - 0s 7ms/step - loss: 18.1050 - mae: 18.1050\n",
            "Epoch 53/500\n",
            "2/2 [==============================] - 0s 17ms/step - loss: 22.7622 - mae: 22.7622\n",
            "Epoch 54/500\n",
            "2/2 [==============================] - 0s 8ms/step - loss: 26.8249 - mae: 26.8249\n",
            "Epoch 55/500\n",
            "2/2 [==============================] - 0s 10ms/step - loss: 26.4616 - mae: 26.4616\n",
            "Epoch 56/500\n",
            "2/2 [==============================] - 0s 8ms/step - loss: 11.3700 - mae: 11.3700\n",
            "Epoch 57/500\n",
            "2/2 [==============================] - 0s 8ms/step - loss: 13.3937 - mae: 13.3937\n",
            "Epoch 58/500\n",
            "2/2 [==============================] - 0s 8ms/step - loss: 9.9683 - mae: 9.9683\n",
            "Epoch 59/500\n",
            "2/2 [==============================] - 0s 7ms/step - loss: 13.9450 - mae: 13.9450\n",
            "Epoch 60/500\n",
            "2/2 [==============================] - 0s 7ms/step - loss: 10.0081 - mae: 10.0081\n",
            "Epoch 61/500\n",
            "2/2 [==============================] - 0s 7ms/step - loss: 14.9952 - mae: 14.9952\n",
            "Epoch 62/500\n",
            "2/2 [==============================] - 0s 8ms/step - loss: 11.9438 - mae: 11.9438\n",
            "Epoch 63/500\n",
            "2/2 [==============================] - 0s 8ms/step - loss: 10.2996 - mae: 10.2996\n",
            "Epoch 64/500\n",
            "2/2 [==============================] - 0s 7ms/step - loss: 23.9054 - mae: 23.9054\n",
            "Epoch 65/500\n",
            "2/2 [==============================] - 0s 7ms/step - loss: 10.4752 - mae: 10.4752\n",
            "Epoch 66/500\n",
            "2/2 [==============================] - 0s 7ms/step - loss: 20.9445 - mae: 20.9445\n",
            "Epoch 67/500\n",
            "2/2 [==============================] - 0s 8ms/step - loss: 10.4514 - mae: 10.4514\n",
            "Epoch 68/500\n",
            "2/2 [==============================] - 0s 7ms/step - loss: 14.1816 - mae: 14.1816\n",
            "Epoch 69/500\n",
            "2/2 [==============================] - 0s 7ms/step - loss: 10.5198 - mae: 10.5198\n",
            "Epoch 70/500\n",
            "2/2 [==============================] - 0s 8ms/step - loss: 12.5899 - mae: 12.5899\n",
            "Epoch 71/500\n",
            "2/2 [==============================] - 0s 14ms/step - loss: 13.0167 - mae: 13.0167\n",
            "Epoch 72/500\n",
            "2/2 [==============================] - 0s 8ms/step - loss: 19.3474 - mae: 19.3474\n",
            "Epoch 73/500\n",
            "2/2 [==============================] - 0s 8ms/step - loss: 11.1311 - mae: 11.1311\n",
            "Epoch 74/500\n",
            "2/2 [==============================] - 0s 8ms/step - loss: 21.4227 - mae: 21.4227\n",
            "Epoch 75/500\n",
            "2/2 [==============================] - 0s 8ms/step - loss: 9.4580 - mae: 9.4580\n",
            "Epoch 76/500\n",
            "2/2 [==============================] - 0s 7ms/step - loss: 12.2788 - mae: 12.2788\n",
            "Epoch 77/500\n",
            "2/2 [==============================] - 0s 9ms/step - loss: 16.2964 - mae: 16.2964\n",
            "Epoch 78/500\n",
            "2/2 [==============================] - 0s 8ms/step - loss: 9.0112 - mae: 9.0112\n",
            "Epoch 79/500\n",
            "2/2 [==============================] - 0s 8ms/step - loss: 23.5303 - mae: 23.5303\n",
            "Epoch 80/500\n",
            "2/2 [==============================] - 0s 8ms/step - loss: 26.2185 - mae: 26.2185\n",
            "Epoch 81/500\n",
            "2/2 [==============================] - 0s 7ms/step - loss: 11.4249 - mae: 11.4249\n",
            "Epoch 82/500\n",
            "2/2 [==============================] - 0s 8ms/step - loss: 12.4592 - mae: 12.4592\n",
            "Epoch 83/500\n",
            "2/2 [==============================] - 0s 8ms/step - loss: 17.1324 - mae: 17.1324\n",
            "Epoch 84/500\n",
            "2/2 [==============================] - 0s 8ms/step - loss: 6.5651 - mae: 6.5651\n",
            "Epoch 85/500\n",
            "2/2 [==============================] - 0s 8ms/step - loss: 20.3918 - mae: 20.3918\n",
            "Epoch 86/500\n",
            "2/2 [==============================] - 0s 8ms/step - loss: 10.1719 - mae: 10.1719\n",
            "Epoch 87/500\n",
            "2/2 [==============================] - 0s 8ms/step - loss: 24.4483 - mae: 24.4483\n",
            "Epoch 88/500\n",
            "2/2 [==============================] - 0s 8ms/step - loss: 19.1085 - mae: 19.1085\n",
            "Epoch 89/500\n",
            "2/2 [==============================] - 0s 8ms/step - loss: 7.1506 - mae: 7.1506\n",
            "Epoch 90/500\n",
            "2/2 [==============================] - 0s 8ms/step - loss: 18.2171 - mae: 18.2171\n",
            "Epoch 91/500\n",
            "2/2 [==============================] - 0s 16ms/step - loss: 13.2660 - mae: 13.2660\n",
            "Epoch 92/500\n",
            "2/2 [==============================] - 0s 11ms/step - loss: 14.8032 - mae: 14.8032\n",
            "Epoch 93/500\n",
            "2/2 [==============================] - 0s 8ms/step - loss: 11.6068 - mae: 11.6068\n",
            "Epoch 94/500\n",
            "2/2 [==============================] - 0s 9ms/step - loss: 16.1624 - mae: 16.1624\n",
            "Epoch 95/500\n",
            "2/2 [==============================] - 0s 8ms/step - loss: 15.5045 - mae: 15.5045\n",
            "Epoch 96/500\n",
            "2/2 [==============================] - 0s 8ms/step - loss: 15.0325 - mae: 15.0325\n",
            "Epoch 97/500\n",
            "2/2 [==============================] - 0s 8ms/step - loss: 10.8647 - mae: 10.8647\n",
            "Epoch 98/500\n",
            "2/2 [==============================] - 0s 8ms/step - loss: 14.3227 - mae: 14.3227\n",
            "Epoch 99/500\n",
            "2/2 [==============================] - 0s 7ms/step - loss: 13.3520 - mae: 13.3520\n",
            "Epoch 100/500\n",
            "2/2 [==============================] - 0s 7ms/step - loss: 19.9454 - mae: 19.9454\n",
            "Epoch 101/500\n",
            "2/2 [==============================] - 0s 8ms/step - loss: 22.6306 - mae: 22.6306\n",
            "Epoch 102/500\n",
            "2/2 [==============================] - 0s 7ms/step - loss: 11.3091 - mae: 11.3091\n",
            "Epoch 103/500\n",
            "2/2 [==============================] - 0s 7ms/step - loss: 9.3631 - mae: 9.3631\n",
            "Epoch 104/500\n",
            "2/2 [==============================] - 0s 7ms/step - loss: 25.2715 - mae: 25.2715\n",
            "Epoch 105/500\n",
            "2/2 [==============================] - 0s 7ms/step - loss: 12.4699 - mae: 12.4699\n",
            "Epoch 106/500\n",
            "2/2 [==============================] - 0s 8ms/step - loss: 9.4028 - mae: 9.4028\n",
            "Epoch 107/500\n",
            "2/2 [==============================] - 0s 8ms/step - loss: 23.2942 - mae: 23.2942\n",
            "Epoch 108/500\n",
            "2/2 [==============================] - 0s 7ms/step - loss: 8.2844 - mae: 8.2844\n",
            "Epoch 109/500\n",
            "2/2 [==============================] - 0s 9ms/step - loss: 14.0869 - mae: 14.0869\n",
            "Epoch 110/500\n",
            "2/2 [==============================] - 0s 8ms/step - loss: 10.6048 - mae: 10.6048\n",
            "Epoch 111/500\n",
            "2/2 [==============================] - 0s 7ms/step - loss: 16.9117 - mae: 16.9117\n",
            "Epoch 112/500\n",
            "2/2 [==============================] - 0s 7ms/step - loss: 8.2719 - mae: 8.2719\n",
            "Epoch 113/500\n",
            "2/2 [==============================] - 0s 7ms/step - loss: 19.7522 - mae: 19.7522\n",
            "Epoch 114/500\n",
            "2/2 [==============================] - 0s 8ms/step - loss: 17.4501 - mae: 17.4501\n",
            "Epoch 115/500\n",
            "2/2 [==============================] - 0s 7ms/step - loss: 11.2421 - mae: 11.2421\n",
            "Epoch 116/500\n",
            "2/2 [==============================] - 0s 7ms/step - loss: 23.6405 - mae: 23.6405\n",
            "Epoch 117/500\n",
            "2/2 [==============================] - 0s 8ms/step - loss: 9.7461 - mae: 9.7461\n",
            "Epoch 118/500\n",
            "2/2 [==============================] - 0s 8ms/step - loss: 10.8311 - mae: 10.8311\n",
            "Epoch 119/500\n",
            "2/2 [==============================] - 0s 9ms/step - loss: 8.0856 - mae: 8.0856\n",
            "Epoch 120/500\n",
            "2/2 [==============================] - 0s 8ms/step - loss: 30.0094 - mae: 30.0094\n",
            "Epoch 121/500\n",
            "2/2 [==============================] - 0s 8ms/step - loss: 8.1152 - mae: 8.1152\n",
            "Epoch 122/500\n",
            "2/2 [==============================] - 0s 8ms/step - loss: 28.5555 - mae: 28.5555\n",
            "Epoch 123/500\n",
            "2/2 [==============================] - 0s 8ms/step - loss: 33.2035 - mae: 33.2035\n",
            "Epoch 124/500\n",
            "2/2 [==============================] - 0s 8ms/step - loss: 19.8646 - mae: 19.8646\n",
            "Epoch 125/500\n",
            "2/2 [==============================] - 0s 8ms/step - loss: 7.6863 - mae: 7.6863\n",
            "Epoch 126/500\n",
            "2/2 [==============================] - 0s 8ms/step - loss: 17.1192 - mae: 17.1192\n",
            "Epoch 127/500\n",
            "2/2 [==============================] - 0s 8ms/step - loss: 7.5167 - mae: 7.5167\n",
            "Epoch 128/500\n",
            "2/2 [==============================] - 0s 8ms/step - loss: 18.1046 - mae: 18.1046\n",
            "Epoch 129/500\n",
            "2/2 [==============================] - 0s 7ms/step - loss: 8.7840 - mae: 8.7840\n",
            "Epoch 130/500\n",
            "2/2 [==============================] - 0s 7ms/step - loss: 22.4993 - mae: 22.4993\n",
            "Epoch 131/500\n",
            "2/2 [==============================] - 0s 8ms/step - loss: 9.8108 - mae: 9.8108\n",
            "Epoch 132/500\n",
            "2/2 [==============================] - 0s 8ms/step - loss: 18.4106 - mae: 18.4106\n",
            "Epoch 133/500\n",
            "2/2 [==============================] - 0s 10ms/step - loss: 7.6216 - mae: 7.6216\n",
            "Epoch 134/500\n",
            "2/2 [==============================] - 0s 8ms/step - loss: 18.6661 - mae: 18.6661\n",
            "Epoch 135/500\n",
            "2/2 [==============================] - 0s 8ms/step - loss: 10.5872 - mae: 10.5872\n",
            "Epoch 136/500\n",
            "2/2 [==============================] - 0s 8ms/step - loss: 18.3330 - mae: 18.3330\n",
            "Epoch 137/500\n",
            "2/2 [==============================] - 0s 8ms/step - loss: 23.2464 - mae: 23.2464\n",
            "Epoch 138/500\n",
            "2/2 [==============================] - 0s 8ms/step - loss: 9.1834 - mae: 9.1834\n",
            "Epoch 139/500\n",
            "2/2 [==============================] - 0s 8ms/step - loss: 8.9524 - mae: 8.9524\n",
            "Epoch 140/500\n",
            "2/2 [==============================] - 0s 8ms/step - loss: 16.5086 - mae: 16.5086\n",
            "Epoch 141/500\n",
            "2/2 [==============================] - 0s 7ms/step - loss: 8.4484 - mae: 8.4484\n",
            "Epoch 142/500\n",
            "2/2 [==============================] - 0s 8ms/step - loss: 36.9656 - mae: 36.9656\n",
            "Epoch 143/500\n",
            "2/2 [==============================] - 0s 8ms/step - loss: 25.6086 - mae: 25.6086\n",
            "Epoch 144/500\n",
            "2/2 [==============================] - 0s 13ms/step - loss: 9.5584 - mae: 9.5584\n",
            "Epoch 145/500\n",
            "2/2 [==============================] - 0s 8ms/step - loss: 26.6115 - mae: 26.6115\n",
            "Epoch 146/500\n",
            "2/2 [==============================] - 0s 8ms/step - loss: 8.7455 - mae: 8.7455\n",
            "Epoch 147/500\n",
            "2/2 [==============================] - 0s 8ms/step - loss: 15.6390 - mae: 15.6390\n",
            "Epoch 148/500\n",
            "2/2 [==============================] - 0s 8ms/step - loss: 18.3300 - mae: 18.3300\n",
            "Epoch 149/500\n",
            "2/2 [==============================] - 0s 7ms/step - loss: 8.2060 - mae: 8.2060\n",
            "Epoch 150/500\n",
            "2/2 [==============================] - 0s 8ms/step - loss: 7.5132 - mae: 7.5132\n",
            "Epoch 151/500\n",
            "2/2 [==============================] - 0s 11ms/step - loss: 18.2857 - mae: 18.2857\n",
            "Epoch 152/500\n",
            "2/2 [==============================] - 0s 7ms/step - loss: 10.2975 - mae: 10.2975\n",
            "Epoch 153/500\n",
            "2/2 [==============================] - 0s 8ms/step - loss: 29.5371 - mae: 29.5371\n",
            "Epoch 154/500\n",
            "2/2 [==============================] - 0s 8ms/step - loss: 10.5904 - mae: 10.5904\n",
            "Epoch 155/500\n",
            "2/2 [==============================] - 0s 9ms/step - loss: 15.4852 - mae: 15.4852\n",
            "Epoch 156/500\n",
            "2/2 [==============================] - 0s 10ms/step - loss: 17.0800 - mae: 17.0800\n",
            "Epoch 157/500\n",
            "2/2 [==============================] - 0s 9ms/step - loss: 32.6654 - mae: 32.6654\n",
            "Epoch 158/500\n",
            "2/2 [==============================] - 0s 8ms/step - loss: 10.6823 - mae: 10.6823\n",
            "Epoch 159/500\n",
            "2/2 [==============================] - 0s 8ms/step - loss: 8.9048 - mae: 8.9048\n",
            "Epoch 160/500\n",
            "2/2 [==============================] - 0s 11ms/step - loss: 22.0020 - mae: 22.0020\n",
            "Epoch 161/500\n",
            "2/2 [==============================] - 0s 10ms/step - loss: 11.6765 - mae: 11.6765\n",
            "Epoch 162/500\n",
            "2/2 [==============================] - 0s 7ms/step - loss: 21.4428 - mae: 21.4428\n",
            "Epoch 163/500\n",
            "2/2 [==============================] - 0s 9ms/step - loss: 18.9176 - mae: 18.9176\n",
            "Epoch 164/500\n",
            "2/2 [==============================] - 0s 8ms/step - loss: 12.7549 - mae: 12.7549\n",
            "Epoch 165/500\n",
            "2/2 [==============================] - 0s 9ms/step - loss: 12.7159 - mae: 12.7159\n",
            "Epoch 166/500\n",
            "2/2 [==============================] - 0s 8ms/step - loss: 18.8774 - mae: 18.8774\n",
            "Epoch 167/500\n",
            "2/2 [==============================] - 0s 9ms/step - loss: 26.8824 - mae: 26.8824\n",
            "Epoch 168/500\n",
            "2/2 [==============================] - 0s 8ms/step - loss: 9.9999 - mae: 9.9999\n",
            "Epoch 169/500\n",
            "2/2 [==============================] - 0s 7ms/step - loss: 23.1288 - mae: 23.1288\n",
            "Epoch 170/500\n",
            "2/2 [==============================] - 0s 8ms/step - loss: 9.5905 - mae: 9.5905\n",
            "Epoch 171/500\n",
            "2/2 [==============================] - 0s 9ms/step - loss: 15.8581 - mae: 15.8581\n",
            "Epoch 172/500\n",
            "2/2 [==============================] - 0s 19ms/step - loss: 13.8893 - mae: 13.8893\n",
            "Epoch 173/500\n",
            "2/2 [==============================] - 0s 10ms/step - loss: 22.5841 - mae: 22.5841\n",
            "Epoch 174/500\n",
            "2/2 [==============================] - 0s 10ms/step - loss: 11.3489 - mae: 11.3489\n",
            "Epoch 175/500\n",
            "2/2 [==============================] - 0s 8ms/step - loss: 20.0802 - mae: 20.0802\n",
            "Epoch 176/500\n",
            "2/2 [==============================] - 0s 9ms/step - loss: 7.4069 - mae: 7.4069\n",
            "Epoch 177/500\n",
            "2/2 [==============================] - 0s 9ms/step - loss: 8.5949 - mae: 8.5949\n",
            "Epoch 178/500\n",
            "2/2 [==============================] - 0s 7ms/step - loss: 15.4812 - mae: 15.4812\n",
            "Epoch 179/500\n",
            "2/2 [==============================] - 0s 8ms/step - loss: 9.3002 - mae: 9.3002\n",
            "Epoch 180/500\n",
            "2/2 [==============================] - 0s 8ms/step - loss: 8.1298 - mae: 8.1298\n",
            "Epoch 181/500\n",
            "2/2 [==============================] - 0s 10ms/step - loss: 18.7185 - mae: 18.7185\n",
            "Epoch 182/500\n",
            "2/2 [==============================] - 0s 9ms/step - loss: 10.7771 - mae: 10.7771\n",
            "Epoch 183/500\n",
            "2/2 [==============================] - 0s 7ms/step - loss: 10.9055 - mae: 10.9055\n",
            "Epoch 184/500\n",
            "2/2 [==============================] - 0s 7ms/step - loss: 33.7159 - mae: 33.7159\n",
            "Epoch 185/500\n",
            "2/2 [==============================] - 0s 8ms/step - loss: 7.6246 - mae: 7.6246\n",
            "Epoch 186/500\n",
            "2/2 [==============================] - 0s 8ms/step - loss: 16.7761 - mae: 16.7761\n",
            "Epoch 187/500\n",
            "2/2 [==============================] - 0s 9ms/step - loss: 10.1850 - mae: 10.1850\n",
            "Epoch 188/500\n",
            "2/2 [==============================] - 0s 9ms/step - loss: 23.0345 - mae: 23.0345\n",
            "Epoch 189/500\n",
            "2/2 [==============================] - 0s 8ms/step - loss: 9.8785 - mae: 9.8785\n",
            "Epoch 190/500\n",
            "2/2 [==============================] - 0s 11ms/step - loss: 15.3072 - mae: 15.3072\n",
            "Epoch 191/500\n",
            "2/2 [==============================] - 0s 9ms/step - loss: 9.9509 - mae: 9.9509\n",
            "Epoch 192/500\n",
            "2/2 [==============================] - 0s 8ms/step - loss: 14.9885 - mae: 14.9885\n",
            "Epoch 193/500\n",
            "2/2 [==============================] - 0s 12ms/step - loss: 29.6673 - mae: 29.6673\n",
            "Epoch 194/500\n",
            "2/2 [==============================] - 0s 7ms/step - loss: 8.3665 - mae: 8.3665\n",
            "Epoch 195/500\n",
            "2/2 [==============================] - 0s 8ms/step - loss: 12.8996 - mae: 12.8996\n",
            "Epoch 196/500\n",
            "2/2 [==============================] - 0s 8ms/step - loss: 23.9358 - mae: 23.9358\n",
            "Epoch 197/500\n",
            "2/2 [==============================] - 0s 8ms/step - loss: 16.7925 - mae: 16.7925\n",
            "Epoch 198/500\n",
            "2/2 [==============================] - 0s 8ms/step - loss: 11.4727 - mae: 11.4727\n",
            "Epoch 199/500\n",
            "2/2 [==============================] - 0s 7ms/step - loss: 19.5974 - mae: 19.5974\n",
            "Epoch 200/500\n",
            "2/2 [==============================] - 0s 7ms/step - loss: 15.7651 - mae: 15.7651\n",
            "Epoch 201/500\n",
            "2/2 [==============================] - 0s 9ms/step - loss: 10.5763 - mae: 10.5763\n",
            "Epoch 202/500\n",
            "2/2 [==============================] - 0s 8ms/step - loss: 22.4278 - mae: 22.4278\n",
            "Epoch 203/500\n",
            "2/2 [==============================] - 0s 8ms/step - loss: 21.7049 - mae: 21.7049\n",
            "Epoch 204/500\n",
            "2/2 [==============================] - 0s 8ms/step - loss: 17.3150 - mae: 17.3150\n",
            "Epoch 205/500\n",
            "2/2 [==============================] - 0s 8ms/step - loss: 9.4917 - mae: 9.4917\n",
            "Epoch 206/500\n",
            "2/2 [==============================] - 0s 9ms/step - loss: 11.1288 - mae: 11.1288\n",
            "Epoch 207/500\n",
            "2/2 [==============================] - 0s 7ms/step - loss: 17.6486 - mae: 17.6486\n",
            "Epoch 208/500\n",
            "2/2 [==============================] - 0s 7ms/step - loss: 14.3618 - mae: 14.3618\n",
            "Epoch 209/500\n",
            "2/2 [==============================] - 0s 9ms/step - loss: 16.6805 - mae: 16.6805\n",
            "Epoch 210/500\n",
            "2/2 [==============================] - 0s 8ms/step - loss: 18.1891 - mae: 18.1891\n",
            "Epoch 211/500\n",
            "2/2 [==============================] - 0s 8ms/step - loss: 9.9423 - mae: 9.9423\n",
            "Epoch 212/500\n",
            "2/2 [==============================] - 0s 8ms/step - loss: 18.6609 - mae: 18.6609\n",
            "Epoch 213/500\n",
            "2/2 [==============================] - 0s 7ms/step - loss: 14.9607 - mae: 14.9607\n",
            "Epoch 214/500\n",
            "2/2 [==============================] - 0s 7ms/step - loss: 14.5398 - mae: 14.5398\n",
            "Epoch 215/500\n",
            "2/2 [==============================] - 0s 7ms/step - loss: 23.1980 - mae: 23.1980\n",
            "Epoch 216/500\n",
            "2/2 [==============================] - 0s 11ms/step - loss: 13.5490 - mae: 13.5490\n",
            "Epoch 217/500\n",
            "2/2 [==============================] - 0s 8ms/step - loss: 10.0180 - mae: 10.0180\n",
            "Epoch 218/500\n",
            "2/2 [==============================] - 0s 7ms/step - loss: 12.4451 - mae: 12.4451\n",
            "Epoch 219/500\n",
            "2/2 [==============================] - 0s 8ms/step - loss: 5.8486 - mae: 5.8486\n",
            "Epoch 220/500\n",
            "2/2 [==============================] - 0s 8ms/step - loss: 10.1781 - mae: 10.1781\n",
            "Epoch 221/500\n",
            "2/2 [==============================] - 0s 8ms/step - loss: 28.8160 - mae: 28.8160\n",
            "Epoch 222/500\n",
            "2/2 [==============================] - 0s 9ms/step - loss: 27.9908 - mae: 27.9908\n",
            "Epoch 223/500\n",
            "2/2 [==============================] - 0s 8ms/step - loss: 10.0933 - mae: 10.0933\n",
            "Epoch 224/500\n",
            "2/2 [==============================] - 0s 8ms/step - loss: 14.6392 - mae: 14.6392\n",
            "Epoch 225/500\n",
            "2/2 [==============================] - 0s 9ms/step - loss: 16.6559 - mae: 16.6559\n",
            "Epoch 226/500\n",
            "2/2 [==============================] - 0s 8ms/step - loss: 15.8765 - mae: 15.8765\n",
            "Epoch 227/500\n",
            "2/2 [==============================] - 0s 9ms/step - loss: 16.0983 - mae: 16.0983\n",
            "Epoch 228/500\n",
            "2/2 [==============================] - 0s 8ms/step - loss: 13.8759 - mae: 13.8759\n",
            "Epoch 229/500\n",
            "2/2 [==============================] - 0s 7ms/step - loss: 17.9945 - mae: 17.9945\n",
            "Epoch 230/500\n",
            "2/2 [==============================] - 0s 7ms/step - loss: 15.5822 - mae: 15.5822\n",
            "Epoch 231/500\n",
            "2/2 [==============================] - 0s 7ms/step - loss: 21.1199 - mae: 21.1199\n",
            "Epoch 232/500\n",
            "2/2 [==============================] - 0s 7ms/step - loss: 25.4637 - mae: 25.4637\n",
            "Epoch 233/500\n",
            "2/2 [==============================] - 0s 8ms/step - loss: 16.4714 - mae: 16.4714\n",
            "Epoch 234/500\n",
            "2/2 [==============================] - 0s 8ms/step - loss: 7.3416 - mae: 7.3416\n",
            "Epoch 235/500\n",
            "2/2 [==============================] - 0s 8ms/step - loss: 17.1118 - mae: 17.1118\n",
            "Epoch 236/500\n",
            "2/2 [==============================] - 0s 9ms/step - loss: 7.1990 - mae: 7.1990\n",
            "Epoch 237/500\n",
            "2/2 [==============================] - 0s 8ms/step - loss: 9.2938 - mae: 9.2938\n",
            "Epoch 238/500\n",
            "2/2 [==============================] - 0s 7ms/step - loss: 8.1577 - mae: 8.1577\n",
            "Epoch 239/500\n",
            "2/2 [==============================] - 0s 9ms/step - loss: 17.1404 - mae: 17.1404\n",
            "Epoch 240/500\n",
            "2/2 [==============================] - 0s 9ms/step - loss: 8.9276 - mae: 8.9276\n",
            "Epoch 241/500\n",
            "2/2 [==============================] - 0s 9ms/step - loss: 13.2386 - mae: 13.2386\n",
            "Epoch 242/500\n",
            "2/2 [==============================] - 0s 9ms/step - loss: 8.8408 - mae: 8.8408\n",
            "Epoch 243/500\n",
            "2/2 [==============================] - 0s 9ms/step - loss: 18.8721 - mae: 18.8721\n",
            "Epoch 244/500\n",
            "2/2 [==============================] - 0s 10ms/step - loss: 14.0544 - mae: 14.0544\n",
            "Epoch 245/500\n",
            "2/2 [==============================] - 0s 10ms/step - loss: 14.6833 - mae: 14.6833\n",
            "Epoch 246/500\n",
            "2/2 [==============================] - 0s 8ms/step - loss: 15.8133 - mae: 15.8133\n",
            "Epoch 247/500\n",
            "2/2 [==============================] - 0s 9ms/step - loss: 17.6927 - mae: 17.6927\n",
            "Epoch 248/500\n",
            "2/2 [==============================] - 0s 10ms/step - loss: 13.2495 - mae: 13.2495\n",
            "Epoch 249/500\n",
            "2/2 [==============================] - 0s 8ms/step - loss: 14.5223 - mae: 14.5223\n",
            "Epoch 250/500\n",
            "2/2 [==============================] - 0s 9ms/step - loss: 23.2487 - mae: 23.2487\n",
            "Epoch 251/500\n",
            "2/2 [==============================] - 0s 7ms/step - loss: 9.3239 - mae: 9.3239\n",
            "Epoch 252/500\n",
            "2/2 [==============================] - 0s 8ms/step - loss: 36.5986 - mae: 36.5986\n",
            "Epoch 253/500\n",
            "2/2 [==============================] - 0s 10ms/step - loss: 21.7854 - mae: 21.7854\n",
            "Epoch 254/500\n",
            "2/2 [==============================] - 0s 9ms/step - loss: 7.3055 - mae: 7.3055\n",
            "Epoch 255/500\n",
            "2/2 [==============================] - 0s 8ms/step - loss: 24.6548 - mae: 24.6548\n",
            "Epoch 256/500\n",
            "2/2 [==============================] - 0s 8ms/step - loss: 12.4139 - mae: 12.4139\n",
            "Epoch 257/500\n",
            "2/2 [==============================] - 0s 9ms/step - loss: 10.5793 - mae: 10.5793\n",
            "Epoch 258/500\n",
            "2/2 [==============================] - 0s 16ms/step - loss: 14.1937 - mae: 14.1937\n",
            "Epoch 259/500\n",
            "2/2 [==============================] - 0s 9ms/step - loss: 11.2589 - mae: 11.2589\n",
            "Epoch 260/500\n",
            "2/2 [==============================] - 0s 10ms/step - loss: 31.5910 - mae: 31.5910\n",
            "Epoch 261/500\n",
            "2/2 [==============================] - 0s 9ms/step - loss: 11.1779 - mae: 11.1779\n",
            "Epoch 262/500\n",
            "2/2 [==============================] - 0s 8ms/step - loss: 10.0324 - mae: 10.0324\n",
            "Epoch 263/500\n",
            "2/2 [==============================] - 0s 8ms/step - loss: 8.9475 - mae: 8.9475\n",
            "Epoch 264/500\n",
            "2/2 [==============================] - 0s 9ms/step - loss: 21.4775 - mae: 21.4775\n",
            "Epoch 265/500\n",
            "2/2 [==============================] - 0s 7ms/step - loss: 11.4556 - mae: 11.4556\n",
            "Epoch 266/500\n",
            "2/2 [==============================] - 0s 9ms/step - loss: 13.2940 - mae: 13.2940\n",
            "Epoch 267/500\n",
            "2/2 [==============================] - 0s 8ms/step - loss: 11.0833 - mae: 11.0833\n",
            "Epoch 268/500\n",
            "2/2 [==============================] - 0s 9ms/step - loss: 19.1629 - mae: 19.1629\n",
            "Epoch 269/500\n",
            "2/2 [==============================] - 0s 8ms/step - loss: 40.6919 - mae: 40.6919\n",
            "Epoch 270/500\n",
            "2/2 [==============================] - 0s 8ms/step - loss: 12.9180 - mae: 12.9180\n",
            "Epoch 271/500\n",
            "2/2 [==============================] - 0s 10ms/step - loss: 14.7638 - mae: 14.7638\n",
            "Epoch 272/500\n",
            "2/2 [==============================] - 0s 7ms/step - loss: 28.5115 - mae: 28.5115\n",
            "Epoch 273/500\n",
            "2/2 [==============================] - 0s 7ms/step - loss: 7.3654 - mae: 7.3654\n",
            "Epoch 274/500\n",
            "2/2 [==============================] - 0s 12ms/step - loss: 6.3526 - mae: 6.3526\n",
            "Epoch 275/500\n",
            "2/2 [==============================] - 0s 8ms/step - loss: 36.9086 - mae: 36.9086\n",
            "Epoch 276/500\n",
            "2/2 [==============================] - 0s 8ms/step - loss: 8.2860 - mae: 8.2860\n",
            "Epoch 277/500\n",
            "2/2 [==============================] - 0s 7ms/step - loss: 27.7273 - mae: 27.7273\n",
            "Epoch 278/500\n",
            "2/2 [==============================] - 0s 8ms/step - loss: 10.6728 - mae: 10.6728\n",
            "Epoch 279/500\n",
            "2/2 [==============================] - 0s 9ms/step - loss: 16.1050 - mae: 16.1050\n",
            "Epoch 280/500\n",
            "2/2 [==============================] - 0s 8ms/step - loss: 21.2288 - mae: 21.2288\n",
            "Epoch 281/500\n",
            "2/2 [==============================] - 0s 9ms/step - loss: 23.8111 - mae: 23.8111\n",
            "Epoch 282/500\n",
            "2/2 [==============================] - 0s 7ms/step - loss: 8.2630 - mae: 8.2630\n",
            "Epoch 283/500\n",
            "2/2 [==============================] - 0s 7ms/step - loss: 8.4423 - mae: 8.4423\n",
            "Epoch 284/500\n",
            "2/2 [==============================] - 0s 8ms/step - loss: 26.6532 - mae: 26.6532\n",
            "Epoch 285/500\n",
            "2/2 [==============================] - 0s 7ms/step - loss: 14.2490 - mae: 14.2490\n",
            "Epoch 286/500\n",
            "2/2 [==============================] - 0s 10ms/step - loss: 5.2562 - mae: 5.2562\n",
            "Epoch 287/500\n",
            "2/2 [==============================] - 0s 13ms/step - loss: 20.8058 - mae: 20.8058\n",
            "Epoch 288/500\n",
            "2/2 [==============================] - 0s 9ms/step - loss: 27.6500 - mae: 27.6500\n",
            "Epoch 289/500\n",
            "2/2 [==============================] - 0s 9ms/step - loss: 10.4223 - mae: 10.4223\n",
            "Epoch 290/500\n",
            "2/2 [==============================] - 0s 8ms/step - loss: 16.2961 - mae: 16.2961\n",
            "Epoch 291/500\n",
            "2/2 [==============================] - 0s 7ms/step - loss: 16.4803 - mae: 16.4803\n",
            "Epoch 292/500\n",
            "2/2 [==============================] - 0s 8ms/step - loss: 7.4174 - mae: 7.4174\n",
            "Epoch 293/500\n",
            "2/2 [==============================] - 0s 9ms/step - loss: 16.5368 - mae: 16.5368\n",
            "Epoch 294/500\n",
            "2/2 [==============================] - 0s 9ms/step - loss: 25.3184 - mae: 25.3184\n",
            "Epoch 295/500\n",
            "2/2 [==============================] - 0s 10ms/step - loss: 14.6141 - mae: 14.6141\n",
            "Epoch 296/500\n",
            "2/2 [==============================] - 0s 8ms/step - loss: 4.6552 - mae: 4.6552\n",
            "Epoch 297/500\n",
            "2/2 [==============================] - 0s 9ms/step - loss: 7.2830 - mae: 7.2830\n",
            "Epoch 298/500\n",
            "2/2 [==============================] - 0s 7ms/step - loss: 19.6683 - mae: 19.6683\n",
            "Epoch 299/500\n",
            "2/2 [==============================] - 0s 7ms/step - loss: 6.6168 - mae: 6.6168\n",
            "Epoch 300/500\n",
            "2/2 [==============================] - 0s 9ms/step - loss: 22.1281 - mae: 22.1281\n",
            "Epoch 301/500\n",
            "2/2 [==============================] - 0s 7ms/step - loss: 9.1473 - mae: 9.1473\n",
            "Epoch 302/500\n",
            "2/2 [==============================] - 0s 9ms/step - loss: 11.2257 - mae: 11.2257\n",
            "Epoch 303/500\n",
            "2/2 [==============================] - 0s 10ms/step - loss: 9.3481 - mae: 9.3481\n",
            "Epoch 304/500\n",
            "2/2 [==============================] - 0s 9ms/step - loss: 23.7723 - mae: 23.7723\n",
            "Epoch 305/500\n",
            "2/2 [==============================] - 0s 7ms/step - loss: 7.9267 - mae: 7.9267\n",
            "Epoch 306/500\n",
            "2/2 [==============================] - 0s 9ms/step - loss: 23.8431 - mae: 23.8431\n",
            "Epoch 307/500\n",
            "2/2 [==============================] - 0s 8ms/step - loss: 5.1142 - mae: 5.1142\n",
            "Epoch 308/500\n",
            "2/2 [==============================] - 0s 8ms/step - loss: 22.6224 - mae: 22.6224\n",
            "Epoch 309/500\n",
            "2/2 [==============================] - 0s 8ms/step - loss: 19.7468 - mae: 19.7468\n",
            "Epoch 310/500\n",
            "2/2 [==============================] - 0s 7ms/step - loss: 6.1531 - mae: 6.1531\n",
            "Epoch 311/500\n",
            "2/2 [==============================] - 0s 9ms/step - loss: 6.8378 - mae: 6.8378\n",
            "Epoch 312/500\n",
            "2/2 [==============================] - 0s 9ms/step - loss: 27.2346 - mae: 27.2346\n",
            "Epoch 313/500\n",
            "2/2 [==============================] - 0s 10ms/step - loss: 14.7558 - mae: 14.7558\n",
            "Epoch 314/500\n",
            "2/2 [==============================] - 0s 9ms/step - loss: 13.0378 - mae: 13.0378\n",
            "Epoch 315/500\n",
            "2/2 [==============================] - 0s 9ms/step - loss: 25.2438 - mae: 25.2438\n",
            "Epoch 316/500\n",
            "2/2 [==============================] - 0s 10ms/step - loss: 13.2191 - mae: 13.2191\n",
            "Epoch 317/500\n",
            "2/2 [==============================] - 0s 6ms/step - loss: 20.2302 - mae: 20.2302\n",
            "Epoch 318/500\n",
            "2/2 [==============================] - 0s 7ms/step - loss: 8.0624 - mae: 8.0624\n",
            "Epoch 319/500\n",
            "2/2 [==============================] - 0s 7ms/step - loss: 18.3493 - mae: 18.3493\n",
            "Epoch 320/500\n",
            "2/2 [==============================] - 0s 7ms/step - loss: 10.8017 - mae: 10.8017\n",
            "Epoch 321/500\n",
            "2/2 [==============================] - 0s 8ms/step - loss: 7.1219 - mae: 7.1219\n",
            "Epoch 322/500\n",
            "2/2 [==============================] - 0s 8ms/step - loss: 8.6133 - mae: 8.6133\n",
            "Epoch 323/500\n",
            "2/2 [==============================] - 0s 8ms/step - loss: 18.2533 - mae: 18.2533\n",
            "Epoch 324/500\n",
            "2/2 [==============================] - 0s 7ms/step - loss: 16.3089 - mae: 16.3089\n",
            "Epoch 325/500\n",
            "2/2 [==============================] - 0s 8ms/step - loss: 18.2779 - mae: 18.2779\n",
            "Epoch 326/500\n",
            "2/2 [==============================] - 0s 8ms/step - loss: 22.4375 - mae: 22.4375\n",
            "Epoch 327/500\n",
            "2/2 [==============================] - 0s 8ms/step - loss: 8.4966 - mae: 8.4966\n",
            "Epoch 328/500\n",
            "2/2 [==============================] - 0s 10ms/step - loss: 7.0297 - mae: 7.0297\n",
            "Epoch 329/500\n",
            "2/2 [==============================] - 0s 11ms/step - loss: 10.2895 - mae: 10.2895\n",
            "Epoch 330/500\n",
            "2/2 [==============================] - 0s 7ms/step - loss: 9.3767 - mae: 9.3767\n",
            "Epoch 331/500\n",
            "2/2 [==============================] - 0s 8ms/step - loss: 22.6949 - mae: 22.6949\n",
            "Epoch 332/500\n",
            "2/2 [==============================] - 0s 8ms/step - loss: 19.9782 - mae: 19.9782\n",
            "Epoch 333/500\n",
            "2/2 [==============================] - 0s 11ms/step - loss: 11.0627 - mae: 11.0627\n",
            "Epoch 334/500\n",
            "2/2 [==============================] - 0s 10ms/step - loss: 9.0378 - mae: 9.0378\n",
            "Epoch 335/500\n",
            "2/2 [==============================] - 0s 8ms/step - loss: 13.0538 - mae: 13.0538\n",
            "Epoch 336/500\n",
            "2/2 [==============================] - 0s 8ms/step - loss: 32.5249 - mae: 32.5249\n",
            "Epoch 337/500\n",
            "2/2 [==============================] - 0s 9ms/step - loss: 11.0611 - mae: 11.0611\n",
            "Epoch 338/500\n",
            "2/2 [==============================] - 0s 9ms/step - loss: 20.0004 - mae: 20.0004\n",
            "Epoch 339/500\n",
            "2/2 [==============================] - 0s 12ms/step - loss: 34.1836 - mae: 34.1836\n",
            "Epoch 340/500\n",
            "2/2 [==============================] - 0s 8ms/step - loss: 8.6634 - mae: 8.6634\n",
            "Epoch 341/500\n",
            "2/2 [==============================] - 0s 9ms/step - loss: 21.8626 - mae: 21.8626\n",
            "Epoch 342/500\n",
            "2/2 [==============================] - 0s 7ms/step - loss: 13.9642 - mae: 13.9642\n",
            "Epoch 343/500\n",
            "2/2 [==============================] - 0s 9ms/step - loss: 11.4853 - mae: 11.4853\n",
            "Epoch 344/500\n",
            "2/2 [==============================] - 0s 10ms/step - loss: 9.9311 - mae: 9.9311\n",
            "Epoch 345/500\n",
            "2/2 [==============================] - 0s 8ms/step - loss: 31.2260 - mae: 31.2260\n",
            "Epoch 346/500\n",
            "2/2 [==============================] - 0s 7ms/step - loss: 10.8214 - mae: 10.8214\n",
            "Epoch 347/500\n",
            "2/2 [==============================] - 0s 8ms/step - loss: 26.0309 - mae: 26.0309\n",
            "Epoch 348/500\n",
            "2/2 [==============================] - 0s 8ms/step - loss: 12.0279 - mae: 12.0279\n",
            "Epoch 349/500\n",
            "2/2 [==============================] - 0s 8ms/step - loss: 12.7339 - mae: 12.7339\n",
            "Epoch 350/500\n",
            "2/2 [==============================] - 0s 8ms/step - loss: 15.2927 - mae: 15.2927\n",
            "Epoch 351/500\n",
            "2/2 [==============================] - 0s 7ms/step - loss: 32.6888 - mae: 32.6888\n",
            "Epoch 352/500\n",
            "2/2 [==============================] - 0s 9ms/step - loss: 13.6980 - mae: 13.6980\n",
            "Epoch 353/500\n",
            "2/2 [==============================] - 0s 10ms/step - loss: 17.6346 - mae: 17.6346\n",
            "Epoch 354/500\n",
            "2/2 [==============================] - 0s 13ms/step - loss: 11.2770 - mae: 11.2770\n",
            "Epoch 355/500\n",
            "2/2 [==============================] - 0s 9ms/step - loss: 26.6314 - mae: 26.6314\n",
            "Epoch 356/500\n",
            "2/2 [==============================] - 0s 7ms/step - loss: 10.3487 - mae: 10.3487\n",
            "Epoch 357/500\n",
            "2/2 [==============================] - 0s 8ms/step - loss: 15.2120 - mae: 15.2120\n",
            "Epoch 358/500\n",
            "2/2 [==============================] - 0s 8ms/step - loss: 13.6377 - mae: 13.6377\n",
            "Epoch 359/500\n",
            "2/2 [==============================] - 0s 8ms/step - loss: 12.5736 - mae: 12.5736\n",
            "Epoch 360/500\n",
            "2/2 [==============================] - 0s 8ms/step - loss: 20.7678 - mae: 20.7678\n",
            "Epoch 361/500\n",
            "2/2 [==============================] - 0s 7ms/step - loss: 9.6096 - mae: 9.6096\n",
            "Epoch 362/500\n",
            "2/2 [==============================] - 0s 7ms/step - loss: 8.8253 - mae: 8.8253\n",
            "Epoch 363/500\n",
            "2/2 [==============================] - 0s 10ms/step - loss: 21.8368 - mae: 21.8368\n",
            "Epoch 364/500\n",
            "2/2 [==============================] - 0s 8ms/step - loss: 26.8255 - mae: 26.8255\n",
            "Epoch 365/500\n",
            "2/2 [==============================] - 0s 8ms/step - loss: 7.3330 - mae: 7.3330\n",
            "Epoch 366/500\n",
            "2/2 [==============================] - 0s 7ms/step - loss: 4.8240 - mae: 4.8240\n",
            "Epoch 367/500\n",
            "2/2 [==============================] - 0s 9ms/step - loss: 40.4808 - mae: 40.4808\n",
            "Epoch 368/500\n",
            "2/2 [==============================] - 0s 14ms/step - loss: 9.1204 - mae: 9.1204\n",
            "Epoch 369/500\n",
            "2/2 [==============================] - 0s 10ms/step - loss: 8.6521 - mae: 8.6521\n",
            "Epoch 370/500\n",
            "2/2 [==============================] - 0s 7ms/step - loss: 14.2040 - mae: 14.2040\n",
            "Epoch 371/500\n",
            "2/2 [==============================] - 0s 10ms/step - loss: 6.8063 - mae: 6.8063\n",
            "Epoch 372/500\n",
            "2/2 [==============================] - 0s 9ms/step - loss: 6.5248 - mae: 6.5248\n",
            "Epoch 373/500\n",
            "2/2 [==============================] - 0s 9ms/step - loss: 24.1724 - mae: 24.1724\n",
            "Epoch 374/500\n",
            "2/2 [==============================] - 0s 9ms/step - loss: 10.2220 - mae: 10.2220\n",
            "Epoch 375/500\n",
            "2/2 [==============================] - 0s 10ms/step - loss: 12.8495 - mae: 12.8495\n",
            "Epoch 376/500\n",
            "2/2 [==============================] - 0s 8ms/step - loss: 14.7252 - mae: 14.7252\n",
            "Epoch 377/500\n",
            "2/2 [==============================] - 0s 7ms/step - loss: 14.6419 - mae: 14.6419\n",
            "Epoch 378/500\n",
            "2/2 [==============================] - 0s 8ms/step - loss: 16.1678 - mae: 16.1678\n",
            "Epoch 379/500\n",
            "2/2 [==============================] - 0s 8ms/step - loss: 20.5992 - mae: 20.5992\n",
            "Epoch 380/500\n",
            "2/2 [==============================] - 0s 8ms/step - loss: 34.2197 - mae: 34.2197\n",
            "Epoch 381/500\n",
            "2/2 [==============================] - 0s 8ms/step - loss: 8.8368 - mae: 8.8368\n",
            "Epoch 382/500\n",
            "2/2 [==============================] - 0s 9ms/step - loss: 9.6164 - mae: 9.6164\n",
            "Epoch 383/500\n",
            "2/2 [==============================] - 0s 8ms/step - loss: 5.7448 - mae: 5.7448\n",
            "Epoch 384/500\n",
            "2/2 [==============================] - 0s 8ms/step - loss: 8.6971 - mae: 8.6971\n",
            "Epoch 385/500\n",
            "2/2 [==============================] - 0s 8ms/step - loss: 4.9426 - mae: 4.9426\n",
            "Epoch 386/500\n",
            "2/2 [==============================] - 0s 8ms/step - loss: 25.1070 - mae: 25.1070\n",
            "Epoch 387/500\n",
            "2/2 [==============================] - 0s 8ms/step - loss: 15.1572 - mae: 15.1572\n",
            "Epoch 388/500\n",
            "2/2 [==============================] - 0s 10ms/step - loss: 6.6216 - mae: 6.6216\n",
            "Epoch 389/500\n",
            "2/2 [==============================] - 0s 8ms/step - loss: 17.5434 - mae: 17.5434\n",
            "Epoch 390/500\n",
            "2/2 [==============================] - 0s 8ms/step - loss: 23.8278 - mae: 23.8278\n",
            "Epoch 391/500\n",
            "2/2 [==============================] - 0s 8ms/step - loss: 16.5895 - mae: 16.5895\n",
            "Epoch 392/500\n",
            "2/2 [==============================] - 0s 8ms/step - loss: 8.3494 - mae: 8.3494\n",
            "Epoch 393/500\n",
            "2/2 [==============================] - 0s 8ms/step - loss: 18.1150 - mae: 18.1150\n",
            "Epoch 394/500\n",
            "2/2 [==============================] - 0s 11ms/step - loss: 14.1830 - mae: 14.1830\n",
            "Epoch 395/500\n",
            "2/2 [==============================] - 0s 11ms/step - loss: 28.6472 - mae: 28.6472\n",
            "Epoch 396/500\n",
            "2/2 [==============================] - 0s 9ms/step - loss: 8.2232 - mae: 8.2232\n",
            "Epoch 397/500\n",
            "2/2 [==============================] - 0s 7ms/step - loss: 10.5593 - mae: 10.5593\n",
            "Epoch 398/500\n",
            "2/2 [==============================] - 0s 8ms/step - loss: 7.3924 - mae: 7.3924\n",
            "Epoch 399/500\n",
            "2/2 [==============================] - 0s 8ms/step - loss: 15.6787 - mae: 15.6787\n",
            "Epoch 400/500\n",
            "2/2 [==============================] - 0s 7ms/step - loss: 6.7450 - mae: 6.7450\n",
            "Epoch 401/500\n",
            "2/2 [==============================] - 0s 7ms/step - loss: 8.0371 - mae: 8.0371\n",
            "Epoch 402/500\n",
            "2/2 [==============================] - 0s 8ms/step - loss: 16.5272 - mae: 16.5272\n",
            "Epoch 403/500\n",
            "2/2 [==============================] - 0s 7ms/step - loss: 12.3308 - mae: 12.3308\n",
            "Epoch 404/500\n",
            "2/2 [==============================] - 0s 7ms/step - loss: 22.8961 - mae: 22.8961\n",
            "Epoch 405/500\n",
            "2/2 [==============================] - 0s 8ms/step - loss: 18.1838 - mae: 18.1838\n",
            "Epoch 406/500\n",
            "2/2 [==============================] - 0s 7ms/step - loss: 7.0721 - mae: 7.0721\n",
            "Epoch 407/500\n",
            "2/2 [==============================] - 0s 8ms/step - loss: 12.7046 - mae: 12.7046\n",
            "Epoch 408/500\n",
            "2/2 [==============================] - 0s 12ms/step - loss: 5.6627 - mae: 5.6627\n",
            "Epoch 409/500\n",
            "2/2 [==============================] - 0s 7ms/step - loss: 31.3507 - mae: 31.3507\n",
            "Epoch 410/500\n",
            "2/2 [==============================] - 0s 8ms/step - loss: 9.2210 - mae: 9.2210\n",
            "Epoch 411/500\n",
            "2/2 [==============================] - 0s 7ms/step - loss: 14.8486 - mae: 14.8486\n",
            "Epoch 412/500\n",
            "2/2 [==============================] - 0s 8ms/step - loss: 21.7142 - mae: 21.7142\n",
            "Epoch 413/500\n",
            "2/2 [==============================] - 0s 8ms/step - loss: 12.6599 - mae: 12.6599\n",
            "Epoch 414/500\n",
            "2/2 [==============================] - 0s 7ms/step - loss: 6.0326 - mae: 6.0326\n",
            "Epoch 415/500\n",
            "2/2 [==============================] - 0s 8ms/step - loss: 13.2179 - mae: 13.2179\n",
            "Epoch 416/500\n",
            "2/2 [==============================] - 0s 8ms/step - loss: 27.4200 - mae: 27.4200\n",
            "Epoch 417/500\n",
            "2/2 [==============================] - 0s 7ms/step - loss: 10.6568 - mae: 10.6568\n",
            "Epoch 418/500\n",
            "2/2 [==============================] - 0s 8ms/step - loss: 12.8081 - mae: 12.8081\n",
            "Epoch 419/500\n",
            "2/2 [==============================] - 0s 8ms/step - loss: 15.8646 - mae: 15.8646\n",
            "Epoch 420/500\n",
            "2/2 [==============================] - 0s 8ms/step - loss: 24.7342 - mae: 24.7342\n",
            "Epoch 421/500\n",
            "2/2 [==============================] - 0s 8ms/step - loss: 17.5220 - mae: 17.5220\n",
            "Epoch 422/500\n",
            "2/2 [==============================] - 0s 11ms/step - loss: 8.7008 - mae: 8.7008\n",
            "Epoch 423/500\n",
            "2/2 [==============================] - 0s 7ms/step - loss: 24.9254 - mae: 24.9254\n",
            "Epoch 424/500\n",
            "2/2 [==============================] - 0s 8ms/step - loss: 16.2247 - mae: 16.2247\n",
            "Epoch 425/500\n",
            "2/2 [==============================] - 0s 8ms/step - loss: 7.1257 - mae: 7.1257\n",
            "Epoch 426/500\n",
            "2/2 [==============================] - 0s 8ms/step - loss: 20.3261 - mae: 20.3261\n",
            "Epoch 427/500\n",
            "2/2 [==============================] - 0s 7ms/step - loss: 6.2937 - mae: 6.2937\n",
            "Epoch 428/500\n",
            "2/2 [==============================] - 0s 9ms/step - loss: 13.0020 - mae: 13.0020\n",
            "Epoch 429/500\n",
            "2/2 [==============================] - 0s 7ms/step - loss: 10.7903 - mae: 10.7903\n",
            "Epoch 430/500\n",
            "2/2 [==============================] - 0s 8ms/step - loss: 11.6469 - mae: 11.6469\n",
            "Epoch 431/500\n",
            "2/2 [==============================] - 0s 8ms/step - loss: 7.8610 - mae: 7.8610\n",
            "Epoch 432/500\n",
            "2/2 [==============================] - 0s 8ms/step - loss: 22.0185 - mae: 22.0185\n",
            "Epoch 433/500\n",
            "2/2 [==============================] - 0s 8ms/step - loss: 6.9806 - mae: 6.9806\n",
            "Epoch 434/500\n",
            "2/2 [==============================] - 0s 8ms/step - loss: 32.0322 - mae: 32.0322\n",
            "Epoch 435/500\n",
            "2/2 [==============================] - 0s 8ms/step - loss: 13.0587 - mae: 13.0587\n",
            "Epoch 436/500\n",
            "2/2 [==============================] - 0s 8ms/step - loss: 28.2189 - mae: 28.2189\n",
            "Epoch 437/500\n",
            "2/2 [==============================] - 0s 8ms/step - loss: 4.5104 - mae: 4.5104\n",
            "Epoch 438/500\n",
            "2/2 [==============================] - 0s 7ms/step - loss: 14.1477 - mae: 14.1477\n",
            "Epoch 439/500\n",
            "2/2 [==============================] - 0s 8ms/step - loss: 32.4847 - mae: 32.4847\n",
            "Epoch 440/500\n",
            "2/2 [==============================] - 0s 8ms/step - loss: 13.1150 - mae: 13.1150\n",
            "Epoch 441/500\n",
            "2/2 [==============================] - 0s 8ms/step - loss: 16.2266 - mae: 16.2266\n",
            "Epoch 442/500\n",
            "2/2 [==============================] - 0s 8ms/step - loss: 19.6595 - mae: 19.6595\n",
            "Epoch 443/500\n",
            "2/2 [==============================] - 0s 9ms/step - loss: 24.5322 - mae: 24.5322\n",
            "Epoch 444/500\n",
            "2/2 [==============================] - 0s 9ms/step - loss: 11.7447 - mae: 11.7447\n",
            "Epoch 445/500\n",
            "2/2 [==============================] - 0s 8ms/step - loss: 14.6819 - mae: 14.6819\n",
            "Epoch 446/500\n",
            "2/2 [==============================] - 0s 9ms/step - loss: 17.6565 - mae: 17.6565\n",
            "Epoch 447/500\n",
            "2/2 [==============================] - 0s 8ms/step - loss: 5.7502 - mae: 5.7502\n",
            "Epoch 448/500\n",
            "2/2 [==============================] - 0s 8ms/step - loss: 9.3982 - mae: 9.3982\n",
            "Epoch 449/500\n",
            "2/2 [==============================] - 0s 8ms/step - loss: 14.0848 - mae: 14.0848\n",
            "Epoch 450/500\n",
            "2/2 [==============================] - 0s 8ms/step - loss: 16.8473 - mae: 16.8473\n",
            "Epoch 451/500\n",
            "2/2 [==============================] - 0s 8ms/step - loss: 14.3092 - mae: 14.3092\n",
            "Epoch 452/500\n",
            "2/2 [==============================] - 0s 9ms/step - loss: 30.6968 - mae: 30.6968\n",
            "Epoch 453/500\n",
            "2/2 [==============================] - 0s 12ms/step - loss: 8.3688 - mae: 8.3688\n",
            "Epoch 454/500\n",
            "2/2 [==============================] - 0s 8ms/step - loss: 27.5852 - mae: 27.5852\n",
            "Epoch 455/500\n",
            "2/2 [==============================] - 0s 8ms/step - loss: 10.0910 - mae: 10.0910\n",
            "Epoch 456/500\n",
            "2/2 [==============================] - 0s 8ms/step - loss: 14.5210 - mae: 14.5210\n",
            "Epoch 457/500\n",
            "2/2 [==============================] - 0s 7ms/step - loss: 17.6730 - mae: 17.6730\n",
            "Epoch 458/500\n",
            "2/2 [==============================] - 0s 8ms/step - loss: 13.9808 - mae: 13.9808\n",
            "Epoch 459/500\n",
            "2/2 [==============================] - 0s 7ms/step - loss: 25.8728 - mae: 25.8728\n",
            "Epoch 460/500\n",
            "2/2 [==============================] - 0s 8ms/step - loss: 15.1276 - mae: 15.1276\n",
            "Epoch 461/500\n",
            "2/2 [==============================] - 0s 8ms/step - loss: 11.8715 - mae: 11.8715\n",
            "Epoch 462/500\n",
            "2/2 [==============================] - 0s 8ms/step - loss: 13.2526 - mae: 13.2526\n",
            "Epoch 463/500\n",
            "2/2 [==============================] - 0s 10ms/step - loss: 29.4306 - mae: 29.4306\n",
            "Epoch 464/500\n",
            "2/2 [==============================] - 0s 7ms/step - loss: 3.1871 - mae: 3.1871\n",
            "Epoch 465/500\n",
            "2/2 [==============================] - 0s 8ms/step - loss: 40.5226 - mae: 40.5226\n",
            "Epoch 466/500\n",
            "2/2 [==============================] - 0s 8ms/step - loss: 18.5315 - mae: 18.5315\n",
            "Epoch 467/500\n",
            "2/2 [==============================] - 0s 8ms/step - loss: 8.9380 - mae: 8.9380\n",
            "Epoch 468/500\n",
            "2/2 [==============================] - 0s 8ms/step - loss: 3.9851 - mae: 3.9851\n",
            "Epoch 469/500\n",
            "2/2 [==============================] - 0s 7ms/step - loss: 40.4493 - mae: 40.4493\n",
            "Epoch 470/500\n",
            "2/2 [==============================] - 0s 11ms/step - loss: 22.6495 - mae: 22.6495\n",
            "Epoch 471/500\n",
            "2/2 [==============================] - 0s 10ms/step - loss: 18.7796 - mae: 18.7796\n",
            "Epoch 472/500\n",
            "2/2 [==============================] - 0s 8ms/step - loss: 14.2830 - mae: 14.2830\n",
            "Epoch 473/500\n",
            "2/2 [==============================] - 0s 7ms/step - loss: 16.8992 - mae: 16.8992\n",
            "Epoch 474/500\n",
            "2/2 [==============================] - 0s 8ms/step - loss: 46.0719 - mae: 46.0719\n",
            "Epoch 475/500\n",
            "2/2 [==============================] - 0s 8ms/step - loss: 20.6555 - mae: 20.6555\n",
            "Epoch 476/500\n",
            "2/2 [==============================] - 0s 7ms/step - loss: 12.9897 - mae: 12.9897\n",
            "Epoch 477/500\n",
            "2/2 [==============================] - 0s 8ms/step - loss: 28.8480 - mae: 28.8480\n",
            "Epoch 478/500\n",
            "2/2 [==============================] - 0s 8ms/step - loss: 6.3238 - mae: 6.3238\n",
            "Epoch 479/500\n",
            "2/2 [==============================] - 0s 8ms/step - loss: 3.7095 - mae: 3.7095\n",
            "Epoch 480/500\n",
            "2/2 [==============================] - 0s 8ms/step - loss: 30.9101 - mae: 30.9101\n",
            "Epoch 481/500\n",
            "2/2 [==============================] - 0s 9ms/step - loss: 6.4927 - mae: 6.4927\n",
            "Epoch 482/500\n",
            "2/2 [==============================] - 0s 9ms/step - loss: 22.7084 - mae: 22.7084\n",
            "Epoch 483/500\n",
            "2/2 [==============================] - 0s 10ms/step - loss: 8.1206 - mae: 8.1206\n",
            "Epoch 484/500\n",
            "2/2 [==============================] - 0s 9ms/step - loss: 22.8199 - mae: 22.8199\n",
            "Epoch 485/500\n",
            "2/2 [==============================] - 0s 7ms/step - loss: 5.5178 - mae: 5.5178\n",
            "Epoch 486/500\n",
            "2/2 [==============================] - 0s 8ms/step - loss: 18.7908 - mae: 18.7908\n",
            "Epoch 487/500\n",
            "2/2 [==============================] - 0s 8ms/step - loss: 14.0455 - mae: 14.0455\n",
            "Epoch 488/500\n",
            "2/2 [==============================] - 0s 8ms/step - loss: 30.6271 - mae: 30.6271\n",
            "Epoch 489/500\n",
            "2/2 [==============================] - 0s 7ms/step - loss: 11.9412 - mae: 11.9412\n",
            "Epoch 490/500\n",
            "2/2 [==============================] - 0s 8ms/step - loss: 12.7307 - mae: 12.7307\n",
            "Epoch 491/500\n",
            "2/2 [==============================] - 0s 8ms/step - loss: 23.6181 - mae: 23.6181\n",
            "Epoch 492/500\n",
            "2/2 [==============================] - 0s 9ms/step - loss: 20.5330 - mae: 20.5330\n",
            "Epoch 493/500\n",
            "2/2 [==============================] - 0s 12ms/step - loss: 4.9412 - mae: 4.9412\n",
            "Epoch 494/500\n",
            "2/2 [==============================] - 0s 8ms/step - loss: 12.7854 - mae: 12.7854\n",
            "Epoch 495/500\n",
            "2/2 [==============================] - 0s 7ms/step - loss: 13.3639 - mae: 13.3639\n",
            "Epoch 496/500\n",
            "2/2 [==============================] - 0s 6ms/step - loss: 12.6614 - mae: 12.6614\n",
            "Epoch 497/500\n",
            "2/2 [==============================] - 0s 10ms/step - loss: 17.5919 - mae: 17.5919\n",
            "Epoch 498/500\n",
            "2/2 [==============================] - 0s 7ms/step - loss: 23.6026 - mae: 23.6026\n",
            "Epoch 499/500\n",
            "2/2 [==============================] - 0s 8ms/step - loss: 9.4082 - mae: 9.4082\n",
            "Epoch 500/500\n",
            "2/2 [==============================] - 0s 9ms/step - loss: 14.6097 - mae: 14.6097\n"
          ]
        },
        {
          "output_type": "execute_result",
          "data": {
            "text/plain": [
              "<keras.callbacks.History at 0x7a3fdc167430>"
            ]
          },
          "metadata": {},
          "execution_count": 54
        }
      ]
    },
    {
      "cell_type": "code",
      "source": [
        "y_preds_3= model_3.predict(X_test)\n",
        "plot_predictions(predictions=y_preds_3)"
      ],
      "metadata": {
        "colab": {
          "base_uri": "https://localhost:8080/",
          "height": 617
        },
        "id": "LTqGnOT8KRT2",
        "outputId": "c01be2ef-2411-47b2-ed79-f19540231833"
      },
      "execution_count": null,
      "outputs": [
        {
          "output_type": "stream",
          "name": "stdout",
          "text": [
            "1/1 [==============================] - 0s 41ms/step\n"
          ]
        },
        {
          "output_type": "display_data",
          "data": {
            "text/plain": [
              "<Figure size 1000x700 with 1 Axes>"
            ],
            "image/png": "[encoded data removed]"
          },
          "metadata": {}
        }
      ]
    },
    {
      "cell_type": "code",
      "source": [
        "#calculate model_3 evaluation matrics\n",
        "mae3=mae(y_test, y_preds_3)\n",
        "mse3=mse(y_test, y_preds_3)\n",
        "mae3,mse3"
      ],
      "metadata": {
        "colab": {
          "base_uri": "https://localhost:8080/"
        },
        "id": "xgtUOsCrKRLP",
        "outputId": "921502f7-cc00-4fa8-90ac-e6d926617792"
      },
      "execution_count": null,
      "outputs": [
        {
          "output_type": "execute_result",
          "data": {
            "text/plain": [
              "(<tf.Tensor: shape=(), dtype=float32, numpy=68.621414>,\n",
              " <tf.Tensor: shape=(), dtype=float32, numpy=4795.285>)"
            ]
          },
          "metadata": {},
          "execution_count": 56
        }
      ]
    },
    {
      "cell_type": "code",
      "source": [
        "#compariing the resulsts of our experiments"
      ],
      "metadata": {
        "id": "VwxihgwtKRC7"
      },
      "execution_count": null,
      "outputs": []
    },
    {
      "cell_type": "code",
      "source": [
        "import pandas as pd\n",
        "\n",
        "model_results= [['model_1', mae_1.numpy(), mse_1.numpy()],\n",
        "                ['model_2', mae2.numpy(), mse2.numpy()],\n",
        "                ['model_3',mae3.numpy(), mse3.numpy()]]\n",
        "all_results= pd.DataFrame(model_results, columns=[\"model\", \"mae\",\"mse\"])\n",
        "all_results"
      ],
      "metadata": {
        "colab": {
          "base_uri": "https://localhost:8080/",
          "height": 143
        },
        "id": "5RP8oalzKQ5L",
        "outputId": "15bbbe82-0514-4b58-d267-ce3f2fd722ad"
      },
      "execution_count": null,
      "outputs": [
        {
          "output_type": "execute_result",
          "data": {
            "text/plain": [
              "     model        mae          mse\n",
              "0  model_1  32.707909  1082.296143\n",
              "1  model_2  33.109192  1122.111450\n",
              "2  model_3  68.621414  4795.285156"
            ],
            "text/html": [
              "\n",
              "\n",
              "  <div id=\"df-60453fb1-f7b7-42d2-a4ab-29eebfd589d1\">\n",
              "    <div class=\"colab-df-container\">\n",
              "      <div>\n",
              "<style scoped>\n",
              "    .dataframe tbody tr th:only-of-type {\n",
              "        vertical-align: middle;\n",
              "    }\n",
              "\n",
              "    .dataframe tbody tr th {\n",
              "        vertical-align: top;\n",
              "    }\n",
              "\n",
              "    .dataframe thead th {\n",
              "        text-align: right;\n",
              "    }\n",
              "</style>\n",
              "<table border=\"1\" class=\"dataframe\">\n",
              "  <thead>\n",
              "    <tr style=\"text-align: right;\">\n",
              "      <th></th>\n",
              "      <th>model</th>\n",
              "      <th>mae</th>\n",
              "      <th>mse</th>\n",
              "    </tr>\n",
              "  </thead>\n",
              "  <tbody>\n",
              "    <tr>\n",
              "      <th>0</th>\n",
              "      <td>model_1</td>\n",
              "      <td>32.707909</td>\n",
              "      <td>1082.296143</td>\n",
              "    </tr>\n",
              "    <tr>\n",
              "      <th>1</th>\n",
              "      <td>model_2</td>\n",
              "      <td>33.109192</td>\n",
              "      <td>1122.111450</td>\n",
              "    </tr>\n",
              "    <tr>\n",
              "      <th>2</th>\n",
              "      <td>model_3</td>\n",
              "      <td>68.621414</td>\n",
              "      <td>4795.285156</td>\n",
              "    </tr>\n",
              "  </tbody>\n",
              "</table>\n",
              "</div>\n",
              "      <button class=\"colab-df-convert\" onclick=\"convertToInteractive('df-60453fb1-f7b7-42d2-a4ab-29eebfd589d1')\"\n",
              "              title=\"Convert this dataframe to an interactive table.\"\n",
              "              style=\"display:none;\">\n",
              "\n",
              "  <svg xmlns=\"http://www.w3.org/2000/svg\" height=\"24px\"viewBox=\"0 0 24 24\"\n",
              "       width=\"24px\">\n",
              "    <path d=\"M0 0h24v24H0V0z\" fill=\"none\"/>\n",
              "    <path d=\"M18.56 5.44l.94 2.06.94-2.06 2.06-.94-2.06-.94-.94-2.06-.94 2.06-2.06.94zm-11 1L8.5 8.5l.94-2.06 2.06-.94-2.06-.94L8.5 2.5l-.94 2.06-2.06.94zm10 10l.94 2.06.94-2.06 2.06-.94-2.06-.94-.94-2.06-.94 2.06-2.06.94z\"/><path d=\"M17.41 7.96l-1.37-1.37c-.4-.4-.92-.59-1.43-.59-.52 0-1.04.2-1.43.59L10.3 9.45l-7.72 7.72c-.78.78-.78 2.05 0 2.83L4 21.41c.39.39.9.59 1.41.59.51 0 1.02-.2 1.41-.59l7.78-7.78 2.81-2.81c.8-.78.8-2.07 0-2.86zM5.41 20L4 18.59l7.72-7.72 1.47 1.35L5.41 20z\"/>\n",
              "  </svg>\n",
              "      </button>\n",
              "\n",
              "\n",
              "\n",
              "    <div id=\"df-ff4ea704-86e0-4251-a5ae-2d63f7e7b628\">\n",
              "      <button class=\"colab-df-quickchart\" onclick=\"quickchart('df-ff4ea704-86e0-4251-a5ae-2d63f7e7b628')\"\n",
              "              title=\"Suggest charts.\"\n",
              "              style=\"display:none;\">\n",
              "\n",
              "<svg xmlns=\"http://www.w3.org/2000/svg\" height=\"24px\"viewBox=\"0 0 24 24\"\n",
              "     width=\"24px\">\n",
              "    <g>\n",
              "        <path d=\"M19 3H5c-1.1 0-2 .9-2 2v14c0 1.1.9 2 2 2h14c1.1 0 2-.9 2-2V5c0-1.1-.9-2-2-2zM9 17H7v-7h2v7zm4 0h-2V7h2v10zm4 0h-2v-4h2v4z\"/>\n",
              "    </g>\n",
              "</svg>\n",
              "      </button>\n",
              "    </div>\n",
              "\n",
              "<style>\n",
              "  .colab-df-quickchart {\n",
              "    background-color: #E8F0FE;\n",
              "    border: none;\n",
              "    border-radius: 50%;\n",
              "    cursor: pointer;\n",
              "    display: none;\n",
              "    fill: #1967D2;\n",
              "    height: 32px;\n",
              "    padding: 0 0 0 0;\n",
              "    width: 32px;\n",
              "  }\n",
              "\n",
              "  .colab-df-quickchart:hover {\n",
              "    background-color: #E2EBFA;\n",
              "    box-shadow: 0px 1px 2px rgba(60, 64, 67, 0.3), 0px 1px 3px 1px rgba(60, 64, 67, 0.15);\n",
              "    fill: #174EA6;\n",
              "  }\n",
              "\n",
              "  [theme=dark] .colab-df-quickchart {\n",
              "    background-color: #3B4455;\n",
              "    fill: #D2E3FC;\n",
              "  }\n",
              "\n",
              "  [theme=dark] .colab-df-quickchart:hover {\n",
              "    background-color: #434B5C;\n",
              "    box-shadow: 0px 1px 3px 1px rgba(0, 0, 0, 0.15);\n",
              "    filter: drop-shadow(0px 1px 2px rgba(0, 0, 0, 0.3));\n",
              "    fill: #FFFFFF;\n",
              "  }\n",
              "</style>\n",
              "\n",
              "    <script>\n",
              "      async function quickchart(key) {\n",
              "        const containerElement = document.querySelector('#' + key);\n",
              "        const charts = await google.colab.kernel.invokeFunction(\n",
              "            'suggestCharts', [key], {});\n",
              "      }\n",
              "    </script>\n",
              "\n",
              "      <script>\n",
              "\n",
              "function displayQuickchartButton(domScope) {\n",
              "  let quickchartButtonEl =\n",
              "    domScope.querySelector('#df-ff4ea704-86e0-4251-a5ae-2d63f7e7b628 button.colab-df-quickchart');\n",
              "  quickchartButtonEl.style.display =\n",
              "    google.colab.kernel.accessAllowed ? 'block' : 'none';\n",
              "}\n",
              "\n",
              "        displayQuickchartButton(document);\n",
              "      </script>\n",
              "      <style>\n",
              "    .colab-df-container {\n",
              "      display:flex;\n",
              "      flex-wrap:wrap;\n",
              "      gap: 12px;\n",
              "    }\n",
              "\n",
              "    .colab-df-convert {\n",
              "      background-color: #E8F0FE;\n",
              "      border: none;\n",
              "      border-radius: 50%;\n",
              "      cursor: pointer;\n",
              "      display: none;\n",
              "      fill: #1967D2;\n",
              "      height: 32px;\n",
              "      padding: 0 0 0 0;\n",
              "      width: 32px;\n",
              "    }\n",
              "\n",
              "    .colab-df-convert:hover {\n",
              "      background-color: #E2EBFA;\n",
              "      box-shadow: 0px 1px 2px rgba(60, 64, 67, 0.3), 0px 1px 3px 1px rgba(60, 64, 67, 0.15);\n",
              "      fill: #174EA6;\n",
              "    }\n",
              "\n",
              "    [theme=dark] .colab-df-convert {\n",
              "      background-color: #3B4455;\n",
              "      fill: #D2E3FC;\n",
              "    }\n",
              "\n",
              "    [theme=dark] .colab-df-convert:hover {\n",
              "      background-color: #434B5C;\n",
              "      box-shadow: 0px 1px 3px 1px rgba(0, 0, 0, 0.15);\n",
              "      filter: drop-shadow(0px 1px 2px rgba(0, 0, 0, 0.3));\n",
              "      fill: #FFFFFF;\n",
              "    }\n",
              "  </style>\n",
              "\n",
              "      <script>\n",
              "        const buttonEl =\n",
              "          document.querySelector('#df-60453fb1-f7b7-42d2-a4ab-29eebfd589d1 button.colab-df-convert');\n",
              "        buttonEl.style.display =\n",
              "          google.colab.kernel.accessAllowed ? 'block' : 'none';\n",
              "\n",
              "        async function convertToInteractive(key) {\n",
              "          const element = document.querySelector('#df-60453fb1-f7b7-42d2-a4ab-29eebfd589d1');\n",
              "          const dataTable =\n",
              "            await google.colab.kernel.invokeFunction('convertToInteractive',\n",
              "                                                     [key], {});\n",
              "          if (!dataTable) return;\n",
              "\n",
              "          const docLinkHtml = 'Like what you see? Visit the ' +\n",
              "            '<a target=\"_blank\" href=https://colab.research.google.com/notebooks/data_table.ipynb>data table notebook</a>'\n",
              "            + ' to learn more about interactive tables.';\n",
              "          element.innerHTML = '';\n",
              "          dataTable['output_type'] = 'display_data';\n",
              "          await google.colab.output.renderOutput(dataTable, element);\n",
              "          const docLink = document.createElement('div');\n",
              "          docLink.innerHTML = docLinkHtml;\n",
              "          element.appendChild(docLink);\n",
              "        }\n",
              "      </script>\n",
              "    </div>\n",
              "  </div>\n"
            ]
          },
          "metadata": {},
          "execution_count": 57
        }
      ]
    },
    {
      "cell_type": "code",
      "source": [
        "#save model using the SavedModel format\n",
        "#good if you use the model inside the tensorflow environment\n",
        "model_1.save(\"best_model_SavedModel_format\")"
      ],
      "metadata": {
        "colab": {
          "base_uri": "https://localhost:8080/"
        },
        "id": "TKKlSC45KQtX",
        "outputId": "64dda320-d07f-4094-eb16-fec8437dab67"
      },
      "execution_count": null,
      "outputs": [
        {
          "output_type": "stream",
          "name": "stderr",
          "text": [
            "WARNING:absl:Found untraced functions such as _update_step_xla while saving (showing 1 of 1). These functions will not be directly callable after loading.\n"
          ]
        }
      ]
    },
    {
      "cell_type": "code",
      "source": [
        "#save model using the HDF5 format, has extention of h5 at the end\n",
        "#good if you use the model outside of pure tensorflow code\n",
        "model_1.save(\"best_model_HDF5_format.h5\")"
      ],
      "metadata": {
        "id": "Jvvhu3OIKQVj"
      },
      "execution_count": null,
      "outputs": []
    },
    {
      "cell_type": "code",
      "source": [
        "load_savedModel_format= tf.keras.models.load_model(\"/content/best_model_SavedModel_format\")\n",
        "load_savedModel_format.summary()"
      ],
      "metadata": {
        "colab": {
          "base_uri": "https://localhost:8080/"
        },
        "id": "6_CrbpkuKQO8",
        "outputId": "48ff2250-4dcb-404a-e773-28a04d6d0cc8"
      },
      "execution_count": null,
      "outputs": [
        {
          "output_type": "stream",
          "name": "stdout",
          "text": [
            "Model: \"sequential_10\"\n",
            "_________________________________________________________________\n",
            " Layer (type)                Output Shape              Param #   \n",
            "=================================================================\n",
            " dense_18 (Dense)            (None, 1)                 2         \n",
            "                                                                 \n",
            "=================================================================\n",
            "Total params: 2\n",
            "Trainable params: 2\n",
            "Non-trainable params: 0\n",
            "_________________________________________________________________\n"
          ]
        }
      ]
    },
    {
      "cell_type": "code",
      "source": [
        "model_1.summary()"
      ],
      "metadata": {
        "colab": {
          "base_uri": "https://localhost:8080/"
        },
        "id": "lU9UFOxmKQGR",
        "outputId": "1242849a-7685-4b1a-fe3a-b8d1ae07f393"
      },
      "execution_count": null,
      "outputs": [
        {
          "output_type": "stream",
          "name": "stdout",
          "text": [
            "Model: \"sequential_10\"\n",
            "_________________________________________________________________\n",
            " Layer (type)                Output Shape              Param #   \n",
            "=================================================================\n",
            " dense_18 (Dense)            (None, 1)                 2         \n",
            "                                                                 \n",
            "=================================================================\n",
            "Total params: 2\n",
            "Trainable params: 2\n",
            "Non-trainable params: 0\n",
            "_________________________________________________________________\n"
          ]
        }
      ]
    },
    {
      "cell_type": "code",
      "source": [
        "model_1_pred= model_1.predict(X_test)\n",
        "model_1_pred"
      ],
      "metadata": {
        "colab": {
          "base_uri": "https://localhost:8080/"
        },
        "id": "hB6LEWKhKP8A",
        "outputId": "57e0e18b-c67b-4710-c9d6-590ec2c3e557"
      },
      "execution_count": null,
      "outputs": [
        {
          "output_type": "stream",
          "name": "stdout",
          "text": [
            "1/1 [==============================] - 0s 129ms/step\n"
          ]
        },
        {
          "output_type": "execute_result",
          "data": {
            "text/plain": [
              "array([[42.828773],\n",
              "       [45.5984  ],\n",
              "       [48.368027],\n",
              "       [51.137653],\n",
              "       [53.90728 ],\n",
              "       [56.676907],\n",
              "       [59.446533],\n",
              "       [62.21616 ],\n",
              "       [64.98579 ],\n",
              "       [67.75542 ]], dtype=float32)"
            ]
          },
          "metadata": {},
          "execution_count": 64
        }
      ]
    },
    {
      "cell_type": "code",
      "source": [
        "load_savedModel_format_pred=load_savedModel_format.predict(X_test)\n",
        "load_savedModel_format_pred"
      ],
      "metadata": {
        "colab": {
          "base_uri": "https://localhost:8080/"
        },
        "id": "rkgr7uk9KPtd",
        "outputId": "de6a7693-a380-4ce6-e9c7-a3ae255b4c34"
      },
      "execution_count": null,
      "outputs": [
        {
          "output_type": "stream",
          "name": "stdout",
          "text": [
            "1/1 [==============================] - 0s 110ms/step\n"
          ]
        },
        {
          "output_type": "execute_result",
          "data": {
            "text/plain": [
              "array([[42.828773],\n",
              "       [45.5984  ],\n",
              "       [48.368027],\n",
              "       [51.137653],\n",
              "       [53.90728 ],\n",
              "       [56.676907],\n",
              "       [59.446533],\n",
              "       [62.21616 ],\n",
              "       [64.98579 ],\n",
              "       [67.75542 ]], dtype=float32)"
            ]
          },
          "metadata": {},
          "execution_count": 65
        }
      ]
    },
    {
      "cell_type": "code",
      "source": [
        "model_1_pred == load_savedModel_format_pred"
      ],
      "metadata": {
        "colab": {
          "base_uri": "https://localhost:8080/"
        },
        "id": "gS9ZG3qhKPZx",
        "outputId": "fd4d6156-88f8-425e-b81e-1e4b043baae6"
      },
      "execution_count": null,
      "outputs": [
        {
          "output_type": "execute_result",
          "data": {
            "text/plain": [
              "array([[ True],\n",
              "       [ True],\n",
              "       [ True],\n",
              "       [ True],\n",
              "       [ True],\n",
              "       [ True],\n",
              "       [ True],\n",
              "       [ True],\n",
              "       [ True],\n",
              "       [ True]])"
            ]
          },
          "metadata": {},
          "execution_count": 66
        }
      ]
    },
    {
      "cell_type": "code",
      "source": [],
      "metadata": {
        "id": "2MA-yp63XEjB"
      },
      "execution_count": null,
      "outputs": []
    },
    {
      "cell_type": "markdown",
      "source": [
        "##Larger Example"
      ],
      "metadata": {
        "id": "jlmURx5SXDLn"
      }
    },
    {
      "cell_type": "code",
      "source": [
        "\n",
        "# Import required libraries\n",
        "import tensorflow as tf\n",
        "import pandas as pd\n",
        "import matplotlib.pyplot as plt"
      ],
      "metadata": {
        "id": "VcN-pnZYKNI3"
      },
      "execution_count": null,
      "outputs": []
    },
    {
      "cell_type": "code",
      "source": [
        "# Read in the insurance dataset\n",
        "insurance = pd.read_csv(\"https://raw.githubusercontent.com/stedy/Machine-Learning-with-R-datasets/master/insurance.csv\")\n",
        "insurance.head()"
      ],
      "metadata": {
        "colab": {
          "base_uri": "https://localhost:8080/",
          "height": 206
        },
        "id": "scNJFbOHXOMk",
        "outputId": "b9720cd1-f52e-4a27-c403-34693bd00406"
      },
      "execution_count": null,
      "outputs": [
        {
          "output_type": "execute_result",
          "data": {
            "text/plain": [
              "   age     sex     bmi  children smoker     region      charges\n",
              "0   19  female  27.900         0    yes  southwest  16884.92400\n",
              "1   18    male  33.770         1     no  southeast   1725.55230\n",
              "2   28    male  33.000         3     no  southeast   4449.46200\n",
              "3   33    male  22.705         0     no  northwest  21984.47061\n",
              "4   32    male  28.880         0     no  northwest   3866.85520"
            ],
            "text/html": [
              "\n",
              "\n",
              "  <div id=\"df-60628d38-5bdf-480e-bb8a-6b13fdbd58b9\">\n",
              "    <div class=\"colab-df-container\">\n",
              "      <div>\n",
              "<style scoped>\n",
              "    .dataframe tbody tr th:only-of-type {\n",
              "        vertical-align: middle;\n",
              "    }\n",
              "\n",
              "    .dataframe tbody tr th {\n",
              "        vertical-align: top;\n",
              "    }\n",
              "\n",
              "    .dataframe thead th {\n",
              "        text-align: right;\n",
              "    }\n",
              "</style>\n",
              "<table border=\"1\" class=\"dataframe\">\n",
              "  <thead>\n",
              "    <tr style=\"text-align: right;\">\n",
              "      <th></th>\n",
              "      <th>age</th>\n",
              "      <th>sex</th>\n",
              "      <th>bmi</th>\n",
              "      <th>children</th>\n",
              "      <th>smoker</th>\n",
              "      <th>region</th>\n",
              "      <th>charges</th>\n",
              "    </tr>\n",
              "  </thead>\n",
              "  <tbody>\n",
              "    <tr>\n",
              "      <th>0</th>\n",
              "      <td>19</td>\n",
              "      <td>female</td>\n",
              "      <td>27.900</td>\n",
              "      <td>0</td>\n",
              "      <td>yes</td>\n",
              "      <td>southwest</td>\n",
              "      <td>16884.92400</td>\n",
              "    </tr>\n",
              "    <tr>\n",
              "      <th>1</th>\n",
              "      <td>18</td>\n",
              "      <td>male</td>\n",
              "      <td>33.770</td>\n",
              "      <td>1</td>\n",
              "      <td>no</td>\n",
              "      <td>southeast</td>\n",
              "      <td>1725.55230</td>\n",
              "    </tr>\n",
              "    <tr>\n",
              "      <th>2</th>\n",
              "      <td>28</td>\n",
              "      <td>male</td>\n",
              "      <td>33.000</td>\n",
              "      <td>3</td>\n",
              "      <td>no</td>\n",
              "      <td>southeast</td>\n",
              "      <td>4449.46200</td>\n",
              "    </tr>\n",
              "    <tr>\n",
              "      <th>3</th>\n",
              "      <td>33</td>\n",
              "      <td>male</td>\n",
              "      <td>22.705</td>\n",
              "      <td>0</td>\n",
              "      <td>no</td>\n",
              "      <td>northwest</td>\n",
              "      <td>21984.47061</td>\n",
              "    </tr>\n",
              "    <tr>\n",
              "      <th>4</th>\n",
              "      <td>32</td>\n",
              "      <td>male</td>\n",
              "      <td>28.880</td>\n",
              "      <td>0</td>\n",
              "      <td>no</td>\n",
              "      <td>northwest</td>\n",
              "      <td>3866.85520</td>\n",
              "    </tr>\n",
              "  </tbody>\n",
              "</table>\n",
              "</div>\n",
              "      <button class=\"colab-df-convert\" onclick=\"convertToInteractive('df-60628d38-5bdf-480e-bb8a-6b13fdbd58b9')\"\n",
              "              title=\"Convert this dataframe to an interactive table.\"\n",
              "              style=\"display:none;\">\n",
              "\n",
              "  <svg xmlns=\"http://www.w3.org/2000/svg\" height=\"24px\"viewBox=\"0 0 24 24\"\n",
              "       width=\"24px\">\n",
              "    <path d=\"M0 0h24v24H0V0z\" fill=\"none\"/>\n",
              "    <path d=\"M18.56 5.44l.94 2.06.94-2.06 2.06-.94-2.06-.94-.94-2.06-.94 2.06-2.06.94zm-11 1L8.5 8.5l.94-2.06 2.06-.94-2.06-.94L8.5 2.5l-.94 2.06-2.06.94zm10 10l.94 2.06.94-2.06 2.06-.94-2.06-.94-.94-2.06-.94 2.06-2.06.94z\"/><path d=\"M17.41 7.96l-1.37-1.37c-.4-.4-.92-.59-1.43-.59-.52 0-1.04.2-1.43.59L10.3 9.45l-7.72 7.72c-.78.78-.78 2.05 0 2.83L4 21.41c.39.39.9.59 1.41.59.51 0 1.02-.2 1.41-.59l7.78-7.78 2.81-2.81c.8-.78.8-2.07 0-2.86zM5.41 20L4 18.59l7.72-7.72 1.47 1.35L5.41 20z\"/>\n",
              "  </svg>\n",
              "      </button>\n",
              "\n",
              "\n",
              "\n",
              "    <div id=\"df-d83e68f0-51fb-4863-be7d-21613574b731\">\n",
              "      <button class=\"colab-df-quickchart\" onclick=\"quickchart('df-d83e68f0-51fb-4863-be7d-21613574b731')\"\n",
              "              title=\"Suggest charts.\"\n",
              "              style=\"display:none;\">\n",
              "\n",
              "<svg xmlns=\"http://www.w3.org/2000/svg\" height=\"24px\"viewBox=\"0 0 24 24\"\n",
              "     width=\"24px\">\n",
              "    <g>\n",
              "        <path d=\"M19 3H5c-1.1 0-2 .9-2 2v14c0 1.1.9 2 2 2h14c1.1 0 2-.9 2-2V5c0-1.1-.9-2-2-2zM9 17H7v-7h2v7zm4 0h-2V7h2v10zm4 0h-2v-4h2v4z\"/>\n",
              "    </g>\n",
              "</svg>\n",
              "      </button>\n",
              "    </div>\n",
              "\n",
              "<style>\n",
              "  .colab-df-quickchart {\n",
              "    background-color: #E8F0FE;\n",
              "    border: none;\n",
              "    border-radius: 50%;\n",
              "    cursor: pointer;\n",
              "    display: none;\n",
              "    fill: #1967D2;\n",
              "    height: 32px;\n",
              "    padding: 0 0 0 0;\n",
              "    width: 32px;\n",
              "  }\n",
              "\n",
              "  .colab-df-quickchart:hover {\n",
              "    background-color: #E2EBFA;\n",
              "    box-shadow: 0px 1px 2px rgba(60, 64, 67, 0.3), 0px 1px 3px 1px rgba(60, 64, 67, 0.15);\n",
              "    fill: #174EA6;\n",
              "  }\n",
              "\n",
              "  [theme=dark] .colab-df-quickchart {\n",
              "    background-color: #3B4455;\n",
              "    fill: #D2E3FC;\n",
              "  }\n",
              "\n",
              "  [theme=dark] .colab-df-quickchart:hover {\n",
              "    background-color: #434B5C;\n",
              "    box-shadow: 0px 1px 3px 1px rgba(0, 0, 0, 0.15);\n",
              "    filter: drop-shadow(0px 1px 2px rgba(0, 0, 0, 0.3));\n",
              "    fill: #FFFFFF;\n",
              "  }\n",
              "</style>\n",
              "\n",
              "    <script>\n",
              "      async function quickchart(key) {\n",
              "        const containerElement = document.querySelector('#' + key);\n",
              "        const charts = await google.colab.kernel.invokeFunction(\n",
              "            'suggestCharts', [key], {});\n",
              "      }\n",
              "    </script>\n",
              "\n",
              "      <script>\n",
              "\n",
              "function displayQuickchartButton(domScope) {\n",
              "  let quickchartButtonEl =\n",
              "    domScope.querySelector('#df-d83e68f0-51fb-4863-be7d-21613574b731 button.colab-df-quickchart');\n",
              "  quickchartButtonEl.style.display =\n",
              "    google.colab.kernel.accessAllowed ? 'block' : 'none';\n",
              "}\n",
              "\n",
              "        displayQuickchartButton(document);\n",
              "      </script>\n",
              "      <style>\n",
              "    .colab-df-container {\n",
              "      display:flex;\n",
              "      flex-wrap:wrap;\n",
              "      gap: 12px;\n",
              "    }\n",
              "\n",
              "    .colab-df-convert {\n",
              "      background-color: #E8F0FE;\n",
              "      border: none;\n",
              "      border-radius: 50%;\n",
              "      cursor: pointer;\n",
              "      display: none;\n",
              "      fill: #1967D2;\n",
              "      height: 32px;\n",
              "      padding: 0 0 0 0;\n",
              "      width: 32px;\n",
              "    }\n",
              "\n",
              "    .colab-df-convert:hover {\n",
              "      background-color: #E2EBFA;\n",
              "      box-shadow: 0px 1px 2px rgba(60, 64, 67, 0.3), 0px 1px 3px 1px rgba(60, 64, 67, 0.15);\n",
              "      fill: #174EA6;\n",
              "    }\n",
              "\n",
              "    [theme=dark] .colab-df-convert {\n",
              "      background-color: #3B4455;\n",
              "      fill: #D2E3FC;\n",
              "    }\n",
              "\n",
              "    [theme=dark] .colab-df-convert:hover {\n",
              "      background-color: #434B5C;\n",
              "      box-shadow: 0px 1px 3px 1px rgba(0, 0, 0, 0.15);\n",
              "      filter: drop-shadow(0px 1px 2px rgba(0, 0, 0, 0.3));\n",
              "      fill: #FFFFFF;\n",
              "    }\n",
              "  </style>\n",
              "\n",
              "      <script>\n",
              "        const buttonEl =\n",
              "          document.querySelector('#df-60628d38-5bdf-480e-bb8a-6b13fdbd58b9 button.colab-df-convert');\n",
              "        buttonEl.style.display =\n",
              "          google.colab.kernel.accessAllowed ? 'block' : 'none';\n",
              "\n",
              "        async function convertToInteractive(key) {\n",
              "          const element = document.querySelector('#df-60628d38-5bdf-480e-bb8a-6b13fdbd58b9');\n",
              "          const dataTable =\n",
              "            await google.colab.kernel.invokeFunction('convertToInteractive',\n",
              "                                                     [key], {});\n",
              "          if (!dataTable) return;\n",
              "\n",
              "          const docLinkHtml = 'Like what you see? Visit the ' +\n",
              "            '<a target=\"_blank\" href=https://colab.research.google.com/notebooks/data_table.ipynb>data table notebook</a>'\n",
              "            + ' to learn more about interactive tables.';\n",
              "          element.innerHTML = '';\n",
              "          dataTable['output_type'] = 'display_data';\n",
              "          await google.colab.output.renderOutput(dataTable, element);\n",
              "          const docLink = document.createElement('div');\n",
              "          docLink.innerHTML = docLinkHtml;\n",
              "          element.appendChild(docLink);\n",
              "        }\n",
              "      </script>\n",
              "    </div>\n",
              "  </div>\n"
            ]
          },
          "metadata": {},
          "execution_count": 2
        }
      ]
    },
    {
      "cell_type": "code",
      "source": [
        "insurance_one_hot= pd.get_dummies(insurance)\n",
        "insurance_one_hot"
      ],
      "metadata": {
        "colab": {
          "base_uri": "https://localhost:8080/",
          "height": 468
        },
        "id": "MZeChZcnXhcL",
        "outputId": "2beb152e-4a3b-4b8a-c303-1a9763747201"
      },
      "execution_count": null,
      "outputs": [
        {
          "output_type": "execute_result",
          "data": {
            "text/plain": [
              "      age     bmi  children      charges  sex_female  sex_male  smoker_no  \\\n",
              "0      19  27.900         0  16884.92400           1         0          0   \n",
              "1      18  33.770         1   1725.55230           0         1          1   \n",
              "2      28  33.000         3   4449.46200           0         1          1   \n",
              "3      33  22.705         0  21984.47061           0         1          1   \n",
              "4      32  28.880         0   3866.85520           0         1          1   \n",
              "...   ...     ...       ...          ...         ...       ...        ...   \n",
              "1333   50  30.970         3  10600.54830           0         1          1   \n",
              "1334   18  31.920         0   2205.98080           1         0          1   \n",
              "1335   18  36.850         0   1629.83350           1         0          1   \n",
              "1336   21  25.800         0   2007.94500           1         0          1   \n",
              "1337   61  29.070         0  29141.36030           1         0          0   \n",
              "\n",
              "      smoker_yes  region_northeast  region_northwest  region_southeast  \\\n",
              "0              1                 0                 0                 0   \n",
              "1              0                 0                 0                 1   \n",
              "2              0                 0                 0                 1   \n",
              "3              0                 0                 1                 0   \n",
              "4              0                 0                 1                 0   \n",
              "...          ...               ...               ...               ...   \n",
              "1333           0                 0                 1                 0   \n",
              "1334           0                 1                 0                 0   \n",
              "1335           0                 0                 0                 1   \n",
              "1336           0                 0                 0                 0   \n",
              "1337           1                 0                 1                 0   \n",
              "\n",
              "      region_southwest  \n",
              "0                    1  \n",
              "1                    0  \n",
              "2                    0  \n",
              "3                    0  \n",
              "4                    0  \n",
              "...                ...  \n",
              "1333                 0  \n",
              "1334                 0  \n",
              "1335                 0  \n",
              "1336                 1  \n",
              "1337                 0  \n",
              "\n",
              "[1338 rows x 12 columns]"
            ],
            "text/html": [
              "\n",
              "\n",
              "  <div id=\"df-cd3a1a75-16f5-4614-a097-3e54c38b15d8\">\n",
              "    <div class=\"colab-df-container\">\n",
              "      <div>\n",
              "<style scoped>\n",
              "    .dataframe tbody tr th:only-of-type {\n",
              "        vertical-align: middle;\n",
              "    }\n",
              "\n",
              "    .dataframe tbody tr th {\n",
              "        vertical-align: top;\n",
              "    }\n",
              "\n",
              "    .dataframe thead th {\n",
              "        text-align: right;\n",
              "    }\n",
              "</style>\n",
              "<table border=\"1\" class=\"dataframe\">\n",
              "  <thead>\n",
              "    <tr style=\"text-align: right;\">\n",
              "      <th></th>\n",
              "      <th>age</th>\n",
              "      <th>bmi</th>\n",
              "      <th>children</th>\n",
              "      <th>charges</th>\n",
              "      <th>sex_female</th>\n",
              "      <th>sex_male</th>\n",
              "      <th>smoker_no</th>\n",
              "      <th>smoker_yes</th>\n",
              "      <th>region_northeast</th>\n",
              "      <th>region_northwest</th>\n",
              "      <th>region_southeast</th>\n",
              "      <th>region_southwest</th>\n",
              "    </tr>\n",
              "  </thead>\n",
              "  <tbody>\n",
              "    <tr>\n",
              "      <th>0</th>\n",
              "      <td>19</td>\n",
              "      <td>27.900</td>\n",
              "      <td>0</td>\n",
              "      <td>16884.92400</td>\n",
              "      <td>1</td>\n",
              "      <td>0</td>\n",
              "      <td>0</td>\n",
              "      <td>1</td>\n",
              "      <td>0</td>\n",
              "      <td>0</td>\n",
              "      <td>0</td>\n",
              "      <td>1</td>\n",
              "    </tr>\n",
              "    <tr>\n",
              "      <th>1</th>\n",
              "      <td>18</td>\n",
              "      <td>33.770</td>\n",
              "      <td>1</td>\n",
              "      <td>1725.55230</td>\n",
              "      <td>0</td>\n",
              "      <td>1</td>\n",
              "      <td>1</td>\n",
              "      <td>0</td>\n",
              "      <td>0</td>\n",
              "      <td>0</td>\n",
              "      <td>1</td>\n",
              "      <td>0</td>\n",
              "    </tr>\n",
              "    <tr>\n",
              "      <th>2</th>\n",
              "      <td>28</td>\n",
              "      <td>33.000</td>\n",
              "      <td>3</td>\n",
              "      <td>4449.46200</td>\n",
              "      <td>0</td>\n",
              "      <td>1</td>\n",
              "      <td>1</td>\n",
              "      <td>0</td>\n",
              "      <td>0</td>\n",
              "      <td>0</td>\n",
              "      <td>1</td>\n",
              "      <td>0</td>\n",
              "    </tr>\n",
              "    <tr>\n",
              "      <th>3</th>\n",
              "      <td>33</td>\n",
              "      <td>22.705</td>\n",
              "      <td>0</td>\n",
              "      <td>21984.47061</td>\n",
              "      <td>0</td>\n",
              "      <td>1</td>\n",
              "      <td>1</td>\n",
              "      <td>0</td>\n",
              "      <td>0</td>\n",
              "      <td>1</td>\n",
              "      <td>0</td>\n",
              "      <td>0</td>\n",
              "    </tr>\n",
              "    <tr>\n",
              "      <th>4</th>\n",
              "      <td>32</td>\n",
              "      <td>28.880</td>\n",
              "      <td>0</td>\n",
              "      <td>3866.85520</td>\n",
              "      <td>0</td>\n",
              "      <td>1</td>\n",
              "      <td>1</td>\n",
              "      <td>0</td>\n",
              "      <td>0</td>\n",
              "      <td>1</td>\n",
              "      <td>0</td>\n",
              "      <td>0</td>\n",
              "    </tr>\n",
              "    <tr>\n",
              "      <th>...</th>\n",
              "      <td>...</td>\n",
              "      <td>...</td>\n",
              "      <td>...</td>\n",
              "      <td>...</td>\n",
              "      <td>...</td>\n",
              "      <td>...</td>\n",
              "      <td>...</td>\n",
              "      <td>...</td>\n",
              "      <td>...</td>\n",
              "      <td>...</td>\n",
              "      <td>...</td>\n",
              "      <td>...</td>\n",
              "    </tr>\n",
              "    <tr>\n",
              "      <th>1333</th>\n",
              "      <td>50</td>\n",
              "      <td>30.970</td>\n",
              "      <td>3</td>\n",
              "      <td>10600.54830</td>\n",
              "      <td>0</td>\n",
              "      <td>1</td>\n",
              "      <td>1</td>\n",
              "      <td>0</td>\n",
              "      <td>0</td>\n",
              "      <td>1</td>\n",
              "      <td>0</td>\n",
              "      <td>0</td>\n",
              "    </tr>\n",
              "    <tr>\n",
              "      <th>1334</th>\n",
              "      <td>18</td>\n",
              "      <td>31.920</td>\n",
              "      <td>0</td>\n",
              "      <td>2205.98080</td>\n",
              "      <td>1</td>\n",
              "      <td>0</td>\n",
              "      <td>1</td>\n",
              "      <td>0</td>\n",
              "      <td>1</td>\n",
              "      <td>0</td>\n",
              "      <td>0</td>\n",
              "      <td>0</td>\n",
              "    </tr>\n",
              "    <tr>\n",
              "      <th>1335</th>\n",
              "      <td>18</td>\n",
              "      <td>36.850</td>\n",
              "      <td>0</td>\n",
              "      <td>1629.83350</td>\n",
              "      <td>1</td>\n",
              "      <td>0</td>\n",
              "      <td>1</td>\n",
              "      <td>0</td>\n",
              "      <td>0</td>\n",
              "      <td>0</td>\n",
              "      <td>1</td>\n",
              "      <td>0</td>\n",
              "    </tr>\n",
              "    <tr>\n",
              "      <th>1336</th>\n",
              "      <td>21</td>\n",
              "      <td>25.800</td>\n",
              "      <td>0</td>\n",
              "      <td>2007.94500</td>\n",
              "      <td>1</td>\n",
              "      <td>0</td>\n",
              "      <td>1</td>\n",
              "      <td>0</td>\n",
              "      <td>0</td>\n",
              "      <td>0</td>\n",
              "      <td>0</td>\n",
              "      <td>1</td>\n",
              "    </tr>\n",
              "    <tr>\n",
              "      <th>1337</th>\n",
              "      <td>61</td>\n",
              "      <td>29.070</td>\n",
              "      <td>0</td>\n",
              "      <td>29141.36030</td>\n",
              "      <td>1</td>\n",
              "      <td>0</td>\n",
              "      <td>0</td>\n",
              "      <td>1</td>\n",
              "      <td>0</td>\n",
              "      <td>1</td>\n",
              "      <td>0</td>\n",
              "      <td>0</td>\n",
              "    </tr>\n",
              "  </tbody>\n",
              "</table>\n",
              "<p>1338 rows × 12 columns</p>\n",
              "</div>\n",
              "      <button class=\"colab-df-convert\" onclick=\"convertToInteractive('df-cd3a1a75-16f5-4614-a097-3e54c38b15d8')\"\n",
              "              title=\"Convert this dataframe to an interactive table.\"\n",
              "              style=\"display:none;\">\n",
              "\n",
              "  <svg xmlns=\"http://www.w3.org/2000/svg\" height=\"24px\"viewBox=\"0 0 24 24\"\n",
              "       width=\"24px\">\n",
              "    <path d=\"M0 0h24v24H0V0z\" fill=\"none\"/>\n",
              "    <path d=\"M18.56 5.44l.94 2.06.94-2.06 2.06-.94-2.06-.94-.94-2.06-.94 2.06-2.06.94zm-11 1L8.5 8.5l.94-2.06 2.06-.94-2.06-.94L8.5 2.5l-.94 2.06-2.06.94zm10 10l.94 2.06.94-2.06 2.06-.94-2.06-.94-.94-2.06-.94 2.06-2.06.94z\"/><path d=\"M17.41 7.96l-1.37-1.37c-.4-.4-.92-.59-1.43-.59-.52 0-1.04.2-1.43.59L10.3 9.45l-7.72 7.72c-.78.78-.78 2.05 0 2.83L4 21.41c.39.39.9.59 1.41.59.51 0 1.02-.2 1.41-.59l7.78-7.78 2.81-2.81c.8-.78.8-2.07 0-2.86zM5.41 20L4 18.59l7.72-7.72 1.47 1.35L5.41 20z\"/>\n",
              "  </svg>\n",
              "      </button>\n",
              "\n",
              "\n",
              "\n",
              "    <div id=\"df-1a6bdacf-8790-45e1-a5fe-38d9a813494e\">\n",
              "      <button class=\"colab-df-quickchart\" onclick=\"quickchart('df-1a6bdacf-8790-45e1-a5fe-38d9a813494e')\"\n",
              "              title=\"Suggest charts.\"\n",
              "              style=\"display:none;\">\n",
              "\n",
              "<svg xmlns=\"http://www.w3.org/2000/svg\" height=\"24px\"viewBox=\"0 0 24 24\"\n",
              "     width=\"24px\">\n",
              "    <g>\n",
              "        <path d=\"M19 3H5c-1.1 0-2 .9-2 2v14c0 1.1.9 2 2 2h14c1.1 0 2-.9 2-2V5c0-1.1-.9-2-2-2zM9 17H7v-7h2v7zm4 0h-2V7h2v10zm4 0h-2v-4h2v4z\"/>\n",
              "    </g>\n",
              "</svg>\n",
              "      </button>\n",
              "    </div>\n",
              "\n",
              "<style>\n",
              "  .colab-df-quickchart {\n",
              "    background-color: #E8F0FE;\n",
              "    border: none;\n",
              "    border-radius: 50%;\n",
              "    cursor: pointer;\n",
              "    display: none;\n",
              "    fill: #1967D2;\n",
              "    height: 32px;\n",
              "    padding: 0 0 0 0;\n",
              "    width: 32px;\n",
              "  }\n",
              "\n",
              "  .colab-df-quickchart:hover {\n",
              "    background-color: #E2EBFA;\n",
              "    box-shadow: 0px 1px 2px rgba(60, 64, 67, 0.3), 0px 1px 3px 1px rgba(60, 64, 67, 0.15);\n",
              "    fill: #174EA6;\n",
              "  }\n",
              "\n",
              "  [theme=dark] .colab-df-quickchart {\n",
              "    background-color: #3B4455;\n",
              "    fill: #D2E3FC;\n",
              "  }\n",
              "\n",
              "  [theme=dark] .colab-df-quickchart:hover {\n",
              "    background-color: #434B5C;\n",
              "    box-shadow: 0px 1px 3px 1px rgba(0, 0, 0, 0.15);\n",
              "    filter: drop-shadow(0px 1px 2px rgba(0, 0, 0, 0.3));\n",
              "    fill: #FFFFFF;\n",
              "  }\n",
              "</style>\n",
              "\n",
              "    <script>\n",
              "      async function quickchart(key) {\n",
              "        const containerElement = document.querySelector('#' + key);\n",
              "        const charts = await google.colab.kernel.invokeFunction(\n",
              "            'suggestCharts', [key], {});\n",
              "      }\n",
              "    </script>\n",
              "\n",
              "      <script>\n",
              "\n",
              "function displayQuickchartButton(domScope) {\n",
              "  let quickchartButtonEl =\n",
              "    domScope.querySelector('#df-1a6bdacf-8790-45e1-a5fe-38d9a813494e button.colab-df-quickchart');\n",
              "  quickchartButtonEl.style.display =\n",
              "    google.colab.kernel.accessAllowed ? 'block' : 'none';\n",
              "}\n",
              "\n",
              "        displayQuickchartButton(document);\n",
              "      </script>\n",
              "      <style>\n",
              "    .colab-df-container {\n",
              "      display:flex;\n",
              "      flex-wrap:wrap;\n",
              "      gap: 12px;\n",
              "    }\n",
              "\n",
              "    .colab-df-convert {\n",
              "      background-color: #E8F0FE;\n",
              "      border: none;\n",
              "      border-radius: 50%;\n",
              "      cursor: pointer;\n",
              "      display: none;\n",
              "      fill: #1967D2;\n",
              "      height: 32px;\n",
              "      padding: 0 0 0 0;\n",
              "      width: 32px;\n",
              "    }\n",
              "\n",
              "    .colab-df-convert:hover {\n",
              "      background-color: #E2EBFA;\n",
              "      box-shadow: 0px 1px 2px rgba(60, 64, 67, 0.3), 0px 1px 3px 1px rgba(60, 64, 67, 0.15);\n",
              "      fill: #174EA6;\n",
              "    }\n",
              "\n",
              "    [theme=dark] .colab-df-convert {\n",
              "      background-color: #3B4455;\n",
              "      fill: #D2E3FC;\n",
              "    }\n",
              "\n",
              "    [theme=dark] .colab-df-convert:hover {\n",
              "      background-color: #434B5C;\n",
              "      box-shadow: 0px 1px 3px 1px rgba(0, 0, 0, 0.15);\n",
              "      filter: drop-shadow(0px 1px 2px rgba(0, 0, 0, 0.3));\n",
              "      fill: #FFFFFF;\n",
              "    }\n",
              "  </style>\n",
              "\n",
              "      <script>\n",
              "        const buttonEl =\n",
              "          document.querySelector('#df-cd3a1a75-16f5-4614-a097-3e54c38b15d8 button.colab-df-convert');\n",
              "        buttonEl.style.display =\n",
              "          google.colab.kernel.accessAllowed ? 'block' : 'none';\n",
              "\n",
              "        async function convertToInteractive(key) {\n",
              "          const element = document.querySelector('#df-cd3a1a75-16f5-4614-a097-3e54c38b15d8');\n",
              "          const dataTable =\n",
              "            await google.colab.kernel.invokeFunction('convertToInteractive',\n",
              "                                                     [key], {});\n",
              "          if (!dataTable) return;\n",
              "\n",
              "          const docLinkHtml = 'Like what you see? Visit the ' +\n",
              "            '<a target=\"_blank\" href=https://colab.research.google.com/notebooks/data_table.ipynb>data table notebook</a>'\n",
              "            + ' to learn more about interactive tables.';\n",
              "          element.innerHTML = '';\n",
              "          dataTable['output_type'] = 'display_data';\n",
              "          await google.colab.output.renderOutput(dataTable, element);\n",
              "          const docLink = document.createElement('div');\n",
              "          docLink.innerHTML = docLinkHtml;\n",
              "          element.appendChild(docLink);\n",
              "        }\n",
              "      </script>\n",
              "    </div>\n",
              "  </div>\n"
            ]
          },
          "metadata": {},
          "execution_count": 4
        }
      ]
    },
    {
      "cell_type": "code",
      "source": [
        "# Create training and test sets\n",
        "from sklearn.model_selection import train_test_split\n",
        "X_train, X_test, y_train, y_test = train_test_split(X,\n",
        "                                                    y,\n",
        "                                                    test_size=0.2,\n",
        "                                                    random_state=42) # set random state for reproducible splits\n",
        "\n"
      ],
      "metadata": {
        "id": "rC_AJP5N1gyu"
      },
      "execution_count": null,
      "outputs": []
    },
    {
      "cell_type": "code",
      "source": [
        "from sklearn.compose import make_column_transformer\n",
        "from sklearn.preprocessing import MinMaxScaler, OneHotEncoder\n",
        "\n",
        "# Create column transformer (this will help us normalize/preprocess our data)\n",
        "ct = make_column_transformer(\n",
        "    (MinMaxScaler(), [\"age\", \"bmi\", \"children\"]), # get all values between 0 and 1\n",
        "    (OneHotEncoder(handle_unknown=\"ignore\"), [\"sex\", \"smoker\", \"region\"])\n",
        ")\n",
        "\n",
        "# Create X & y\n",
        "X = insurance.drop(\"charges\", axis=1)\n",
        "y = insurance[\"charges\"]\n",
        "\n",
        "# Build our train and test sets (use random state to ensure same split as before)\n",
        "X_train, X_test, y_train, y_test = train_test_split(X, y, test_size=0.2, random_state=42)\n",
        "\n",
        "# Fit column transformer on the training data only (doing so on test data would result in data leakage)\n",
        "ct.fit(X_train)\n",
        "\n",
        "# Transform training and test data with normalization (MinMaxScalar) and one hot encoding (OneHotEncoder)\n",
        "X_train_normal = ct.transform(X_train)\n",
        "X_test_normal = ct.transform(X_test)"
      ],
      "metadata": {
        "id": "wlXFKkQr1F7q"
      },
      "execution_count": null,
      "outputs": []
    },
    {
      "cell_type": "code",
      "source": [
        "\n",
        "# Set random seed\n",
        "tf.random.set_seed(42)\n",
        "\n",
        "# Build the model (3 layers, 100, 10, 1 units)\n",
        "insurance_model_3 = tf.keras.Sequential([\n",
        "  tf.keras.layers.Dense(100),\n",
        "  tf.keras.layers.Dense(10),\n",
        "  tf.keras.layers.Dense(1)\n",
        "])\n",
        "\n",
        "# Compile the model\n",
        "insurance_model_3.compile(loss=tf.keras.losses.mae,\n",
        "                          optimizer=tf.keras.optimizers.Adam(),\n",
        "                          metrics=['mae'])\n",
        "\n",
        "# Fit the model for 200 epochs (same as insurance_model_2)\n",
        "insurance_model_3.fit(X_train_normal, y_train, epochs=200, verbose=1)"
      ],
      "metadata": {
        "colab": {
          "base_uri": "https://localhost:8080/"
        },
        "id": "MgV3aC9Y1stV",
        "outputId": "9bf773d0-9295-4cd7-d080-00c769e6263a"
      },
      "execution_count": null,
      "outputs": [
        {
          "output_type": "stream",
          "name": "stdout",
          "text": [
            "Epoch 1/200\n",
            "34/34 [==============================] - 2s 3ms/step - loss: 13343.6719 - mae: 13343.6719\n",
            "Epoch 2/200\n",
            "34/34 [==============================] - 0s 3ms/step - loss: 13335.6777 - mae: 13335.6777\n",
            "Epoch 3/200\n",
            "34/34 [==============================] - 0s 3ms/step - loss: 13315.1416 - mae: 13315.1416\n",
            "Epoch 4/200\n",
            "34/34 [==============================] - 0s 3ms/step - loss: 13271.7441 - mae: 13271.7441\n",
            "Epoch 5/200\n",
            "34/34 [==============================] - 0s 3ms/step - loss: 13194.5137 - mae: 13194.5137\n",
            "Epoch 6/200\n",
            "34/34 [==============================] - 0s 4ms/step - loss: 13072.4102 - mae: 13072.4102\n",
            "Epoch 7/200\n",
            "34/34 [==============================] - 0s 3ms/step - loss: 12895.1758 - mae: 12895.1758\n",
            "Epoch 8/200\n",
            "34/34 [==============================] - 0s 3ms/step - loss: 12652.6807 - mae: 12652.6807\n",
            "Epoch 9/200\n",
            "34/34 [==============================] - 0s 4ms/step - loss: 12334.6846 - mae: 12334.6846\n",
            "Epoch 10/200\n",
            "34/34 [==============================] - 0s 5ms/step - loss: 11936.4932 - mae: 11936.4932\n",
            "Epoch 11/200\n",
            "34/34 [==============================] - 0s 4ms/step - loss: 11466.9219 - mae: 11466.9219\n",
            "Epoch 12/200\n",
            "34/34 [==============================] - 0s 4ms/step - loss: 10965.4180 - mae: 10965.4180\n",
            "Epoch 13/200\n",
            "34/34 [==============================] - 0s 4ms/step - loss: 10466.6875 - mae: 10466.6875\n",
            "Epoch 14/200\n",
            "34/34 [==============================] - 0s 5ms/step - loss: 9973.0322 - mae: 9973.0322\n",
            "Epoch 15/200\n",
            "34/34 [==============================] - 0s 5ms/step - loss: 9506.0469 - mae: 9506.0469\n",
            "Epoch 16/200\n",
            "34/34 [==============================] - 0s 5ms/step - loss: 9091.1484 - mae: 9091.1484\n",
            "Epoch 17/200\n",
            "34/34 [==============================] - 0s 4ms/step - loss: 8744.8867 - mae: 8744.8867\n",
            "Epoch 18/200\n",
            "34/34 [==============================] - 0s 4ms/step - loss: 8464.2139 - mae: 8464.2139\n",
            "Epoch 19/200\n",
            "34/34 [==============================] - 0s 5ms/step - loss: 8248.6387 - mae: 8248.6387\n",
            "Epoch 20/200\n",
            "34/34 [==============================] - 0s 4ms/step - loss: 8102.2681 - mae: 8102.2681\n",
            "Epoch 21/200\n",
            "34/34 [==============================] - 0s 4ms/step - loss: 7994.2241 - mae: 7994.2241\n",
            "Epoch 22/200\n",
            "34/34 [==============================] - 0s 4ms/step - loss: 7919.5767 - mae: 7919.5767\n",
            "Epoch 23/200\n",
            "34/34 [==============================] - 0s 4ms/step - loss: 7861.2139 - mae: 7861.2139\n",
            "Epoch 24/200\n",
            "34/34 [==============================] - 0s 4ms/step - loss: 7809.0464 - mae: 7809.0464\n",
            "Epoch 25/200\n",
            "34/34 [==============================] - 0s 4ms/step - loss: 7770.9121 - mae: 7770.9121\n",
            "Epoch 26/200\n",
            "34/34 [==============================] - 0s 5ms/step - loss: 7719.7554 - mae: 7719.7554\n",
            "Epoch 27/200\n",
            "34/34 [==============================] - 0s 5ms/step - loss: 7677.7500 - mae: 7677.7500\n",
            "Epoch 28/200\n",
            "34/34 [==============================] - 0s 5ms/step - loss: 7635.8306 - mae: 7635.8306\n",
            "Epoch 29/200\n",
            "34/34 [==============================] - 0s 4ms/step - loss: 7593.8770 - mae: 7593.8770\n",
            "Epoch 30/200\n",
            "34/34 [==============================] - 0s 5ms/step - loss: 7551.1235 - mae: 7551.1235\n",
            "Epoch 31/200\n",
            "34/34 [==============================] - 0s 5ms/step - loss: 7507.9072 - mae: 7507.9072\n",
            "Epoch 32/200\n",
            "34/34 [==============================] - 0s 5ms/step - loss: 7464.4072 - mae: 7464.4072\n",
            "Epoch 33/200\n",
            "34/34 [==============================] - 0s 5ms/step - loss: 7420.9297 - mae: 7420.9297\n",
            "Epoch 34/200\n",
            "34/34 [==============================] - 0s 4ms/step - loss: 7373.3638 - mae: 7373.3638\n",
            "Epoch 35/200\n",
            "34/34 [==============================] - 0s 3ms/step - loss: 7327.4937 - mae: 7327.4937\n",
            "Epoch 36/200\n",
            "34/34 [==============================] - 0s 3ms/step - loss: 7278.1538 - mae: 7278.1538\n",
            "Epoch 37/200\n",
            "34/34 [==============================] - 0s 3ms/step - loss: 7228.6641 - mae: 7228.6641\n",
            "Epoch 38/200\n",
            "34/34 [==============================] - 0s 3ms/step - loss: 7178.7773 - mae: 7178.7773\n",
            "Epoch 39/200\n",
            "34/34 [==============================] - 0s 3ms/step - loss: 7124.9766 - mae: 7124.9766\n",
            "Epoch 40/200\n",
            "34/34 [==============================] - 0s 4ms/step - loss: 7070.6245 - mae: 7070.6245\n",
            "Epoch 41/200\n",
            "34/34 [==============================] - 0s 3ms/step - loss: 7015.1001 - mae: 7015.1001\n",
            "Epoch 42/200\n",
            "34/34 [==============================] - 0s 3ms/step - loss: 6957.6069 - mae: 6957.6069\n",
            "Epoch 43/200\n",
            "34/34 [==============================] - 0s 3ms/step - loss: 6896.2817 - mae: 6896.2817\n",
            "Epoch 44/200\n",
            "34/34 [==============================] - 0s 3ms/step - loss: 6831.5972 - mae: 6831.5972\n",
            "Epoch 45/200\n",
            "34/34 [==============================] - 0s 3ms/step - loss: 6766.0146 - mae: 6766.0146\n",
            "Epoch 46/200\n",
            "34/34 [==============================] - 0s 3ms/step - loss: 6698.3154 - mae: 6698.3154\n",
            "Epoch 47/200\n",
            "34/34 [==============================] - 0s 3ms/step - loss: 6629.2393 - mae: 6629.2393\n",
            "Epoch 48/200\n",
            "34/34 [==============================] - 0s 3ms/step - loss: 6552.1992 - mae: 6552.1992\n",
            "Epoch 49/200\n",
            "34/34 [==============================] - 0s 3ms/step - loss: 6475.2817 - mae: 6475.2817\n",
            "Epoch 50/200\n",
            "34/34 [==============================] - 0s 3ms/step - loss: 6391.5938 - mae: 6391.5938\n",
            "Epoch 51/200\n",
            "34/34 [==============================] - 0s 3ms/step - loss: 6309.5601 - mae: 6309.5601\n",
            "Epoch 52/200\n",
            "34/34 [==============================] - 0s 3ms/step - loss: 6218.7651 - mae: 6218.7651\n",
            "Epoch 53/200\n",
            "34/34 [==============================] - 0s 3ms/step - loss: 6125.6680 - mae: 6125.6680\n",
            "Epoch 54/200\n",
            "34/34 [==============================] - 0s 3ms/step - loss: 6029.7773 - mae: 6029.7773\n",
            "Epoch 55/200\n",
            "34/34 [==============================] - 0s 3ms/step - loss: 5925.2324 - mae: 5925.2324\n",
            "Epoch 56/200\n",
            "34/34 [==============================] - 0s 3ms/step - loss: 5820.0049 - mae: 5820.0049\n",
            "Epoch 57/200\n",
            "34/34 [==============================] - 0s 3ms/step - loss: 5707.4165 - mae: 5707.4165\n",
            "Epoch 58/200\n",
            "34/34 [==============================] - 0s 3ms/step - loss: 5590.7637 - mae: 5590.7637\n",
            "Epoch 59/200\n",
            "34/34 [==============================] - 0s 3ms/step - loss: 5475.6484 - mae: 5475.6484\n",
            "Epoch 60/200\n",
            "34/34 [==============================] - 0s 3ms/step - loss: 5355.7368 - mae: 5355.7368\n",
            "Epoch 61/200\n",
            "34/34 [==============================] - 0s 3ms/step - loss: 5229.9990 - mae: 5229.9990\n",
            "Epoch 62/200\n",
            "34/34 [==============================] - 0s 3ms/step - loss: 5103.9438 - mae: 5103.9438\n",
            "Epoch 63/200\n",
            "34/34 [==============================] - 0s 3ms/step - loss: 4976.9253 - mae: 4976.9253\n",
            "Epoch 64/200\n",
            "34/34 [==============================] - 0s 3ms/step - loss: 4846.0669 - mae: 4846.0669\n",
            "Epoch 65/200\n",
            "34/34 [==============================] - 0s 3ms/step - loss: 4718.4004 - mae: 4718.4004\n",
            "Epoch 66/200\n",
            "34/34 [==============================] - 0s 3ms/step - loss: 4588.7363 - mae: 4588.7363\n",
            "Epoch 67/200\n",
            "34/34 [==============================] - 0s 4ms/step - loss: 4474.7202 - mae: 4474.7202\n",
            "Epoch 68/200\n",
            "34/34 [==============================] - 0s 3ms/step - loss: 4365.3389 - mae: 4365.3389\n",
            "Epoch 69/200\n",
            "34/34 [==============================] - 0s 3ms/step - loss: 4260.8081 - mae: 4260.8081\n",
            "Epoch 70/200\n",
            "34/34 [==============================] - 0s 3ms/step - loss: 4163.2715 - mae: 4163.2715\n",
            "Epoch 71/200\n",
            "34/34 [==============================] - 0s 3ms/step - loss: 4072.0027 - mae: 4072.0027\n",
            "Epoch 72/200\n",
            "34/34 [==============================] - 0s 3ms/step - loss: 3990.3220 - mae: 3990.3220\n",
            "Epoch 73/200\n",
            "34/34 [==============================] - 0s 3ms/step - loss: 3919.0198 - mae: 3919.0198\n",
            "Epoch 74/200\n",
            "34/34 [==============================] - 0s 3ms/step - loss: 3859.0491 - mae: 3859.0491\n",
            "Epoch 75/200\n",
            "34/34 [==============================] - 0s 3ms/step - loss: 3811.4700 - mae: 3811.4700\n",
            "Epoch 76/200\n",
            "34/34 [==============================] - 0s 3ms/step - loss: 3773.4102 - mae: 3773.4102\n",
            "Epoch 77/200\n",
            "34/34 [==============================] - 0s 3ms/step - loss: 3742.5786 - mae: 3742.5786\n",
            "Epoch 78/200\n",
            "34/34 [==============================] - 0s 3ms/step - loss: 3720.6780 - mae: 3720.6780\n",
            "Epoch 79/200\n",
            "34/34 [==============================] - 0s 3ms/step - loss: 3703.0845 - mae: 3703.0845\n",
            "Epoch 80/200\n",
            "34/34 [==============================] - 0s 3ms/step - loss: 3690.9170 - mae: 3690.9170\n",
            "Epoch 81/200\n",
            "34/34 [==============================] - 0s 3ms/step - loss: 3682.6323 - mae: 3682.6323\n",
            "Epoch 82/200\n",
            "34/34 [==============================] - 0s 3ms/step - loss: 3677.5149 - mae: 3677.5149\n",
            "Epoch 83/200\n",
            "34/34 [==============================] - 0s 3ms/step - loss: 3670.0483 - mae: 3670.0483\n",
            "Epoch 84/200\n",
            "34/34 [==============================] - 0s 3ms/step - loss: 3666.2122 - mae: 3666.2122\n",
            "Epoch 85/200\n",
            "34/34 [==============================] - 0s 3ms/step - loss: 3663.9270 - mae: 3663.9270\n",
            "Epoch 86/200\n",
            "34/34 [==============================] - 0s 3ms/step - loss: 3661.1648 - mae: 3661.1648\n",
            "Epoch 87/200\n",
            "34/34 [==============================] - 0s 3ms/step - loss: 3658.1113 - mae: 3658.1113\n",
            "Epoch 88/200\n",
            "34/34 [==============================] - 0s 3ms/step - loss: 3655.4399 - mae: 3655.4399\n",
            "Epoch 89/200\n",
            "34/34 [==============================] - 0s 3ms/step - loss: 3653.3301 - mae: 3653.3301\n",
            "Epoch 90/200\n",
            "34/34 [==============================] - 0s 3ms/step - loss: 3651.6494 - mae: 3651.6494\n",
            "Epoch 91/200\n",
            "34/34 [==============================] - 0s 3ms/step - loss: 3648.9072 - mae: 3648.9072\n",
            "Epoch 92/200\n",
            "34/34 [==============================] - 0s 3ms/step - loss: 3648.1116 - mae: 3648.1116\n",
            "Epoch 93/200\n",
            "34/34 [==============================] - 0s 3ms/step - loss: 3645.8982 - mae: 3645.8982\n",
            "Epoch 94/200\n",
            "34/34 [==============================] - 0s 3ms/step - loss: 3644.1421 - mae: 3644.1421\n",
            "Epoch 95/200\n",
            "34/34 [==============================] - 0s 3ms/step - loss: 3645.0378 - mae: 3645.0378\n",
            "Epoch 96/200\n",
            "34/34 [==============================] - 0s 3ms/step - loss: 3642.1274 - mae: 3642.1274\n",
            "Epoch 97/200\n",
            "34/34 [==============================] - 0s 3ms/step - loss: 3639.6936 - mae: 3639.6936\n",
            "Epoch 98/200\n",
            "34/34 [==============================] - 0s 3ms/step - loss: 3637.6726 - mae: 3637.6726\n",
            "Epoch 99/200\n",
            "34/34 [==============================] - 0s 3ms/step - loss: 3636.7141 - mae: 3636.7141\n",
            "Epoch 100/200\n",
            "34/34 [==============================] - 0s 3ms/step - loss: 3635.3477 - mae: 3635.3477\n",
            "Epoch 101/200\n",
            "34/34 [==============================] - 0s 3ms/step - loss: 3632.5303 - mae: 3632.5303\n",
            "Epoch 102/200\n",
            "34/34 [==============================] - 0s 3ms/step - loss: 3629.9104 - mae: 3629.9104\n",
            "Epoch 103/200\n",
            "34/34 [==============================] - 0s 3ms/step - loss: 3628.9771 - mae: 3628.9771\n",
            "Epoch 104/200\n",
            "34/34 [==============================] - 0s 3ms/step - loss: 3626.4136 - mae: 3626.4136\n",
            "Epoch 105/200\n",
            "34/34 [==============================] - 0s 3ms/step - loss: 3624.9939 - mae: 3624.9939\n",
            "Epoch 106/200\n",
            "34/34 [==============================] - 0s 3ms/step - loss: 3623.5574 - mae: 3623.5574\n",
            "Epoch 107/200\n",
            "34/34 [==============================] - 0s 3ms/step - loss: 3622.9404 - mae: 3622.9404\n",
            "Epoch 108/200\n",
            "34/34 [==============================] - 0s 3ms/step - loss: 3620.6450 - mae: 3620.6450\n",
            "Epoch 109/200\n",
            "34/34 [==============================] - 0s 3ms/step - loss: 3620.8572 - mae: 3620.8572\n",
            "Epoch 110/200\n",
            "34/34 [==============================] - 0s 3ms/step - loss: 3617.2937 - mae: 3617.2937\n",
            "Epoch 111/200\n",
            "34/34 [==============================] - 0s 4ms/step - loss: 3614.5586 - mae: 3614.5586\n",
            "Epoch 112/200\n",
            "34/34 [==============================] - 0s 3ms/step - loss: 3612.6753 - mae: 3612.6753\n",
            "Epoch 113/200\n",
            "34/34 [==============================] - 0s 3ms/step - loss: 3611.2278 - mae: 3611.2278\n",
            "Epoch 114/200\n",
            "34/34 [==============================] - 0s 3ms/step - loss: 3610.3147 - mae: 3610.3147\n",
            "Epoch 115/200\n",
            "34/34 [==============================] - 0s 4ms/step - loss: 3608.5774 - mae: 3608.5774\n",
            "Epoch 116/200\n",
            "34/34 [==============================] - 0s 4ms/step - loss: 3607.2810 - mae: 3607.2810\n",
            "Epoch 117/200\n",
            "34/34 [==============================] - 0s 3ms/step - loss: 3604.0947 - mae: 3604.0947\n",
            "Epoch 118/200\n",
            "34/34 [==============================] - 0s 3ms/step - loss: 3600.5159 - mae: 3600.5159\n",
            "Epoch 119/200\n",
            "34/34 [==============================] - 0s 4ms/step - loss: 3602.6086 - mae: 3602.6086\n",
            "Epoch 120/200\n",
            "34/34 [==============================] - 0s 5ms/step - loss: 3599.4993 - mae: 3599.4993\n",
            "Epoch 121/200\n",
            "34/34 [==============================] - 0s 4ms/step - loss: 3594.5767 - mae: 3594.5767\n",
            "Epoch 122/200\n",
            "34/34 [==============================] - 0s 5ms/step - loss: 3593.8975 - mae: 3593.8975\n",
            "Epoch 123/200\n",
            "34/34 [==============================] - 0s 5ms/step - loss: 3591.9148 - mae: 3591.9148\n",
            "Epoch 124/200\n",
            "34/34 [==============================] - 0s 5ms/step - loss: 3589.6194 - mae: 3589.6194\n",
            "Epoch 125/200\n",
            "34/34 [==============================] - 0s 5ms/step - loss: 3587.4089 - mae: 3587.4089\n",
            "Epoch 126/200\n",
            "34/34 [==============================] - 0s 5ms/step - loss: 3586.6338 - mae: 3586.6338\n",
            "Epoch 127/200\n",
            "34/34 [==============================] - 0s 5ms/step - loss: 3586.9985 - mae: 3586.9985\n",
            "Epoch 128/200\n",
            "34/34 [==============================] - 0s 5ms/step - loss: 3583.5269 - mae: 3583.5269\n",
            "Epoch 129/200\n",
            "34/34 [==============================] - 0s 5ms/step - loss: 3582.1089 - mae: 3582.1089\n",
            "Epoch 130/200\n",
            "34/34 [==============================] - 0s 5ms/step - loss: 3578.4919 - mae: 3578.4919\n",
            "Epoch 131/200\n",
            "34/34 [==============================] - 0s 5ms/step - loss: 3577.0527 - mae: 3577.0527\n",
            "Epoch 132/200\n",
            "34/34 [==============================] - 0s 5ms/step - loss: 3574.1479 - mae: 3574.1479\n",
            "Epoch 133/200\n",
            "34/34 [==============================] - 0s 4ms/step - loss: 3572.8521 - mae: 3572.8521\n",
            "Epoch 134/200\n",
            "34/34 [==============================] - 0s 4ms/step - loss: 3570.5657 - mae: 3570.5657\n",
            "Epoch 135/200\n",
            "34/34 [==============================] - 0s 4ms/step - loss: 3568.6587 - mae: 3568.6587\n",
            "Epoch 136/200\n",
            "34/34 [==============================] - 0s 5ms/step - loss: 3567.0620 - mae: 3567.0620\n",
            "Epoch 137/200\n",
            "34/34 [==============================] - 0s 5ms/step - loss: 3565.6113 - mae: 3565.6113\n",
            "Epoch 138/200\n",
            "34/34 [==============================] - 0s 4ms/step - loss: 3563.2302 - mae: 3563.2302\n",
            "Epoch 139/200\n",
            "34/34 [==============================] - 0s 5ms/step - loss: 3562.6489 - mae: 3562.6489\n",
            "Epoch 140/200\n",
            "34/34 [==============================] - 0s 4ms/step - loss: 3560.4490 - mae: 3560.4490\n",
            "Epoch 141/200\n",
            "34/34 [==============================] - 0s 5ms/step - loss: 3560.4592 - mae: 3560.4592\n",
            "Epoch 142/200\n",
            "34/34 [==============================] - 0s 5ms/step - loss: 3557.4153 - mae: 3557.4153\n",
            "Epoch 143/200\n",
            "34/34 [==============================] - 0s 5ms/step - loss: 3557.4736 - mae: 3557.4736\n",
            "Epoch 144/200\n",
            "34/34 [==============================] - 0s 5ms/step - loss: 3554.4551 - mae: 3554.4551\n",
            "Epoch 145/200\n",
            "34/34 [==============================] - 0s 3ms/step - loss: 3552.6331 - mae: 3552.6331\n",
            "Epoch 146/200\n",
            "34/34 [==============================] - 0s 3ms/step - loss: 3552.9863 - mae: 3552.9863\n",
            "Epoch 147/200\n",
            "34/34 [==============================] - 0s 3ms/step - loss: 3550.1460 - mae: 3550.1460\n",
            "Epoch 148/200\n",
            "34/34 [==============================] - 0s 4ms/step - loss: 3549.0220 - mae: 3549.0220\n",
            "Epoch 149/200\n",
            "34/34 [==============================] - 0s 3ms/step - loss: 3546.3677 - mae: 3546.3677\n",
            "Epoch 150/200\n",
            "34/34 [==============================] - 0s 3ms/step - loss: 3546.3164 - mae: 3546.3164\n",
            "Epoch 151/200\n",
            "34/34 [==============================] - 0s 3ms/step - loss: 3544.2507 - mae: 3544.2507\n",
            "Epoch 152/200\n",
            "34/34 [==============================] - 0s 4ms/step - loss: 3542.7258 - mae: 3542.7258\n",
            "Epoch 153/200\n",
            "34/34 [==============================] - 0s 3ms/step - loss: 3541.1965 - mae: 3541.1965\n",
            "Epoch 154/200\n",
            "34/34 [==============================] - 0s 3ms/step - loss: 3542.4749 - mae: 3542.4749\n",
            "Epoch 155/200\n",
            "34/34 [==============================] - 0s 4ms/step - loss: 3540.0981 - mae: 3540.0981\n",
            "Epoch 156/200\n",
            "34/34 [==============================] - 0s 3ms/step - loss: 3538.4385 - mae: 3538.4385\n",
            "Epoch 157/200\n",
            "34/34 [==============================] - 0s 3ms/step - loss: 3536.7834 - mae: 3536.7834\n",
            "Epoch 158/200\n",
            "34/34 [==============================] - 0s 4ms/step - loss: 3533.9370 - mae: 3533.9370\n",
            "Epoch 159/200\n",
            "34/34 [==============================] - 0s 3ms/step - loss: 3532.3784 - mae: 3532.3784\n",
            "Epoch 160/200\n",
            "34/34 [==============================] - 0s 3ms/step - loss: 3532.0811 - mae: 3532.0811\n",
            "Epoch 161/200\n",
            "34/34 [==============================] - 0s 4ms/step - loss: 3529.0842 - mae: 3529.0842\n",
            "Epoch 162/200\n",
            "34/34 [==============================] - 0s 3ms/step - loss: 3528.4778 - mae: 3528.4778\n",
            "Epoch 163/200\n",
            "34/34 [==============================] - 0s 3ms/step - loss: 3526.9099 - mae: 3526.9099\n",
            "Epoch 164/200\n",
            "34/34 [==============================] - 0s 3ms/step - loss: 3525.7107 - mae: 3525.7107\n",
            "Epoch 165/200\n",
            "34/34 [==============================] - 0s 3ms/step - loss: 3523.7539 - mae: 3523.7539\n",
            "Epoch 166/200\n",
            "34/34 [==============================] - 0s 3ms/step - loss: 3522.3413 - mae: 3522.3413\n",
            "Epoch 167/200\n",
            "34/34 [==============================] - 0s 3ms/step - loss: 3521.3547 - mae: 3521.3547\n",
            "Epoch 168/200\n",
            "34/34 [==============================] - 0s 3ms/step - loss: 3520.2473 - mae: 3520.2473\n",
            "Epoch 169/200\n",
            "34/34 [==============================] - 0s 4ms/step - loss: 3519.0293 - mae: 3519.0293\n",
            "Epoch 170/200\n",
            "34/34 [==============================] - 0s 4ms/step - loss: 3517.4541 - mae: 3517.4541\n",
            "Epoch 171/200\n",
            "34/34 [==============================] - 0s 3ms/step - loss: 3517.1394 - mae: 3517.1394\n",
            "Epoch 172/200\n",
            "34/34 [==============================] - 0s 3ms/step - loss: 3515.5212 - mae: 3515.5212\n",
            "Epoch 173/200\n",
            "34/34 [==============================] - 0s 4ms/step - loss: 3514.0085 - mae: 3514.0085\n",
            "Epoch 174/200\n",
            "34/34 [==============================] - 0s 3ms/step - loss: 3513.1172 - mae: 3513.1172\n",
            "Epoch 175/200\n",
            "34/34 [==============================] - 0s 3ms/step - loss: 3511.6404 - mae: 3511.6404\n",
            "Epoch 176/200\n",
            "34/34 [==============================] - 0s 3ms/step - loss: 3511.7544 - mae: 3511.7544\n",
            "Epoch 177/200\n",
            "34/34 [==============================] - 0s 3ms/step - loss: 3512.0598 - mae: 3512.0598\n",
            "Epoch 178/200\n",
            "34/34 [==============================] - 0s 4ms/step - loss: 3509.6445 - mae: 3509.6445\n",
            "Epoch 179/200\n",
            "34/34 [==============================] - 0s 4ms/step - loss: 3511.8501 - mae: 3511.8501\n",
            "Epoch 180/200\n",
            "34/34 [==============================] - 0s 4ms/step - loss: 3506.6155 - mae: 3506.6155\n",
            "Epoch 181/200\n",
            "34/34 [==============================] - 0s 3ms/step - loss: 3504.4424 - mae: 3504.4424\n",
            "Epoch 182/200\n",
            "34/34 [==============================] - 0s 3ms/step - loss: 3503.8848 - mae: 3503.8848\n",
            "Epoch 183/200\n",
            "34/34 [==============================] - 0s 3ms/step - loss: 3502.0095 - mae: 3502.0095\n",
            "Epoch 184/200\n",
            "34/34 [==============================] - 0s 3ms/step - loss: 3501.3005 - mae: 3501.3005\n",
            "Epoch 185/200\n",
            "34/34 [==============================] - 0s 3ms/step - loss: 3500.8289 - mae: 3500.8289\n",
            "Epoch 186/200\n",
            "34/34 [==============================] - 0s 7ms/step - loss: 3498.5515 - mae: 3498.5515\n",
            "Epoch 187/200\n",
            "34/34 [==============================] - 0s 7ms/step - loss: 3498.6594 - mae: 3498.6594\n",
            "Epoch 188/200\n",
            "34/34 [==============================] - 0s 7ms/step - loss: 3496.0007 - mae: 3496.0007\n",
            "Epoch 189/200\n",
            "34/34 [==============================] - 0s 7ms/step - loss: 3494.3105 - mae: 3494.3105\n",
            "Epoch 190/200\n",
            "34/34 [==============================] - 0s 8ms/step - loss: 3496.2078 - mae: 3496.2078\n",
            "Epoch 191/200\n",
            "34/34 [==============================] - 0s 3ms/step - loss: 3501.0127 - mae: 3501.0127\n",
            "Epoch 192/200\n",
            "34/34 [==============================] - 0s 4ms/step - loss: 3491.3809 - mae: 3491.3809\n",
            "Epoch 193/200\n",
            "34/34 [==============================] - 0s 3ms/step - loss: 3491.2930 - mae: 3491.2930\n",
            "Epoch 194/200\n",
            "34/34 [==============================] - 0s 3ms/step - loss: 3488.2690 - mae: 3488.2690\n",
            "Epoch 195/200\n",
            "34/34 [==============================] - 0s 3ms/step - loss: 3487.7422 - mae: 3487.7422\n",
            "Epoch 196/200\n",
            "34/34 [==============================] - 0s 3ms/step - loss: 3489.0190 - mae: 3489.0190\n",
            "Epoch 197/200\n",
            "34/34 [==============================] - 0s 4ms/step - loss: 3485.2078 - mae: 3485.2078\n",
            "Epoch 198/200\n",
            "34/34 [==============================] - 0s 3ms/step - loss: 3484.0801 - mae: 3484.0801\n",
            "Epoch 199/200\n",
            "34/34 [==============================] - 0s 3ms/step - loss: 3482.9031 - mae: 3482.9031\n",
            "Epoch 200/200\n",
            "34/34 [==============================] - 0s 3ms/step - loss: 3483.3909 - mae: 3483.3909\n"
          ]
        },
        {
          "output_type": "execute_result",
          "data": {
            "text/plain": [
              "<keras.callbacks.History at 0x7d78aff1b310>"
            ]
          },
          "metadata": {},
          "execution_count": 7
        }
      ]
    },
    {
      "cell_type": "code",
      "source": [
        "# Evaulate 3rd model\n",
        "insurance_model_3_loss, insurance_model_3_mae = insurance_model_3.evaluate(X_test_normal, y_test)\n"
      ],
      "metadata": {
        "colab": {
          "base_uri": "https://localhost:8080/"
        },
        "id": "h-YUWcOm1t-v",
        "outputId": "10c59aa7-d2c9-4834-c0a3-a5e5d1b56c08"
      },
      "execution_count": null,
      "outputs": [
        {
          "output_type": "stream",
          "name": "stdout",
          "text": [
            "9/9 [==============================] - 0s 3ms/step - loss: 3171.0337 - mae: 3171.0337\n"
          ]
        }
      ]
    },
    {
      "cell_type": "code",
      "source": [
        "X= insurance_one_hot.drop('charges', axis=1)\n",
        "y=insurance_one_hot['charges']\n",
        "y.head(),"
      ],
      "metadata": {
        "colab": {
          "base_uri": "https://localhost:8080/"
        },
        "id": "U72-eSiMXhTm",
        "outputId": "e6380dd1-dd44-414f-9951-b5d6ba5494c7"
      },
      "execution_count": null,
      "outputs": [
        {
          "output_type": "execute_result",
          "data": {
            "text/plain": [
              "(0    16884.92400\n",
              " 1     1725.55230\n",
              " 2     4449.46200\n",
              " 3    21984.47061\n",
              " 4     3866.85520\n",
              " Name: charges, dtype: float64,)"
            ]
          },
          "metadata": {},
          "execution_count": 9
        }
      ]
    },
    {
      "cell_type": "code",
      "source": [
        "# Create training and test sets\n",
        "from sklearn.model_selection import train_test_split\n",
        "X_train, X_test, y_train, y_test = train_test_split(X,\n",
        "                                                    y,\n",
        "                                                    test_size=0.2,\n",
        "                                                    random_state=42) # set random state for reproducible splits\n"
      ],
      "metadata": {
        "id": "irCSP0tG0tCw"
      },
      "execution_count": null,
      "outputs": []
    },
    {
      "cell_type": "code",
      "source": [
        "callback = tf.keras.callbacks.EarlyStopping(monitor='loss', patience=3)\n",
        "# Set random seed\n",
        "tf.random.set_seed(42)\n",
        "\n",
        "# Add an extra layer and increase number of units\n",
        "insurance_model_2 = tf.keras.Sequential([\n",
        "  tf.keras.layers.Dense(100), # 100 units\n",
        "  tf.keras.layers.Dense(10), # 10 units\n",
        "  tf.keras.layers.Dense(1) # 1 unit (important for output layer)\n",
        "])\n",
        "\n",
        "# Compile the model\n",
        "insurance_model_2.compile(loss=tf.keras.losses.mae,\n",
        "                          optimizer=tf.keras.optimizers.Adam(), # Adam works but SGD doesn't\n",
        "                          metrics=['mae'])\n",
        "\n",
        "# Fit the model and save the history (we can plot this)\n",
        "history = insurance_model_2.fit(X_train, y_train, epochs=1000, callbacks=[callback])\n",
        "len(history.history['loss'])\n"
      ],
      "metadata": {
        "colab": {
          "base_uri": "https://localhost:8080/"
        },
        "id": "OONiTW9TXhJz",
        "outputId": "31e78d7c-5869-4731-cd78-f5aa49234ace"
      },
      "execution_count": null,
      "outputs": [
        {
          "output_type": "stream",
          "name": "stdout",
          "text": [
            "Epoch 1/1000\n",
            "34/34 [==============================] - 1s 3ms/step - loss: 13295.0957 - mae: 13295.0957\n",
            "Epoch 2/1000\n",
            "34/34 [==============================] - 0s 3ms/step - loss: 13154.9453 - mae: 13154.9453\n",
            "Epoch 3/1000\n",
            "34/34 [==============================] - 0s 3ms/step - loss: 12840.3770 - mae: 12840.3770\n",
            "Epoch 4/1000\n",
            "34/34 [==============================] - 0s 4ms/step - loss: 12208.6777 - mae: 12208.6777\n",
            "Epoch 5/1000\n",
            "34/34 [==============================] - 0s 3ms/step - loss: 11127.9678 - mae: 11127.9678\n",
            "Epoch 6/1000\n",
            "34/34 [==============================] - 0s 3ms/step - loss: 9688.4180 - mae: 9688.4180\n",
            "Epoch 7/1000\n",
            "34/34 [==============================] - 0s 3ms/step - loss: 8304.2080 - mae: 8304.2080\n",
            "Epoch 8/1000\n",
            "34/34 [==============================] - 0s 3ms/step - loss: 7565.2822 - mae: 7565.2822\n",
            "Epoch 9/1000\n",
            "34/34 [==============================] - 0s 3ms/step - loss: 7422.2529 - mae: 7422.2529\n",
            "Epoch 10/1000\n",
            "34/34 [==============================] - 0s 3ms/step - loss: 7400.4570 - mae: 7400.4570\n",
            "Epoch 11/1000\n",
            "34/34 [==============================] - 0s 3ms/step - loss: 7382.1235 - mae: 7382.1235\n",
            "Epoch 12/1000\n",
            "34/34 [==============================] - 0s 3ms/step - loss: 7361.3130 - mae: 7361.3130\n",
            "Epoch 13/1000\n",
            "34/34 [==============================] - 0s 3ms/step - loss: 7341.8877 - mae: 7341.8877\n",
            "Epoch 14/1000\n",
            "34/34 [==============================] - 0s 3ms/step - loss: 7320.4287 - mae: 7320.4287\n",
            "Epoch 15/1000\n",
            "34/34 [==============================] - 0s 3ms/step - loss: 7302.4292 - mae: 7302.4292\n",
            "Epoch 16/1000\n",
            "34/34 [==============================] - 0s 3ms/step - loss: 7281.2095 - mae: 7281.2095\n",
            "Epoch 17/1000\n",
            "34/34 [==============================] - 0s 3ms/step - loss: 7262.0713 - mae: 7262.0713\n",
            "Epoch 18/1000\n",
            "34/34 [==============================] - 0s 3ms/step - loss: 7239.7368 - mae: 7239.7368\n",
            "Epoch 19/1000\n",
            "34/34 [==============================] - 0s 3ms/step - loss: 7218.4272 - mae: 7218.4272\n",
            "Epoch 20/1000\n",
            "34/34 [==============================] - 0s 3ms/step - loss: 7196.0015 - mae: 7196.0015\n",
            "Epoch 21/1000\n",
            "34/34 [==============================] - 0s 3ms/step - loss: 7178.5874 - mae: 7178.5874\n",
            "Epoch 22/1000\n",
            "34/34 [==============================] - 0s 3ms/step - loss: 7151.6172 - mae: 7151.6172\n",
            "Epoch 23/1000\n",
            "34/34 [==============================] - 0s 3ms/step - loss: 7128.0303 - mae: 7128.0303\n",
            "Epoch 24/1000\n",
            "34/34 [==============================] - 0s 3ms/step - loss: 7104.0713 - mae: 7104.0713\n",
            "Epoch 25/1000\n",
            "34/34 [==============================] - 0s 3ms/step - loss: 7087.2432 - mae: 7087.2432\n",
            "Epoch 26/1000\n",
            "34/34 [==============================] - 0s 3ms/step - loss: 7056.1846 - mae: 7056.1846\n",
            "Epoch 27/1000\n",
            "34/34 [==============================] - 0s 3ms/step - loss: 7029.3022 - mae: 7029.3022\n",
            "Epoch 28/1000\n",
            "34/34 [==============================] - 0s 3ms/step - loss: 7002.4658 - mae: 7002.4658\n",
            "Epoch 29/1000\n",
            "34/34 [==============================] - 0s 3ms/step - loss: 6976.2930 - mae: 6976.2930\n",
            "Epoch 30/1000\n",
            "34/34 [==============================] - 0s 3ms/step - loss: 6949.6230 - mae: 6949.6230\n",
            "Epoch 31/1000\n",
            "34/34 [==============================] - 0s 3ms/step - loss: 6920.1543 - mae: 6920.1543\n",
            "Epoch 32/1000\n",
            "34/34 [==============================] - 0s 3ms/step - loss: 6893.5366 - mae: 6893.5366\n",
            "Epoch 33/1000\n",
            "34/34 [==============================] - 0s 3ms/step - loss: 6864.3389 - mae: 6864.3389\n",
            "Epoch 34/1000\n",
            "34/34 [==============================] - 0s 3ms/step - loss: 6834.8726 - mae: 6834.8726\n",
            "Epoch 35/1000\n",
            "34/34 [==============================] - 0s 3ms/step - loss: 6802.9272 - mae: 6802.9272\n",
            "Epoch 36/1000\n",
            "34/34 [==============================] - 0s 3ms/step - loss: 6770.4307 - mae: 6770.4307\n",
            "Epoch 37/1000\n",
            "34/34 [==============================] - 0s 3ms/step - loss: 6736.1792 - mae: 6736.1792\n",
            "Epoch 38/1000\n",
            "34/34 [==============================] - 0s 3ms/step - loss: 6706.8315 - mae: 6706.8315\n",
            "Epoch 39/1000\n",
            "34/34 [==============================] - 0s 3ms/step - loss: 6670.3374 - mae: 6670.3374\n",
            "Epoch 40/1000\n",
            "34/34 [==============================] - 0s 3ms/step - loss: 6636.9336 - mae: 6636.9336\n",
            "Epoch 41/1000\n",
            "34/34 [==============================] - 0s 3ms/step - loss: 6605.9561 - mae: 6605.9561\n",
            "Epoch 42/1000\n",
            "34/34 [==============================] - 0s 3ms/step - loss: 6577.0635 - mae: 6577.0635\n",
            "Epoch 43/1000\n",
            "34/34 [==============================] - 0s 3ms/step - loss: 6549.3569 - mae: 6549.3569\n",
            "Epoch 44/1000\n",
            "34/34 [==============================] - 0s 3ms/step - loss: 6525.1611 - mae: 6525.1611\n",
            "Epoch 45/1000\n",
            "34/34 [==============================] - 0s 3ms/step - loss: 6510.4355 - mae: 6510.4355\n",
            "Epoch 46/1000\n",
            "34/34 [==============================] - 0s 3ms/step - loss: 6491.5547 - mae: 6491.5547\n",
            "Epoch 47/1000\n",
            "34/34 [==============================] - 0s 3ms/step - loss: 6476.3730 - mae: 6476.3730\n",
            "Epoch 48/1000\n",
            "34/34 [==============================] - 0s 3ms/step - loss: 6462.7090 - mae: 6462.7090\n",
            "Epoch 49/1000\n",
            "34/34 [==============================] - 0s 3ms/step - loss: 6449.9526 - mae: 6449.9526\n",
            "Epoch 50/1000\n",
            "34/34 [==============================] - 0s 3ms/step - loss: 6436.3359 - mae: 6436.3359\n",
            "Epoch 51/1000\n",
            "34/34 [==============================] - 0s 3ms/step - loss: 6423.1846 - mae: 6423.1846\n",
            "Epoch 52/1000\n",
            "34/34 [==============================] - 0s 4ms/step - loss: 6412.6670 - mae: 6412.6670\n",
            "Epoch 53/1000\n",
            "34/34 [==============================] - 0s 3ms/step - loss: 6398.9341 - mae: 6398.9341\n",
            "Epoch 54/1000\n",
            "34/34 [==============================] - 0s 3ms/step - loss: 6386.3530 - mae: 6386.3530\n",
            "Epoch 55/1000\n",
            "34/34 [==============================] - 0s 3ms/step - loss: 6373.4951 - mae: 6373.4951\n",
            "Epoch 56/1000\n",
            "34/34 [==============================] - 0s 3ms/step - loss: 6360.3901 - mae: 6360.3901\n",
            "Epoch 57/1000\n",
            "34/34 [==============================] - 0s 3ms/step - loss: 6348.9995 - mae: 6348.9995\n",
            "Epoch 58/1000\n",
            "34/34 [==============================] - 0s 3ms/step - loss: 6334.7554 - mae: 6334.7554\n",
            "Epoch 59/1000\n",
            "34/34 [==============================] - 0s 3ms/step - loss: 6321.2915 - mae: 6321.2915\n",
            "Epoch 60/1000\n",
            "34/34 [==============================] - 0s 3ms/step - loss: 6312.1157 - mae: 6312.1157\n",
            "Epoch 61/1000\n",
            "34/34 [==============================] - 0s 3ms/step - loss: 6294.1035 - mae: 6294.1035\n",
            "Epoch 62/1000\n",
            "34/34 [==============================] - 0s 3ms/step - loss: 6281.7612 - mae: 6281.7612\n",
            "Epoch 63/1000\n",
            "34/34 [==============================] - 0s 3ms/step - loss: 6265.4336 - mae: 6265.4336\n",
            "Epoch 64/1000\n",
            "34/34 [==============================] - 0s 3ms/step - loss: 6250.3086 - mae: 6250.3086\n",
            "Epoch 65/1000\n",
            "34/34 [==============================] - 0s 3ms/step - loss: 6234.4844 - mae: 6234.4844\n",
            "Epoch 66/1000\n",
            "34/34 [==============================] - 0s 3ms/step - loss: 6219.1504 - mae: 6219.1504\n",
            "Epoch 67/1000\n",
            "34/34 [==============================] - 0s 3ms/step - loss: 6207.5312 - mae: 6207.5312\n",
            "Epoch 68/1000\n",
            "34/34 [==============================] - 0s 3ms/step - loss: 6187.2559 - mae: 6187.2559\n",
            "Epoch 69/1000\n",
            "34/34 [==============================] - 0s 3ms/step - loss: 6172.3403 - mae: 6172.3403\n",
            "Epoch 70/1000\n",
            "34/34 [==============================] - 0s 5ms/step - loss: 6153.5815 - mae: 6153.5815\n",
            "Epoch 71/1000\n",
            "34/34 [==============================] - 0s 5ms/step - loss: 6135.7109 - mae: 6135.7109\n",
            "Epoch 72/1000\n",
            "34/34 [==============================] - 0s 4ms/step - loss: 6119.2217 - mae: 6119.2217\n",
            "Epoch 73/1000\n",
            "34/34 [==============================] - 0s 4ms/step - loss: 6104.2222 - mae: 6104.2222\n",
            "Epoch 74/1000\n",
            "34/34 [==============================] - 0s 4ms/step - loss: 6081.0205 - mae: 6081.0205\n",
            "Epoch 75/1000\n",
            "34/34 [==============================] - 0s 4ms/step - loss: 6062.7881 - mae: 6062.7881\n",
            "Epoch 76/1000\n",
            "34/34 [==============================] - 0s 5ms/step - loss: 6049.8125 - mae: 6049.8125\n",
            "Epoch 77/1000\n",
            "34/34 [==============================] - 0s 4ms/step - loss: 6018.6011 - mae: 6018.6011\n",
            "Epoch 78/1000\n",
            "34/34 [==============================] - 0s 4ms/step - loss: 5998.7212 - mae: 5998.7212\n",
            "Epoch 79/1000\n",
            "34/34 [==============================] - 0s 4ms/step - loss: 5977.1670 - mae: 5977.1670\n",
            "Epoch 80/1000\n",
            "34/34 [==============================] - 0s 4ms/step - loss: 5953.4253 - mae: 5953.4253\n",
            "Epoch 81/1000\n",
            "34/34 [==============================] - 0s 4ms/step - loss: 5930.0752 - mae: 5930.0752\n",
            "Epoch 82/1000\n",
            "34/34 [==============================] - 0s 5ms/step - loss: 5906.6299 - mae: 5906.6299\n",
            "Epoch 83/1000\n",
            "34/34 [==============================] - 0s 4ms/step - loss: 5880.7578 - mae: 5880.7578\n",
            "Epoch 84/1000\n",
            "34/34 [==============================] - 0s 4ms/step - loss: 5849.8223 - mae: 5849.8223\n",
            "Epoch 85/1000\n",
            "34/34 [==============================] - 0s 4ms/step - loss: 5829.1045 - mae: 5829.1045\n",
            "Epoch 86/1000\n",
            "34/34 [==============================] - 0s 4ms/step - loss: 5796.7275 - mae: 5796.7275\n",
            "Epoch 87/1000\n",
            "34/34 [==============================] - 0s 4ms/step - loss: 5764.9429 - mae: 5764.9429\n",
            "Epoch 88/1000\n",
            "34/34 [==============================] - 0s 4ms/step - loss: 5737.1162 - mae: 5737.1162\n",
            "Epoch 89/1000\n",
            "34/34 [==============================] - 0s 5ms/step - loss: 5701.4004 - mae: 5701.4004\n",
            "Epoch 90/1000\n",
            "34/34 [==============================] - 0s 4ms/step - loss: 5666.0259 - mae: 5666.0259\n",
            "Epoch 91/1000\n",
            "34/34 [==============================] - 0s 4ms/step - loss: 5636.0083 - mae: 5636.0083\n",
            "Epoch 92/1000\n",
            "34/34 [==============================] - 0s 5ms/step - loss: 5591.8120 - mae: 5591.8120\n",
            "Epoch 93/1000\n",
            "34/34 [==============================] - 0s 4ms/step - loss: 5556.9907 - mae: 5556.9907\n",
            "Epoch 94/1000\n",
            "34/34 [==============================] - 0s 4ms/step - loss: 5521.9912 - mae: 5521.9912\n",
            "Epoch 95/1000\n",
            "34/34 [==============================] - 0s 4ms/step - loss: 5473.3867 - mae: 5473.3867\n",
            "Epoch 96/1000\n",
            "34/34 [==============================] - 0s 4ms/step - loss: 5434.0063 - mae: 5434.0063\n",
            "Epoch 97/1000\n",
            "34/34 [==============================] - 0s 3ms/step - loss: 5385.9316 - mae: 5385.9316\n",
            "Epoch 98/1000\n",
            "34/34 [==============================] - 0s 3ms/step - loss: 5334.8262 - mae: 5334.8262\n",
            "Epoch 99/1000\n",
            "34/34 [==============================] - 0s 3ms/step - loss: 5284.5928 - mae: 5284.5928\n",
            "Epoch 100/1000\n",
            "34/34 [==============================] - 0s 3ms/step - loss: 5235.1519 - mae: 5235.1519\n",
            "Epoch 101/1000\n",
            "34/34 [==============================] - 0s 3ms/step - loss: 5174.9146 - mae: 5174.9146\n",
            "Epoch 102/1000\n",
            "34/34 [==============================] - 0s 3ms/step - loss: 5117.0259 - mae: 5117.0259\n",
            "Epoch 103/1000\n",
            "34/34 [==============================] - 0s 3ms/step - loss: 5058.1860 - mae: 5058.1860\n",
            "Epoch 104/1000\n",
            "34/34 [==============================] - 0s 3ms/step - loss: 4990.9023 - mae: 4990.9023\n",
            "Epoch 105/1000\n",
            "34/34 [==============================] - 0s 4ms/step - loss: 4920.9434 - mae: 4920.9434\n",
            "Epoch 106/1000\n",
            "34/34 [==============================] - 0s 4ms/step - loss: 4847.9072 - mae: 4847.9072\n",
            "Epoch 107/1000\n",
            "34/34 [==============================] - 0s 3ms/step - loss: 4774.4619 - mae: 4774.4619\n",
            "Epoch 108/1000\n",
            "34/34 [==============================] - 0s 3ms/step - loss: 4695.9482 - mae: 4695.9482\n",
            "Epoch 109/1000\n",
            "34/34 [==============================] - 0s 3ms/step - loss: 4617.3799 - mae: 4617.3799\n",
            "Epoch 110/1000\n",
            "34/34 [==============================] - 0s 3ms/step - loss: 4527.0933 - mae: 4527.0933\n",
            "Epoch 111/1000\n",
            "34/34 [==============================] - 0s 3ms/step - loss: 4438.8774 - mae: 4438.8774\n",
            "Epoch 112/1000\n",
            "34/34 [==============================] - 0s 3ms/step - loss: 4363.3208 - mae: 4363.3208\n",
            "Epoch 113/1000\n",
            "34/34 [==============================] - 0s 3ms/step - loss: 4275.9507 - mae: 4275.9507\n",
            "Epoch 114/1000\n",
            "34/34 [==============================] - 0s 3ms/step - loss: 4190.7031 - mae: 4190.7031\n",
            "Epoch 115/1000\n",
            "34/34 [==============================] - 0s 3ms/step - loss: 4112.2954 - mae: 4112.2954\n",
            "Epoch 116/1000\n",
            "34/34 [==============================] - 0s 3ms/step - loss: 4044.0205 - mae: 4044.0205\n",
            "Epoch 117/1000\n",
            "34/34 [==============================] - 0s 3ms/step - loss: 3998.1221 - mae: 3998.1221\n",
            "Epoch 118/1000\n",
            "34/34 [==============================] - 0s 3ms/step - loss: 3963.0752 - mae: 3963.0752\n",
            "Epoch 119/1000\n",
            "34/34 [==============================] - 0s 3ms/step - loss: 3923.0200 - mae: 3923.0200\n",
            "Epoch 120/1000\n",
            "34/34 [==============================] - 0s 3ms/step - loss: 3888.0117 - mae: 3888.0117\n",
            "Epoch 121/1000\n",
            "34/34 [==============================] - 0s 3ms/step - loss: 3871.8025 - mae: 3871.8025\n",
            "Epoch 122/1000\n",
            "34/34 [==============================] - 0s 3ms/step - loss: 3857.7583 - mae: 3857.7583\n",
            "Epoch 123/1000\n",
            "34/34 [==============================] - 0s 3ms/step - loss: 3845.7263 - mae: 3845.7263\n",
            "Epoch 124/1000\n",
            "34/34 [==============================] - 0s 3ms/step - loss: 3832.2754 - mae: 3832.2754\n",
            "Epoch 125/1000\n",
            "34/34 [==============================] - 0s 3ms/step - loss: 3817.5762 - mae: 3817.5762\n",
            "Epoch 126/1000\n",
            "34/34 [==============================] - 0s 3ms/step - loss: 3824.8669 - mae: 3824.8669\n",
            "Epoch 127/1000\n",
            "34/34 [==============================] - 0s 3ms/step - loss: 3813.9417 - mae: 3813.9417\n",
            "Epoch 128/1000\n",
            "34/34 [==============================] - 0s 3ms/step - loss: 3807.3066 - mae: 3807.3066\n",
            "Epoch 129/1000\n",
            "34/34 [==============================] - 0s 3ms/step - loss: 3808.3696 - mae: 3808.3696\n",
            "Epoch 130/1000\n",
            "34/34 [==============================] - 0s 3ms/step - loss: 3798.2195 - mae: 3798.2195\n",
            "Epoch 131/1000\n",
            "34/34 [==============================] - 0s 3ms/step - loss: 3793.2280 - mae: 3793.2280\n",
            "Epoch 132/1000\n",
            "34/34 [==============================] - 0s 3ms/step - loss: 3785.3508 - mae: 3785.3508\n",
            "Epoch 133/1000\n",
            "34/34 [==============================] - 0s 4ms/step - loss: 3779.6826 - mae: 3779.6826\n",
            "Epoch 134/1000\n",
            "34/34 [==============================] - 0s 3ms/step - loss: 3778.8828 - mae: 3778.8828\n",
            "Epoch 135/1000\n",
            "34/34 [==============================] - 0s 3ms/step - loss: 3775.3538 - mae: 3775.3538\n",
            "Epoch 136/1000\n",
            "34/34 [==============================] - 0s 3ms/step - loss: 3775.1580 - mae: 3775.1580\n",
            "Epoch 137/1000\n",
            "34/34 [==============================] - 0s 3ms/step - loss: 3783.5193 - mae: 3783.5193\n",
            "Epoch 138/1000\n",
            "34/34 [==============================] - 0s 3ms/step - loss: 3790.3694 - mae: 3790.3694\n",
            "Epoch 139/1000\n",
            "34/34 [==============================] - 0s 3ms/step - loss: 3769.3013 - mae: 3769.3013\n",
            "Epoch 140/1000\n",
            "34/34 [==============================] - 0s 3ms/step - loss: 3770.9849 - mae: 3770.9849\n",
            "Epoch 141/1000\n",
            "34/34 [==============================] - 0s 3ms/step - loss: 3771.0266 - mae: 3771.0266\n",
            "Epoch 142/1000\n",
            "34/34 [==============================] - 0s 3ms/step - loss: 3769.7913 - mae: 3769.7913\n"
          ]
        },
        {
          "output_type": "execute_result",
          "data": {
            "text/plain": [
              "142"
            ]
          },
          "metadata": {},
          "execution_count": 22
        }
      ]
    },
    {
      "cell_type": "code",
      "source": [
        "\n",
        "# Evaluate our larger model\n",
        "insurance_model_2.evaluate(X_test, y_test)"
      ],
      "metadata": {
        "colab": {
          "base_uri": "https://localhost:8080/"
        },
        "id": "-tN4CHfrXhAK",
        "outputId": "e5a50396-b462-4593-9b74-d5c5974abb55"
      },
      "execution_count": null,
      "outputs": [
        {
          "output_type": "stream",
          "name": "stdout",
          "text": [
            "9/9 [==============================] - 0s 3ms/step - loss: 4730.9863 - mae: 4730.9863\n"
          ]
        },
        {
          "output_type": "execute_result",
          "data": {
            "text/plain": [
              "[4730.986328125, 4730.986328125]"
            ]
          },
          "metadata": {},
          "execution_count": 12
        }
      ]
    },
    {
      "cell_type": "code",
      "source": [
        "insurance_model_2_loss, insurance_model_2_mae = insurance_model_2.evaluate(X_test, y_test)\n",
        "insurance_model_2_loss, insurance_model_2_mae"
      ],
      "metadata": {
        "colab": {
          "base_uri": "https://localhost:8080/"
        },
        "id": "oml2CYra2SZu",
        "outputId": "4b753f29-0a46-4b40-e319-2bf345d29042"
      },
      "execution_count": null,
      "outputs": [
        {
          "output_type": "stream",
          "name": "stdout",
          "text": [
            "9/9 [==============================] - 0s 3ms/step - loss: 3492.3330 - mae: 3492.3330\n"
          ]
        },
        {
          "output_type": "execute_result",
          "data": {
            "text/plain": [
              "(3492.3330078125, 3492.3330078125)"
            ]
          },
          "metadata": {},
          "execution_count": 16
        }
      ]
    },
    {
      "cell_type": "code",
      "source": [
        "pd.DataFrame(history.history).plot()\n",
        "plt.ylabel(\"loss\")\n",
        "plt.xlabel(\"epochs\")"
      ],
      "metadata": {
        "colab": {
          "base_uri": "https://localhost:8080/",
          "height": 467
        },
        "id": "4BDmzHvxXg2C",
        "outputId": "47c612b2-2938-4b65-c333-7ab3bd759b59"
      },
      "execution_count": null,
      "outputs": [
        {
          "output_type": "execute_result",
          "data": {
            "text/plain": [
              "Text(0.5, 0, 'epochs')"
            ]
          },
          "metadata": {},
          "execution_count": 21
        },
        {
          "output_type": "display_data",
          "data": {
            "text/plain": [
              "<Figure size 640x480 with 1 Axes>"
            ],
            "image/png": "[encoded data removed]"
          },
          "metadata": {}
        }
      ]
    },
    {
      "cell_type": "code",
      "source": [
        "\n",
        "# Try training for a little longer (100 more epochs)\n",
        "history_2 = insurance_model_2.fit(X_train, y_train, epochs=100, verbose=0)"
      ],
      "metadata": {
        "id": "4U9HiL7DXgsB"
      },
      "execution_count": null,
      "outputs": []
    },
    {
      "cell_type": "code",
      "source": [
        "pd.DataFrame(history_2.history).plot()\n",
        "plt.ylabel(\"loss\")\n",
        "plt.xlabel(\"epochs\")"
      ],
      "metadata": {
        "colab": {
          "base_uri": "https://localhost:8080/",
          "height": 467
        },
        "id": "S9G23LS9Xgef",
        "outputId": "e32f8501-7071-4246-fd68-0df598bf0bd0"
      },
      "execution_count": null,
      "outputs": [
        {
          "output_type": "execute_result",
          "data": {
            "text/plain": [
              "Text(0.5, 0, 'epochs')"
            ]
          },
          "metadata": {},
          "execution_count": 15
        },
        {
          "output_type": "display_data",
          "data": {
            "text/plain": [
              "<Figure size 640x480 with 1 Axes>"
            ],
            "image/png": "[encoded data removed]"
          },
          "metadata": {}
        }
      ]
    },
    {
      "cell_type": "code",
      "source": [],
      "metadata": {
        "id": "nC391DPRXgVH"
      },
      "execution_count": null,
      "outputs": []
    },
    {
      "cell_type": "code",
      "source": [],
      "metadata": {
        "id": "BxWwc7r7XgLQ"
      },
      "execution_count": null,
      "outputs": []
    },
    {
      "cell_type": "code",
      "source": [],
      "metadata": {
        "id": "nm5DmHywXgCV"
      },
      "execution_count": null,
      "outputs": []
    },
    {
      "cell_type": "code",
      "source": [],
      "metadata": {
        "id": "jxBicnyJXf3s"
      },
      "execution_count": null,
      "outputs": []
    },
    {
      "cell_type": "code",
      "source": [],
      "metadata": {
        "id": "3KQnWPIDXfuT"
      },
      "execution_count": null,
      "outputs": []
    },
    {
      "cell_type": "code",
      "source": [],
      "metadata": {
        "id": "dVd6QHKyXflD"
      },
      "execution_count": null,
      "outputs": []
    },
    {
      "cell_type": "code",
      "source": [],
      "metadata": {
        "id": "svo9rNpmXfcJ"
      },
      "execution_count": null,
      "outputs": []
    },
    {
      "cell_type": "code",
      "source": [],
      "metadata": {
        "id": "p8KvtZxlXfSk"
      },
      "execution_count": null,
      "outputs": []
    },
    {
      "cell_type": "code",
      "source": [],
      "metadata": {
        "id": "n9TxRqieXfHF"
      },
      "execution_count": null,
      "outputs": []
    },
    {
      "cell_type": "code",
      "source": [],
      "metadata": {
        "id": "danqnOACXe83"
      },
      "execution_count": null,
      "outputs": []
    },
    {
      "cell_type": "code",
      "source": [],
      "metadata": {
        "id": "0Ptfv8XZXe0I"
      },
      "execution_count": null,
      "outputs": []
    },
    {
      "cell_type": "code",
      "source": [],
      "metadata": {
        "id": "jqpIQ2kZXeoC"
      },
      "execution_count": null,
      "outputs": []
    },
    {
      "cell_type": "code",
      "source": [
        "# Set random seed\n",
        "tf.random.set_seed(42)\n",
        "\n",
        "# 1. Create the model (this time 3 layers)\n",
        "model_3 = tf.keras.Sequential([\n",
        "  ## Before TensorFlow 2.7.0\n",
        "  # tf.keras.layers.Dense(100), # add 100 dense neurons\n",
        "\n",
        "  ## After TensorFlow 2.7.0\n",
        "  tf.keras.layers.Dense(100, input_shape=(None, 1)), # <- define input_shape here\n",
        "  tf.keras.layers.Dense(10), # add another layer with 10 neurons\n",
        "  tf.keras.layers.Dense(1)\n",
        "])\n",
        "\n",
        "# 2. Compile the model\n",
        "model_3.compile(loss=tf.keras.losses.BinaryCrossentropy(),\n",
        "                optimizer=tf.keras.optimizers.Adam(), # use Adam instead of SGD\n",
        "                metrics=['accuracy'])\n"
      ],
      "metadata": {
        "id": "BLNU4ZIbXecO"
      },
      "execution_count": null,
      "outputs": []
    },
    {
      "cell_type": "code",
      "source": [
        "\n",
        "## After TensorFlow 2.7.0\n",
        "model_3.fit(tf.expand_dims(X_reg_train, axis=-1), # <- expand input dimensions\n",
        "            y_reg_train,\n",
        "            epochs=100)"
      ],
      "metadata": {
        "id": "Kho2k0cgXeJQ"
      },
      "execution_count": null,
      "outputs": []
    },
    {
      "cell_type": "code",
      "source": [],
      "metadata": {
        "id": "1SD0JAS5Xd-5"
      },
      "execution_count": null,
      "outputs": []
    },
    {
      "cell_type": "code",
      "source": [],
      "metadata": {
        "id": "n3Rv0Q9EXd0o"
      },
      "execution_count": null,
      "outputs": []
    },
    {
      "cell_type": "code",
      "source": [],
      "metadata": {
        "id": "L_ZyrryBXdpm"
      },
      "execution_count": null,
      "outputs": []
    },
    {
      "cell_type": "code",
      "source": [],
      "metadata": {
        "id": "7o3eunCSXdeh"
      },
      "execution_count": null,
      "outputs": []
    },
    {
      "cell_type": "code",
      "source": [],
      "metadata": {
        "id": "ZsPIMkqzXdHZ"
      },
      "execution_count": null,
      "outputs": []
    },
    {
      "cell_type": "code",
      "source": [],
      "metadata": {
        "id": "JV8dHM04XdA6"
      },
      "execution_count": null,
      "outputs": []
    },
    {
      "cell_type": "code",
      "source": [],
      "metadata": {
        "id": "AebievvpXc5O"
      },
      "execution_count": null,
      "outputs": []
    },
    {
      "cell_type": "code",
      "source": [],
      "metadata": {
        "id": "TGJTFwAZXcxI"
      },
      "execution_count": null,
      "outputs": []
    },
    {
      "cell_type": "code",
      "source": [],
      "metadata": {
        "id": "9JrQqos1Xco4"
      },
      "execution_count": null,
      "outputs": []
    },
    {
      "cell_type": "code",
      "source": [],
      "metadata": {
        "id": "Lpc0aDb8Xcfy"
      },
      "execution_count": null,
      "outputs": []
    },
    {
      "cell_type": "code",
      "source": [],
      "metadata": {
        "id": "Q8s7PXNiXcV4"
      },
      "execution_count": null,
      "outputs": []
    },
    {
      "cell_type": "code",
      "source": [],
      "metadata": {
        "id": "-5gm3pRLXcLU"
      },
      "execution_count": null,
      "outputs": []
    },
    {
      "cell_type": "code",
      "source": [],
      "metadata": {
        "id": "m5p3F9ZRXb_S"
      },
      "execution_count": null,
      "outputs": []
    },
    {
      "cell_type": "code",
      "source": [],
      "metadata": {
        "id": "XUJdWD7fXb1p"
      },
      "execution_count": null,
      "outputs": []
    },
    {
      "cell_type": "code",
      "source": [],
      "metadata": {
        "id": "NJxuMT0nXbsV"
      },
      "execution_count": null,
      "outputs": []
    },
    {
      "cell_type": "code",
      "source": [],
      "metadata": {
        "id": "KKEMnQGLXbiD"
      },
      "execution_count": null,
      "outputs": []
    },
    {
      "cell_type": "code",
      "source": [],
      "metadata": {
        "id": "eWtmU_zSXbXH"
      },
      "execution_count": null,
      "outputs": []
    },
    {
      "cell_type": "code",
      "source": [],
      "metadata": {
        "id": "lk4r5Q0qXbMf"
      },
      "execution_count": null,
      "outputs": []
    },
    {
      "cell_type": "code",
      "source": [],
      "metadata": {
        "id": "Kzvzvo8KXbBY"
      },
      "execution_count": null,
      "outputs": []
    },
    {
      "cell_type": "code",
      "source": [],
      "metadata": {
        "id": "eUWyBTMjXa0G"
      },
      "execution_count": null,
      "outputs": []
    },
    {
      "cell_type": "code",
      "source": [
        "b"
      ],
      "metadata": {
        "id": "yPiivxYVXaaC"
      },
      "execution_count": null,
      "outputs": []
    },
    {
      "cell_type": "code",
      "source": [],
      "metadata": {
        "id": "0BaqnWcaXZxj"
      },
      "execution_count": null,
      "outputs": []
    },
    {
      "cell_type": "code",
      "source": [
        "b"
      ],
      "metadata": {
        "id": "1TUwxYLLXYNn"
      },
      "execution_count": null,
      "outputs": []
    },
    {
      "cell_type": "code",
      "source": [],
      "metadata": {
        "id": "4NGmfUJWXYI6"
      },
      "execution_count": null,
      "outputs": []
    },
    {
      "cell_type": "code",
      "source": [],
      "metadata": {
        "id": "kVjOc3BcXYGG"
      },
      "execution_count": null,
      "outputs": []
    },
    {
      "cell_type": "code",
      "source": [],
      "metadata": {
        "id": "5kxHaaAAXYC3"
      },
      "execution_count": null,
      "outputs": []
    },
    {
      "cell_type": "code",
      "source": [],
      "metadata": {
        "id": "44LXfPGcXYAD"
      },
      "execution_count": null,
      "outputs": []
    },
    {
      "cell_type": "code",
      "source": [],
      "metadata": {
        "id": "hOkOaK1JXX8k"
      },
      "execution_count": null,
      "outputs": []
    },
    {
      "cell_type": "code",
      "source": [],
      "metadata": {
        "id": "rIFjeKZxXX45"
      },
      "execution_count": null,
      "outputs": []
    },
    {
      "cell_type": "code",
      "source": [],
      "metadata": {
        "id": "zXf2g6W6XX1J"
      },
      "execution_count": null,
      "outputs": []
    },
    {
      "cell_type": "code",
      "source": [],
      "metadata": {
        "id": "wLrjVHDvXXxD"
      },
      "execution_count": null,
      "outputs": []
    },
    {
      "cell_type": "code",
      "source": [],
      "metadata": {
        "id": "adkuH1mfXXua"
      },
      "execution_count": null,
      "outputs": []
    },
    {
      "cell_type": "code",
      "source": [],
      "metadata": {
        "id": "gs--dFlDXXqL"
      },
      "execution_count": null,
      "outputs": []
    },
    {
      "cell_type": "code",
      "source": [
        "b"
      ],
      "metadata": {
        "id": "ZV6uFVzbXXmL"
      },
      "execution_count": null,
      "outputs": []
    },
    {
      "cell_type": "code",
      "source": [],
      "metadata": {
        "id": "iCLkjsjiXXhB"
      },
      "execution_count": null,
      "outputs": []
    },
    {
      "cell_type": "code",
      "source": [],
      "metadata": {
        "id": "G6LUTf2kXXbk"
      },
      "execution_count": null,
      "outputs": []
    },
    {
      "cell_type": "code",
      "source": [],
      "metadata": {
        "id": "lJYBPyKpXXYa"
      },
      "execution_count": null,
      "outputs": []
    },
    {
      "cell_type": "code",
      "source": [],
      "metadata": {
        "id": "mQwvFNS8XXVh"
      },
      "execution_count": null,
      "outputs": []
    },
    {
      "cell_type": "code",
      "source": [],
      "metadata": {
        "id": "zKY2f2mvXXS7"
      },
      "execution_count": null,
      "outputs": []
    },
    {
      "cell_type": "code",
      "source": [],
      "metadata": {
        "id": "bPZzV1j2XXPr"
      },
      "execution_count": null,
      "outputs": []
    },
    {
      "cell_type": "code",
      "source": [
        "b"
      ],
      "metadata": {
        "id": "iJX49-oeXXKN"
      },
      "execution_count": null,
      "outputs": []
    },
    {
      "cell_type": "code",
      "source": [],
      "metadata": {
        "id": "IdjFhijDXXHD"
      },
      "execution_count": null,
      "outputs": []
    },
    {
      "cell_type": "code",
      "source": [],
      "metadata": {
        "id": "6XAbGbHIXXD9"
      },
      "execution_count": null,
      "outputs": []
    },
    {
      "cell_type": "code",
      "source": [],
      "metadata": {
        "id": "XqVarkg-XXAM"
      },
      "execution_count": null,
      "outputs": []
    },
    {
      "cell_type": "code",
      "source": [],
      "metadata": {
        "id": "Yd0xJAHMXW8F"
      },
      "execution_count": null,
      "outputs": []
    },
    {
      "cell_type": "code",
      "source": [],
      "metadata": {
        "id": "rJmASnuTXW30"
      },
      "execution_count": null,
      "outputs": []
    },
    {
      "cell_type": "code",
      "source": [],
      "metadata": {
        "id": "7i8VRnPCXWzN"
      },
      "execution_count": null,
      "outputs": []
    },
    {
      "cell_type": "code",
      "source": [],
      "metadata": {
        "id": "Ak6jXgfEXWvC"
      },
      "execution_count": null,
      "outputs": []
    },
    {
      "cell_type": "code",
      "source": [],
      "metadata": {
        "id": "wqHa3y7BXWpn"
      },
      "execution_count": null,
      "outputs": []
    },
    {
      "cell_type": "code",
      "source": [],
      "metadata": {
        "id": "dWP6u683XWku"
      },
      "execution_count": null,
      "outputs": []
    },
    {
      "cell_type": "code",
      "source": [],
      "metadata": {
        "id": "7WFizV6tXWgJ"
      },
      "execution_count": null,
      "outputs": []
    },
    {
      "cell_type": "code",
      "source": [],
      "metadata": {
        "id": "JzWoYMlHXWcB"
      },
      "execution_count": null,
      "outputs": []
    },
    {
      "cell_type": "code",
      "source": [],
      "metadata": {
        "id": "hHyDrAJcXWWJ"
      },
      "execution_count": null,
      "outputs": []
    },
    {
      "cell_type": "code",
      "source": [],
      "metadata": {
        "id": "-AlHK8bdXWRK"
      },
      "execution_count": null,
      "outputs": []
    },
    {
      "cell_type": "code",
      "source": [],
      "metadata": {
        "id": "eL6ibuC2XWLw"
      },
      "execution_count": null,
      "outputs": []
    },
    {
      "cell_type": "code",
      "source": [],
      "metadata": {
        "id": "ZDMOUOqmXWG-"
      },
      "execution_count": null,
      "outputs": []
    },
    {
      "cell_type": "code",
      "source": [],
      "metadata": {
        "id": "ms2cXV8pXWB0"
      },
      "execution_count": null,
      "outputs": []
    },
    {
      "cell_type": "code",
      "source": [],
      "metadata": {
        "id": "sTRzJ5z0XV9O"
      },
      "execution_count": null,
      "outputs": []
    },
    {
      "cell_type": "code",
      "source": [],
      "metadata": {
        "id": "rire_mwoXV4Y"
      },
      "execution_count": null,
      "outputs": []
    },
    {
      "cell_type": "code",
      "source": [],
      "metadata": {
        "id": "mjtyNCkRXVzL"
      },
      "execution_count": null,
      "outputs": []
    },
    {
      "cell_type": "code",
      "source": [],
      "metadata": {
        "id": "fKc8tF3kXVuV"
      },
      "execution_count": null,
      "outputs": []
    },
    {
      "cell_type": "code",
      "source": [],
      "metadata": {
        "id": "3VmuB3hiXVpB"
      },
      "execution_count": null,
      "outputs": []
    },
    {
      "cell_type": "code",
      "source": [],
      "metadata": {
        "id": "diWhVxVTXVj3"
      },
      "execution_count": null,
      "outputs": []
    },
    {
      "cell_type": "code",
      "source": [],
      "metadata": {
        "id": "n01Y7NqzXVfI"
      },
      "execution_count": null,
      "outputs": []
    },
    {
      "cell_type": "code",
      "source": [],
      "metadata": {
        "id": "p73sLOE0XVZY"
      },
      "execution_count": null,
      "outputs": []
    },
    {
      "cell_type": "code",
      "source": [],
      "metadata": {
        "id": "nWqZRrAmXVTE"
      },
      "execution_count": null,
      "outputs": []
    },
    {
      "cell_type": "code",
      "source": [],
      "metadata": {
        "id": "-8Yd8WwiXVMJ"
      },
      "execution_count": null,
      "outputs": []
    },
    {
      "cell_type": "code",
      "source": [],
      "metadata": {
        "id": "aDb1KzIaXVA9"
      },
      "execution_count": null,
      "outputs": []
    },
    {
      "cell_type": "code",
      "source": [],
      "metadata": {
        "id": "pbu64dQUXU6Z"
      },
      "execution_count": null,
      "outputs": []
    },
    {
      "cell_type": "code",
      "source": [],
      "metadata": {
        "id": "UayL6IILXUya"
      },
      "execution_count": null,
      "outputs": []
    },
    {
      "cell_type": "code",
      "source": [],
      "metadata": {
        "id": "_Gm99WKGXUoy"
      },
      "execution_count": null,
      "outputs": []
    },
    {
      "cell_type": "code",
      "source": [],
      "metadata": {
        "id": "6zFETRM3XUe5"
      },
      "execution_count": null,
      "outputs": []
    },
    {
      "cell_type": "code",
      "source": [],
      "metadata": {
        "id": "U53YrA0kXUTJ"
      },
      "execution_count": null,
      "outputs": []
    },
    {
      "cell_type": "code",
      "source": [],
      "metadata": {
        "id": "ubKOJlSWXUD-"
      },
      "execution_count": null,
      "outputs": []
    }
  ]
}